{
 "cells": [
  {
   "cell_type": "code",
   "execution_count": 2,
   "metadata": {
    "id": "7gGl05X3tL4W",
    "scrolled": true
   },
   "outputs": [],
   "source": [
    "import pandas as pd\n",
    "import sklearn\n",
    "import matplotlib.pyplot as plt\n",
    "import numpy as np\n",
    "import holidays\n",
    "import datetime\n",
    "%matplotlib inline"
   ]
  },
  {
   "cell_type": "code",
   "execution_count": 3,
   "metadata": {
    "colab": {
     "base_uri": "https://localhost:8080/",
     "height": 67
    },
    "id": "R4yYMwUGNA32",
    "outputId": "d7578a90-f5dc-4883-d58b-012a54011eea"
   },
   "outputs": [
    {
     "name": "stderr",
     "output_type": "stream",
     "text": [
      "pwd: unknown option -- l\n",
      "Try 'pwd --help' for more information.\n"
     ]
    }
   ],
   "source": [
    "!pwd; ls -ll;"
   ]
  },
  {
   "cell_type": "markdown",
   "metadata": {},
   "source": [
    "2 Cells below is relevant only when activating on cloud / Linux machine.\n",
    "Since on Windows  google.colab not working\n"
   ]
  },
  {
   "cell_type": "markdown",
   "metadata": {
    "colab": {
     "base_uri": "https://localhost:8080/",
     "height": 73,
     "resources": {
      "http://localhost:8080/nbextensions/google.colab/files.js": {
       "data": "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",
       "headers": [
        [
         "content-type",
         "application/javascript"
        ]
       ],
       "ok": true,
       "status": 200,
       "status_text": ""
      }
     }
    },
    "id": "r8-ivoruQXS5",
    "outputId": "304193b4-77e2-4ecb-f57f-469553468803"
   },
   "source": [
    "from google.colab import files\n",
    "uploaded = files.upload()"
   ]
  },
  {
   "cell_type": "markdown",
   "metadata": {
    "colab": {
     "base_uri": "https://localhost:8080/",
     "height": 774
    },
    "id": "ApcotWpvtL4Z",
    "outputId": "c4f52494-3377-4154-a6d5-d9002b9f88a3"
   },
   "source": [
    "import io\n",
    "DataFrame = pd.read_csv(io.BytesIO(uploaded['Crimes_-_2020.csv']))\n",
    "DataFrame"
   ]
  },
  {
   "cell_type": "markdown",
   "metadata": {},
   "source": [
    "Update csv data bease:\n",
    "https://drive.google.com/file/d/1s5lavM_C9aLsgdFzUmXOfbh_XvSxl-G4/view?usp=sharing"
   ]
  },
  {
   "cell_type": "code",
   "execution_count": 4,
   "metadata": {},
   "outputs": [],
   "source": [
    "DataFrame = pd.read_csv(\"Crimes_-_2019_to_Present.csv\")"
   ]
  },
  {
   "cell_type": "code",
   "execution_count": 19,
   "metadata": {},
   "outputs": [],
   "source": [
    "Sunrise = pd.read_csv('sunrise-chicago.csv')\n",
    "\n",
    "# Add converted columns\n",
    "Sunrise['dtsunset']=Sunrise.apply(lambda x: datetime.datetime.combine(pd.to_datetime(x['date']), pd.to_datetime(x['sunset']).time()), axis=1)\n",
    "Sunrise['dtsunrise']=Sunrise.apply(lambda x: datetime.datetime.combine(pd.to_datetime(x['date']), pd.to_datetime(x['sunrise']).time()), axis=1)\n",
    "\n",
    "# a constant defining the time between sunset and darkness\n",
    "delta_sunset = datetime.timedelta(0,3600)\n",
    "#TODO: check exact delta, set another constant for sunrise time\n",
    "\n",
    "# Accepts datetime in string, returns boolean if it's in night time\n",
    "def is_dark(datecol) :\n",
    "  d = pd.to_datetime(datecol)\n",
    "  row = Sunrise.loc[Sunrise['date']==d.strftime(\"%Y-%m-%d\")]\n",
    "  return d < row['dtsunrise'].item() or d > (row['dtsunset'].item() + delta_sunset)\n",
    "\n",
    "# Add IsDark colunm to DataFrame\n",
    "# for tests, uncomment the next line and comment the line after it\n",
    "#DataFrame = DataFrame.head()\n",
    "DataFrame['IsDark']=DataFrame.apply(lambda x: is_dark(x['Date']) ,axis=1)\n"
   ]
  },
  {
   "cell_type": "markdown",
   "metadata": {
    "id": "x1H6ac8NTAyl"
   },
   "source": [
    "Based on link below, we shall use FBI code instead of IUCR .\n",
    "http://gis.chicagopolice.org/clearmap_crime_sums/crime_types.html#N04A\n",
    "For example :\n",
    "\n",
    "> **FBI code** - Homicide 1st & 2nd Degree - 01A\n",
    "\n",
    "> **IUCR** \n",
    "*  0110 HOMICIDE FIRST DEGREE MURDER\n",
    "*  0130 HOMICIDE SECOND DEGREE MURDER\n",
    "\n",
    "> **FBI code** - Nonvoluntary Manslaughter - 01B\n",
    "\n",
    "> **IUCR** \n",
    "*    0141 HOMICIDE INVOLUNTARY MANSLAUGHTER\n",
    "*    0142 HOMICIDE RECKLESS HOMICIDE"
   ]
  },
  {
   "cell_type": "code",
   "execution_count": 5,
   "metadata": {},
   "outputs": [
    {
     "data": {
      "text/plain": [
       "Index([u'Unnamed: 0', u'ID', u'Case Number', u'Date', u'Block', u'IUCR',\n",
       "       u'Primary Type', u'Description', u'Location Description', u'Arrest',\n",
       "       u'Domestic', u'Beat', u'District', u'Ward', u'Community Area',\n",
       "       u'FBI Code', u'X Coordinate', u'Y Coordinate', u'Year', u'Updated On',\n",
       "       u'Latitude', u'Longitude', u'Location'],\n",
       "      dtype='object')"
      ]
     },
     "execution_count": 5,
     "metadata": {},
     "output_type": "execute_result"
    }
   ],
   "source": [
    "DataFrame.columns"
   ]
  },
  {
   "cell_type": "markdown",
   "metadata": {
    "id": "pjDm1hzAUWF8"
   },
   "source": [
    "**dt0 - Seasons numeric**\n",
    "\n",
    "*   4- Fall   - Lowest crime rate\n",
    "*   3- Summer - Highest crime rate\n",
    "\n",
    "*   2- Spring\n",
    "*   1- Winter\n",
    "\n",
    "**dt1 - Weekday numeric**\n",
    " The day of the week with Monday=0, Sunday=6 \n",
    " \n",
    "**dt2 - Weekday string** \n",
    "\n",
    "*  Sunday - Highest rate crimes\n",
    "*  Tuesday - Lowest rate crimes\n",
    "\n",
    "\n",
    "   \n",
    "    \n"
   ]
  },
  {
   "cell_type": "code",
   "execution_count": 6,
   "metadata": {},
   "outputs": [
    {
     "name": "stdout",
     "output_type": "stream",
     "text": [
      "2020-12-25\n",
      "2020-07-03\n",
      "2020-11-26\n",
      "2020-07-04\n",
      "2020-10-12\n",
      "2020-05-25\n",
      "2020-01-20\n",
      "2020-11-11\n",
      "2020-09-07\n",
      "2020-01-01\n",
      "2020-02-17\n"
     ]
    }
   ],
   "source": [
    "for date in holidays.UnitedStates(years=2020).items():print(str(date[0]))"
   ]
  },
  {
   "cell_type": "code",
   "execution_count": 7,
   "metadata": {},
   "outputs": [
    {
     "name": "stdout",
     "output_type": "stream",
     "text": [
      "['2020-12-25', '2020-07-03', '2020-11-26', '2020-07-04', '2020-10-12', '2020-05-25', '2020-01-20', '2020-11-11', '2020-09-07', '2020-01-01', '2020-02-17']\n"
     ]
    }
   ],
   "source": [
    "us_holidays = []\n",
    "for date in holidays.UnitedStates(years=2020).items():\n",
    "    us_holidays.append(str(date[0]))\n",
    "print(us_holidays)"
   ]
  },
  {
   "cell_type": "code",
   "execution_count": 8,
   "metadata": {
    "colab": {
     "base_uri": "https://localhost:8080/",
     "height": 101
    },
    "id": "iAZelH3eU38W",
    "outputId": "9ab1f6cf-116a-4cf3-9b1e-f3cb363e972f"
   },
   "outputs": [
    {
     "data": {
      "text/plain": [
       "Index([u'Unnamed: 0', u'Date', u'Primary Type', u'Location Description',\n",
       "       u'District', u'Community Area', u'Year', u'Latitude', u'Longitude',\n",
       "       u'Season', u'Weekday', u'Just_Date', u'Is_Holiday', u'Day_of_Month',\n",
       "       u'Month'],\n",
       "      dtype='object')"
      ]
     },
     "execution_count": 8,
     "metadata": {},
     "output_type": "execute_result"
    }
   ],
   "source": [
    "dt0 = DataFrame.copy()\n",
    "dt0.drop(['ID', 'Case Number', 'Updated On', 'Block', 'IUCR', 'Description', 'Domestic','Arrest', 'Beat', 'Location', 'X Coordinate', 'Y Coordinate', 'Ward', 'FBI Code'], 1, inplace=True)\n",
    "dt0[\"Season\"] = (pd.to_datetime(dt0['Date'], format=\"%m/%d/%Y %I:%M:%S %p\").dt.month%12 + 3)//3\n",
    "dt0[\"Weekday\"] = pd.to_datetime(dt0['Date'], format=\"%m/%d/%Y %I:%M:%S %p\").dt.dayofweek\n",
    "dt0[\"Just_Date\"] = (pd.to_datetime(dt0['Date'])).dt.date\n",
    "dt0[\"Is_Holiday\"] = [ 1 if str(val).split()[0] in us_holidays else 0 for val in dt0[\"Just_Date\"]]\n",
    "dt0[\"Day_of_Month\"] = pd.to_datetime(dt0[\"Just_Date\"]).dt.day\n",
    "dt0[\"Month\"] = pd.to_datetime(dt0[\"Just_Date\"]).dt.month\n",
    "#dt0[\"Day_of_Month\"] = pd.to_datetime(dt0['Just_Date']).dt.day.values\n",
    "##dt0[\"just_date\"] = dt0['Date'].dt.date\n",
    "##  dt0[\"Date\"] = (pd.to_datetime(dt0['Date'], format=\"%m/%d/%Y %I:%M:%S %p\").dt.month%12 + 3)//3\n",
    "## dt0[\"Date\"].value_counts()\n",
    "dt0.columns"
   ]
  },
  {
   "cell_type": "code",
   "execution_count": 9,
   "metadata": {},
   "outputs": [
    {
     "data": {
      "text/html": [
       "<div>\n",
       "<style scoped>\n",
       "    .dataframe tbody tr th:only-of-type {\n",
       "        vertical-align: middle;\n",
       "    }\n",
       "\n",
       "    .dataframe tbody tr th {\n",
       "        vertical-align: top;\n",
       "    }\n",
       "\n",
       "    .dataframe thead th {\n",
       "        text-align: right;\n",
       "    }\n",
       "</style>\n",
       "<table border=\"1\" class=\"dataframe\">\n",
       "  <thead>\n",
       "    <tr style=\"text-align: right;\">\n",
       "      <th></th>\n",
       "      <th>Unnamed: 0</th>\n",
       "      <th>Date</th>\n",
       "      <th>Primary Type</th>\n",
       "      <th>Location Description</th>\n",
       "      <th>District</th>\n",
       "      <th>Community Area</th>\n",
       "      <th>Year</th>\n",
       "      <th>Latitude</th>\n",
       "      <th>Longitude</th>\n",
       "      <th>Season</th>\n",
       "      <th>Weekday</th>\n",
       "      <th>Just_Date</th>\n",
       "      <th>Is_Holiday</th>\n",
       "      <th>Day_of_Month</th>\n",
       "      <th>Month</th>\n",
       "    </tr>\n",
       "  </thead>\n",
       "  <tbody>\n",
       "    <tr>\n",
       "      <th>0</th>\n",
       "      <td>136</td>\n",
       "      <td>03/19/2019 04:30:00 PM</td>\n",
       "      <td>THEFT</td>\n",
       "      <td>GROCERY FOOD STORE</td>\n",
       "      <td>17.0</td>\n",
       "      <td>13.0</td>\n",
       "      <td>2019</td>\n",
       "      <td>NaN</td>\n",
       "      <td>NaN</td>\n",
       "      <td>2</td>\n",
       "      <td>1</td>\n",
       "      <td>2019-03-19</td>\n",
       "      <td>0</td>\n",
       "      <td>19</td>\n",
       "      <td>3</td>\n",
       "    </tr>\n",
       "    <tr>\n",
       "      <th>1</th>\n",
       "      <td>148</td>\n",
       "      <td>03/19/2019 09:00:00 AM</td>\n",
       "      <td>THEFT</td>\n",
       "      <td>STREET</td>\n",
       "      <td>12.0</td>\n",
       "      <td>31.0</td>\n",
       "      <td>2019</td>\n",
       "      <td>NaN</td>\n",
       "      <td>NaN</td>\n",
       "      <td>2</td>\n",
       "      <td>1</td>\n",
       "      <td>2019-03-19</td>\n",
       "      <td>0</td>\n",
       "      <td>19</td>\n",
       "      <td>3</td>\n",
       "    </tr>\n",
       "    <tr>\n",
       "      <th>2</th>\n",
       "      <td>258</td>\n",
       "      <td>02/11/2019 05:50:00 PM</td>\n",
       "      <td>THEFT</td>\n",
       "      <td>RESIDENTIAL YARD (FRONT/BACK)</td>\n",
       "      <td>14.0</td>\n",
       "      <td>22.0</td>\n",
       "      <td>2019</td>\n",
       "      <td>NaN</td>\n",
       "      <td>NaN</td>\n",
       "      <td>1</td>\n",
       "      <td>0</td>\n",
       "      <td>2019-02-11</td>\n",
       "      <td>0</td>\n",
       "      <td>11</td>\n",
       "      <td>2</td>\n",
       "    </tr>\n",
       "    <tr>\n",
       "      <th>3</th>\n",
       "      <td>279</td>\n",
       "      <td>03/20/2019 07:00:00 PM</td>\n",
       "      <td>CRIMINAL DAMAGE</td>\n",
       "      <td>STREET</td>\n",
       "      <td>24.0</td>\n",
       "      <td>2.0</td>\n",
       "      <td>2019</td>\n",
       "      <td>NaN</td>\n",
       "      <td>NaN</td>\n",
       "      <td>2</td>\n",
       "      <td>2</td>\n",
       "      <td>2019-03-20</td>\n",
       "      <td>0</td>\n",
       "      <td>20</td>\n",
       "      <td>3</td>\n",
       "    </tr>\n",
       "    <tr>\n",
       "      <th>4</th>\n",
       "      <td>286</td>\n",
       "      <td>03/20/2019 01:00:00 AM</td>\n",
       "      <td>THEFT</td>\n",
       "      <td>OTHER</td>\n",
       "      <td>24.0</td>\n",
       "      <td>77.0</td>\n",
       "      <td>2019</td>\n",
       "      <td>NaN</td>\n",
       "      <td>NaN</td>\n",
       "      <td>2</td>\n",
       "      <td>2</td>\n",
       "      <td>2019-03-20</td>\n",
       "      <td>0</td>\n",
       "      <td>20</td>\n",
       "      <td>3</td>\n",
       "    </tr>\n",
       "    <tr>\n",
       "      <th>5</th>\n",
       "      <td>298</td>\n",
       "      <td>03/20/2019 01:30:00 PM</td>\n",
       "      <td>DECEPTIVE PRACTICE</td>\n",
       "      <td>OTHER</td>\n",
       "      <td>25.0</td>\n",
       "      <td>25.0</td>\n",
       "      <td>2019</td>\n",
       "      <td>NaN</td>\n",
       "      <td>NaN</td>\n",
       "      <td>2</td>\n",
       "      <td>2</td>\n",
       "      <td>2019-03-20</td>\n",
       "      <td>0</td>\n",
       "      <td>20</td>\n",
       "      <td>3</td>\n",
       "    </tr>\n",
       "    <tr>\n",
       "      <th>6</th>\n",
       "      <td>342</td>\n",
       "      <td>02/01/2019 01:00:00 AM</td>\n",
       "      <td>DECEPTIVE PRACTICE</td>\n",
       "      <td>NaN</td>\n",
       "      <td>17.0</td>\n",
       "      <td>16.0</td>\n",
       "      <td>2019</td>\n",
       "      <td>NaN</td>\n",
       "      <td>NaN</td>\n",
       "      <td>1</td>\n",
       "      <td>4</td>\n",
       "      <td>2019-02-01</td>\n",
       "      <td>0</td>\n",
       "      <td>1</td>\n",
       "      <td>2</td>\n",
       "    </tr>\n",
       "    <tr>\n",
       "      <th>7</th>\n",
       "      <td>345</td>\n",
       "      <td>03/31/2019 01:00:00 AM</td>\n",
       "      <td>THEFT</td>\n",
       "      <td>BAR OR TAVERN</td>\n",
       "      <td>18.0</td>\n",
       "      <td>8.0</td>\n",
       "      <td>2019</td>\n",
       "      <td>NaN</td>\n",
       "      <td>NaN</td>\n",
       "      <td>2</td>\n",
       "      <td>6</td>\n",
       "      <td>2019-03-31</td>\n",
       "      <td>0</td>\n",
       "      <td>31</td>\n",
       "      <td>3</td>\n",
       "    </tr>\n",
       "    <tr>\n",
       "      <th>8</th>\n",
       "      <td>533</td>\n",
       "      <td>03/31/2019 11:00:00 AM</td>\n",
       "      <td>THEFT</td>\n",
       "      <td>HOTEL/MOTEL</td>\n",
       "      <td>1.0</td>\n",
       "      <td>32.0</td>\n",
       "      <td>2019</td>\n",
       "      <td>NaN</td>\n",
       "      <td>NaN</td>\n",
       "      <td>2</td>\n",
       "      <td>6</td>\n",
       "      <td>2019-03-31</td>\n",
       "      <td>0</td>\n",
       "      <td>31</td>\n",
       "      <td>3</td>\n",
       "    </tr>\n",
       "    <tr>\n",
       "      <th>9</th>\n",
       "      <td>707</td>\n",
       "      <td>03/21/2019 12:00:00 PM</td>\n",
       "      <td>THEFT</td>\n",
       "      <td>APARTMENT</td>\n",
       "      <td>12.0</td>\n",
       "      <td>24.0</td>\n",
       "      <td>2019</td>\n",
       "      <td>NaN</td>\n",
       "      <td>NaN</td>\n",
       "      <td>2</td>\n",
       "      <td>3</td>\n",
       "      <td>2019-03-21</td>\n",
       "      <td>0</td>\n",
       "      <td>21</td>\n",
       "      <td>3</td>\n",
       "    </tr>\n",
       "    <tr>\n",
       "      <th>10</th>\n",
       "      <td>768</td>\n",
       "      <td>03/22/2019 09:30:00 PM</td>\n",
       "      <td>THEFT</td>\n",
       "      <td>OTHER</td>\n",
       "      <td>9.0</td>\n",
       "      <td>61.0</td>\n",
       "      <td>2019</td>\n",
       "      <td>NaN</td>\n",
       "      <td>NaN</td>\n",
       "      <td>2</td>\n",
       "      <td>4</td>\n",
       "      <td>2019-03-22</td>\n",
       "      <td>0</td>\n",
       "      <td>22</td>\n",
       "      <td>3</td>\n",
       "    </tr>\n",
       "    <tr>\n",
       "      <th>11</th>\n",
       "      <td>864</td>\n",
       "      <td>03/22/2019 03:30:00 PM</td>\n",
       "      <td>DECEPTIVE PRACTICE</td>\n",
       "      <td>NaN</td>\n",
       "      <td>1.0</td>\n",
       "      <td>33.0</td>\n",
       "      <td>2019</td>\n",
       "      <td>NaN</td>\n",
       "      <td>NaN</td>\n",
       "      <td>2</td>\n",
       "      <td>4</td>\n",
       "      <td>2019-03-22</td>\n",
       "      <td>0</td>\n",
       "      <td>22</td>\n",
       "      <td>3</td>\n",
       "    </tr>\n",
       "    <tr>\n",
       "      <th>12</th>\n",
       "      <td>875</td>\n",
       "      <td>03/22/2019 05:00:00 PM</td>\n",
       "      <td>THEFT</td>\n",
       "      <td>RESIDENCE-GARAGE</td>\n",
       "      <td>14.0</td>\n",
       "      <td>24.0</td>\n",
       "      <td>2019</td>\n",
       "      <td>NaN</td>\n",
       "      <td>NaN</td>\n",
       "      <td>2</td>\n",
       "      <td>4</td>\n",
       "      <td>2019-03-22</td>\n",
       "      <td>0</td>\n",
       "      <td>22</td>\n",
       "      <td>3</td>\n",
       "    </tr>\n",
       "    <tr>\n",
       "      <th>13</th>\n",
       "      <td>880</td>\n",
       "      <td>03/22/2019 12:00:00 AM</td>\n",
       "      <td>DECEPTIVE PRACTICE</td>\n",
       "      <td>RESIDENCE</td>\n",
       "      <td>14.0</td>\n",
       "      <td>22.0</td>\n",
       "      <td>2019</td>\n",
       "      <td>NaN</td>\n",
       "      <td>NaN</td>\n",
       "      <td>2</td>\n",
       "      <td>4</td>\n",
       "      <td>2019-03-22</td>\n",
       "      <td>0</td>\n",
       "      <td>22</td>\n",
       "      <td>3</td>\n",
       "    </tr>\n",
       "    <tr>\n",
       "      <th>14</th>\n",
       "      <td>927</td>\n",
       "      <td>01/02/2019 04:00:00 PM</td>\n",
       "      <td>THEFT</td>\n",
       "      <td>AIRPORT EXTERIOR - NON-SECURE AREA</td>\n",
       "      <td>16.0</td>\n",
       "      <td>76.0</td>\n",
       "      <td>2019</td>\n",
       "      <td>NaN</td>\n",
       "      <td>NaN</td>\n",
       "      <td>1</td>\n",
       "      <td>2</td>\n",
       "      <td>2019-01-02</td>\n",
       "      <td>0</td>\n",
       "      <td>2</td>\n",
       "      <td>1</td>\n",
       "    </tr>\n",
       "    <tr>\n",
       "      <th>15</th>\n",
       "      <td>976</td>\n",
       "      <td>03/26/2019 06:20:00 PM</td>\n",
       "      <td>THEFT</td>\n",
       "      <td>RESIDENCE</td>\n",
       "      <td>6.0</td>\n",
       "      <td>44.0</td>\n",
       "      <td>2019</td>\n",
       "      <td>NaN</td>\n",
       "      <td>NaN</td>\n",
       "      <td>2</td>\n",
       "      <td>1</td>\n",
       "      <td>2019-03-26</td>\n",
       "      <td>0</td>\n",
       "      <td>26</td>\n",
       "      <td>3</td>\n",
       "    </tr>\n",
       "    <tr>\n",
       "      <th>16</th>\n",
       "      <td>987</td>\n",
       "      <td>03/26/2019 12:30:00 PM</td>\n",
       "      <td>THEFT</td>\n",
       "      <td>APARTMENT</td>\n",
       "      <td>12.0</td>\n",
       "      <td>24.0</td>\n",
       "      <td>2019</td>\n",
       "      <td>NaN</td>\n",
       "      <td>NaN</td>\n",
       "      <td>2</td>\n",
       "      <td>1</td>\n",
       "      <td>2019-03-26</td>\n",
       "      <td>0</td>\n",
       "      <td>26</td>\n",
       "      <td>3</td>\n",
       "    </tr>\n",
       "    <tr>\n",
       "      <th>17</th>\n",
       "      <td>995</td>\n",
       "      <td>03/26/2019 03:00:00 PM</td>\n",
       "      <td>THEFT</td>\n",
       "      <td>RESIDENTIAL YARD (FRONT/BACK)</td>\n",
       "      <td>19.0</td>\n",
       "      <td>7.0</td>\n",
       "      <td>2019</td>\n",
       "      <td>NaN</td>\n",
       "      <td>NaN</td>\n",
       "      <td>2</td>\n",
       "      <td>1</td>\n",
       "      <td>2019-03-26</td>\n",
       "      <td>0</td>\n",
       "      <td>26</td>\n",
       "      <td>3</td>\n",
       "    </tr>\n",
       "    <tr>\n",
       "      <th>18</th>\n",
       "      <td>1034</td>\n",
       "      <td>03/27/2019 08:35:00 PM</td>\n",
       "      <td>THEFT</td>\n",
       "      <td>APARTMENT</td>\n",
       "      <td>12.0</td>\n",
       "      <td>24.0</td>\n",
       "      <td>2019</td>\n",
       "      <td>NaN</td>\n",
       "      <td>NaN</td>\n",
       "      <td>2</td>\n",
       "      <td>2</td>\n",
       "      <td>2019-03-27</td>\n",
       "      <td>0</td>\n",
       "      <td>27</td>\n",
       "      <td>3</td>\n",
       "    </tr>\n",
       "    <tr>\n",
       "      <th>19</th>\n",
       "      <td>1099</td>\n",
       "      <td>03/07/2019 09:15:00 AM</td>\n",
       "      <td>DECEPTIVE PRACTICE</td>\n",
       "      <td>APARTMENT</td>\n",
       "      <td>12.0</td>\n",
       "      <td>24.0</td>\n",
       "      <td>2019</td>\n",
       "      <td>NaN</td>\n",
       "      <td>NaN</td>\n",
       "      <td>2</td>\n",
       "      <td>3</td>\n",
       "      <td>2019-03-07</td>\n",
       "      <td>0</td>\n",
       "      <td>7</td>\n",
       "      <td>3</td>\n",
       "    </tr>\n",
       "    <tr>\n",
       "      <th>20</th>\n",
       "      <td>1140</td>\n",
       "      <td>03/28/2019 04:00:00 PM</td>\n",
       "      <td>DECEPTIVE PRACTICE</td>\n",
       "      <td>PARKING LOT/GARAGE(NON.RESID.)</td>\n",
       "      <td>19.0</td>\n",
       "      <td>6.0</td>\n",
       "      <td>2019</td>\n",
       "      <td>NaN</td>\n",
       "      <td>NaN</td>\n",
       "      <td>2</td>\n",
       "      <td>3</td>\n",
       "      <td>2019-03-28</td>\n",
       "      <td>0</td>\n",
       "      <td>28</td>\n",
       "      <td>3</td>\n",
       "    </tr>\n",
       "    <tr>\n",
       "      <th>21</th>\n",
       "      <td>1194</td>\n",
       "      <td>03/29/2019 07:00:00 PM</td>\n",
       "      <td>THEFT</td>\n",
       "      <td>RESIDENCE PORCH/HALLWAY</td>\n",
       "      <td>25.0</td>\n",
       "      <td>25.0</td>\n",
       "      <td>2019</td>\n",
       "      <td>NaN</td>\n",
       "      <td>NaN</td>\n",
       "      <td>2</td>\n",
       "      <td>4</td>\n",
       "      <td>2019-03-29</td>\n",
       "      <td>0</td>\n",
       "      <td>29</td>\n",
       "      <td>3</td>\n",
       "    </tr>\n",
       "    <tr>\n",
       "      <th>22</th>\n",
       "      <td>1231</td>\n",
       "      <td>03/29/2019 11:30:00 AM</td>\n",
       "      <td>DECEPTIVE PRACTICE</td>\n",
       "      <td>RESTAURANT</td>\n",
       "      <td>1.0</td>\n",
       "      <td>32.0</td>\n",
       "      <td>2019</td>\n",
       "      <td>NaN</td>\n",
       "      <td>NaN</td>\n",
       "      <td>2</td>\n",
       "      <td>4</td>\n",
       "      <td>2019-03-29</td>\n",
       "      <td>0</td>\n",
       "      <td>29</td>\n",
       "      <td>3</td>\n",
       "    </tr>\n",
       "    <tr>\n",
       "      <th>23</th>\n",
       "      <td>1347</td>\n",
       "      <td>03/31/2019 09:30:00 AM</td>\n",
       "      <td>THEFT</td>\n",
       "      <td>RESTAURANT</td>\n",
       "      <td>12.0</td>\n",
       "      <td>24.0</td>\n",
       "      <td>2019</td>\n",
       "      <td>NaN</td>\n",
       "      <td>NaN</td>\n",
       "      <td>2</td>\n",
       "      <td>6</td>\n",
       "      <td>2019-03-31</td>\n",
       "      <td>0</td>\n",
       "      <td>31</td>\n",
       "      <td>3</td>\n",
       "    </tr>\n",
       "    <tr>\n",
       "      <th>24</th>\n",
       "      <td>1364</td>\n",
       "      <td>03/31/2019 12:30:00 PM</td>\n",
       "      <td>THEFT</td>\n",
       "      <td>ATHLETIC CLUB</td>\n",
       "      <td>10.0</td>\n",
       "      <td>29.0</td>\n",
       "      <td>2019</td>\n",
       "      <td>NaN</td>\n",
       "      <td>NaN</td>\n",
       "      <td>2</td>\n",
       "      <td>6</td>\n",
       "      <td>2019-03-31</td>\n",
       "      <td>0</td>\n",
       "      <td>31</td>\n",
       "      <td>3</td>\n",
       "    </tr>\n",
       "    <tr>\n",
       "      <th>25</th>\n",
       "      <td>1411</td>\n",
       "      <td>02/23/2019 11:00:00 PM</td>\n",
       "      <td>THEFT</td>\n",
       "      <td>BAR OR TAVERN</td>\n",
       "      <td>6.0</td>\n",
       "      <td>69.0</td>\n",
       "      <td>2019</td>\n",
       "      <td>NaN</td>\n",
       "      <td>NaN</td>\n",
       "      <td>1</td>\n",
       "      <td>5</td>\n",
       "      <td>2019-02-23</td>\n",
       "      <td>0</td>\n",
       "      <td>23</td>\n",
       "      <td>2</td>\n",
       "    </tr>\n",
       "    <tr>\n",
       "      <th>26</th>\n",
       "      <td>1415</td>\n",
       "      <td>04/01/2019 12:00:00 AM</td>\n",
       "      <td>THEFT</td>\n",
       "      <td>RESIDENCE PORCH/HALLWAY</td>\n",
       "      <td>14.0</td>\n",
       "      <td>24.0</td>\n",
       "      <td>2019</td>\n",
       "      <td>NaN</td>\n",
       "      <td>NaN</td>\n",
       "      <td>2</td>\n",
       "      <td>0</td>\n",
       "      <td>2019-04-01</td>\n",
       "      <td>0</td>\n",
       "      <td>1</td>\n",
       "      <td>4</td>\n",
       "    </tr>\n",
       "    <tr>\n",
       "      <th>27</th>\n",
       "      <td>1422</td>\n",
       "      <td>04/01/2019 03:00:00 PM</td>\n",
       "      <td>THEFT</td>\n",
       "      <td>APARTMENT</td>\n",
       "      <td>19.0</td>\n",
       "      <td>7.0</td>\n",
       "      <td>2019</td>\n",
       "      <td>NaN</td>\n",
       "      <td>NaN</td>\n",
       "      <td>2</td>\n",
       "      <td>0</td>\n",
       "      <td>2019-04-01</td>\n",
       "      <td>0</td>\n",
       "      <td>1</td>\n",
       "      <td>4</td>\n",
       "    </tr>\n",
       "    <tr>\n",
       "      <th>28</th>\n",
       "      <td>1434</td>\n",
       "      <td>04/01/2019 08:25:00 PM</td>\n",
       "      <td>OTHER OFFENSE</td>\n",
       "      <td>RESIDENCE</td>\n",
       "      <td>19.0</td>\n",
       "      <td>7.0</td>\n",
       "      <td>2019</td>\n",
       "      <td>NaN</td>\n",
       "      <td>NaN</td>\n",
       "      <td>2</td>\n",
       "      <td>0</td>\n",
       "      <td>2019-04-01</td>\n",
       "      <td>0</td>\n",
       "      <td>1</td>\n",
       "      <td>4</td>\n",
       "    </tr>\n",
       "    <tr>\n",
       "      <th>29</th>\n",
       "      <td>1484</td>\n",
       "      <td>04/02/2019 11:44:00 AM</td>\n",
       "      <td>THEFT</td>\n",
       "      <td>RESIDENCE PORCH/HALLWAY</td>\n",
       "      <td>24.0</td>\n",
       "      <td>1.0</td>\n",
       "      <td>2019</td>\n",
       "      <td>NaN</td>\n",
       "      <td>NaN</td>\n",
       "      <td>2</td>\n",
       "      <td>1</td>\n",
       "      <td>2019-04-02</td>\n",
       "      <td>0</td>\n",
       "      <td>2</td>\n",
       "      <td>4</td>\n",
       "    </tr>\n",
       "    <tr>\n",
       "      <th>...</th>\n",
       "      <td>...</td>\n",
       "      <td>...</td>\n",
       "      <td>...</td>\n",
       "      <td>...</td>\n",
       "      <td>...</td>\n",
       "      <td>...</td>\n",
       "      <td>...</td>\n",
       "      <td>...</td>\n",
       "      <td>...</td>\n",
       "      <td>...</td>\n",
       "      <td>...</td>\n",
       "      <td>...</td>\n",
       "      <td>...</td>\n",
       "      <td>...</td>\n",
       "      <td>...</td>\n",
       "    </tr>\n",
       "    <tr>\n",
       "      <th>428882</th>\n",
       "      <td>1513785</td>\n",
       "      <td>05/21/2019 09:43:00 AM</td>\n",
       "      <td>NARCOTICS</td>\n",
       "      <td>CTA STATION</td>\n",
       "      <td>6.0</td>\n",
       "      <td>44.0</td>\n",
       "      <td>2019</td>\n",
       "      <td>41.750941</td>\n",
       "      <td>-87.625185</td>\n",
       "      <td>2</td>\n",
       "      <td>1</td>\n",
       "      <td>2019-05-21</td>\n",
       "      <td>0</td>\n",
       "      <td>21</td>\n",
       "      <td>5</td>\n",
       "    </tr>\n",
       "    <tr>\n",
       "      <th>428883</th>\n",
       "      <td>2393986</td>\n",
       "      <td>01/03/2019 02:37:00 PM</td>\n",
       "      <td>HOMICIDE</td>\n",
       "      <td>AUTO</td>\n",
       "      <td>2.0</td>\n",
       "      <td>38.0</td>\n",
       "      <td>2019</td>\n",
       "      <td>41.802909</td>\n",
       "      <td>-87.621048</td>\n",
       "      <td>1</td>\n",
       "      <td>3</td>\n",
       "      <td>2019-01-03</td>\n",
       "      <td>0</td>\n",
       "      <td>3</td>\n",
       "      <td>1</td>\n",
       "    </tr>\n",
       "    <tr>\n",
       "      <th>428884</th>\n",
       "      <td>2394057</td>\n",
       "      <td>01/03/2019 02:37:00 PM</td>\n",
       "      <td>HOMICIDE</td>\n",
       "      <td>AUTO</td>\n",
       "      <td>2.0</td>\n",
       "      <td>38.0</td>\n",
       "      <td>2019</td>\n",
       "      <td>41.802909</td>\n",
       "      <td>-87.621048</td>\n",
       "      <td>1</td>\n",
       "      <td>3</td>\n",
       "      <td>2019-01-03</td>\n",
       "      <td>0</td>\n",
       "      <td>3</td>\n",
       "      <td>1</td>\n",
       "    </tr>\n",
       "    <tr>\n",
       "      <th>428885</th>\n",
       "      <td>2394376</td>\n",
       "      <td>01/07/2019 03:45:00 PM</td>\n",
       "      <td>HOMICIDE</td>\n",
       "      <td>PARKING LOT</td>\n",
       "      <td>6.0</td>\n",
       "      <td>44.0</td>\n",
       "      <td>2019</td>\n",
       "      <td>41.736129</td>\n",
       "      <td>-87.629162</td>\n",
       "      <td>1</td>\n",
       "      <td>0</td>\n",
       "      <td>2019-01-07</td>\n",
       "      <td>0</td>\n",
       "      <td>7</td>\n",
       "      <td>1</td>\n",
       "    </tr>\n",
       "    <tr>\n",
       "      <th>428886</th>\n",
       "      <td>2394622</td>\n",
       "      <td>01/11/2019 08:00:00 PM</td>\n",
       "      <td>HOMICIDE</td>\n",
       "      <td>ALLEY</td>\n",
       "      <td>25.0</td>\n",
       "      <td>25.0</td>\n",
       "      <td>2019</td>\n",
       "      <td>41.910470</td>\n",
       "      <td>-87.751645</td>\n",
       "      <td>1</td>\n",
       "      <td>4</td>\n",
       "      <td>2019-01-11</td>\n",
       "      <td>0</td>\n",
       "      <td>11</td>\n",
       "      <td>1</td>\n",
       "    </tr>\n",
       "    <tr>\n",
       "      <th>428887</th>\n",
       "      <td>2394702</td>\n",
       "      <td>01/11/2019 08:57:00 PM</td>\n",
       "      <td>HOMICIDE</td>\n",
       "      <td>AUTO</td>\n",
       "      <td>11.0</td>\n",
       "      <td>26.0</td>\n",
       "      <td>2019</td>\n",
       "      <td>41.878455</td>\n",
       "      <td>-87.732951</td>\n",
       "      <td>1</td>\n",
       "      <td>4</td>\n",
       "      <td>2019-01-11</td>\n",
       "      <td>0</td>\n",
       "      <td>11</td>\n",
       "      <td>1</td>\n",
       "    </tr>\n",
       "    <tr>\n",
       "      <th>428888</th>\n",
       "      <td>2395321</td>\n",
       "      <td>01/20/2019 11:23:00 AM</td>\n",
       "      <td>HOMICIDE</td>\n",
       "      <td>PORCH</td>\n",
       "      <td>6.0</td>\n",
       "      <td>71.0</td>\n",
       "      <td>2019</td>\n",
       "      <td>41.750342</td>\n",
       "      <td>-87.664415</td>\n",
       "      <td>1</td>\n",
       "      <td>6</td>\n",
       "      <td>2019-01-20</td>\n",
       "      <td>0</td>\n",
       "      <td>20</td>\n",
       "      <td>1</td>\n",
       "    </tr>\n",
       "    <tr>\n",
       "      <th>428889</th>\n",
       "      <td>2397706</td>\n",
       "      <td>02/21/2019 03:24:00 PM</td>\n",
       "      <td>HOMICIDE</td>\n",
       "      <td>STREET</td>\n",
       "      <td>10.0</td>\n",
       "      <td>29.0</td>\n",
       "      <td>2019</td>\n",
       "      <td>41.862833</td>\n",
       "      <td>-87.716970</td>\n",
       "      <td>1</td>\n",
       "      <td>3</td>\n",
       "      <td>2019-02-21</td>\n",
       "      <td>0</td>\n",
       "      <td>21</td>\n",
       "      <td>2</td>\n",
       "    </tr>\n",
       "    <tr>\n",
       "      <th>428890</th>\n",
       "      <td>2399067</td>\n",
       "      <td>03/14/2019 04:36:00 PM</td>\n",
       "      <td>HOMICIDE</td>\n",
       "      <td>STREET</td>\n",
       "      <td>7.0</td>\n",
       "      <td>68.0</td>\n",
       "      <td>2019</td>\n",
       "      <td>41.761515</td>\n",
       "      <td>-87.647350</td>\n",
       "      <td>2</td>\n",
       "      <td>3</td>\n",
       "      <td>2019-03-14</td>\n",
       "      <td>0</td>\n",
       "      <td>14</td>\n",
       "      <td>3</td>\n",
       "    </tr>\n",
       "    <tr>\n",
       "      <th>428891</th>\n",
       "      <td>2401200</td>\n",
       "      <td>04/01/2019 08:29:00 PM</td>\n",
       "      <td>HOMICIDE</td>\n",
       "      <td>STREET</td>\n",
       "      <td>11.0</td>\n",
       "      <td>25.0</td>\n",
       "      <td>2019</td>\n",
       "      <td>41.870932</td>\n",
       "      <td>-87.744921</td>\n",
       "      <td>2</td>\n",
       "      <td>0</td>\n",
       "      <td>2019-04-01</td>\n",
       "      <td>0</td>\n",
       "      <td>1</td>\n",
       "      <td>4</td>\n",
       "    </tr>\n",
       "    <tr>\n",
       "      <th>428892</th>\n",
       "      <td>2401278</td>\n",
       "      <td>04/01/2019 08:50:00 PM</td>\n",
       "      <td>HOMICIDE</td>\n",
       "      <td>STREET</td>\n",
       "      <td>11.0</td>\n",
       "      <td>25.0</td>\n",
       "      <td>2019</td>\n",
       "      <td>41.870932</td>\n",
       "      <td>-87.744921</td>\n",
       "      <td>2</td>\n",
       "      <td>0</td>\n",
       "      <td>2019-04-01</td>\n",
       "      <td>0</td>\n",
       "      <td>1</td>\n",
       "      <td>4</td>\n",
       "    </tr>\n",
       "    <tr>\n",
       "      <th>428893</th>\n",
       "      <td>2401345</td>\n",
       "      <td>04/01/2019 11:55:00 PM</td>\n",
       "      <td>HOMICIDE</td>\n",
       "      <td>STREET</td>\n",
       "      <td>6.0</td>\n",
       "      <td>69.0</td>\n",
       "      <td>2019</td>\n",
       "      <td>41.753839</td>\n",
       "      <td>-87.635595</td>\n",
       "      <td>2</td>\n",
       "      <td>0</td>\n",
       "      <td>2019-04-01</td>\n",
       "      <td>0</td>\n",
       "      <td>1</td>\n",
       "      <td>4</td>\n",
       "    </tr>\n",
       "    <tr>\n",
       "      <th>428894</th>\n",
       "      <td>2401421</td>\n",
       "      <td>04/01/2019 11:55:00 PM</td>\n",
       "      <td>HOMICIDE</td>\n",
       "      <td>STREET</td>\n",
       "      <td>6.0</td>\n",
       "      <td>69.0</td>\n",
       "      <td>2019</td>\n",
       "      <td>41.753839</td>\n",
       "      <td>-87.635595</td>\n",
       "      <td>2</td>\n",
       "      <td>0</td>\n",
       "      <td>2019-04-01</td>\n",
       "      <td>0</td>\n",
       "      <td>1</td>\n",
       "      <td>4</td>\n",
       "    </tr>\n",
       "    <tr>\n",
       "      <th>428895</th>\n",
       "      <td>2401900</td>\n",
       "      <td>04/05/2019 02:58:00 PM</td>\n",
       "      <td>HOMICIDE</td>\n",
       "      <td>STREET</td>\n",
       "      <td>11.0</td>\n",
       "      <td>23.0</td>\n",
       "      <td>2019</td>\n",
       "      <td>41.896145</td>\n",
       "      <td>-87.723658</td>\n",
       "      <td>2</td>\n",
       "      <td>4</td>\n",
       "      <td>2019-04-05</td>\n",
       "      <td>0</td>\n",
       "      <td>5</td>\n",
       "      <td>4</td>\n",
       "    </tr>\n",
       "    <tr>\n",
       "      <th>428896</th>\n",
       "      <td>2402451</td>\n",
       "      <td>04/08/2019 01:30:00 PM</td>\n",
       "      <td>HOMICIDE</td>\n",
       "      <td>STREET</td>\n",
       "      <td>15.0</td>\n",
       "      <td>25.0</td>\n",
       "      <td>2019</td>\n",
       "      <td>41.890707</td>\n",
       "      <td>-87.748111</td>\n",
       "      <td>2</td>\n",
       "      <td>0</td>\n",
       "      <td>2019-04-08</td>\n",
       "      <td>0</td>\n",
       "      <td>8</td>\n",
       "      <td>4</td>\n",
       "    </tr>\n",
       "    <tr>\n",
       "      <th>428897</th>\n",
       "      <td>2403424</td>\n",
       "      <td>04/15/2019 06:04:00 PM</td>\n",
       "      <td>HOMICIDE</td>\n",
       "      <td>STREET</td>\n",
       "      <td>5.0</td>\n",
       "      <td>49.0</td>\n",
       "      <td>2019</td>\n",
       "      <td>41.687125</td>\n",
       "      <td>-87.623952</td>\n",
       "      <td>2</td>\n",
       "      <td>0</td>\n",
       "      <td>2019-04-15</td>\n",
       "      <td>0</td>\n",
       "      <td>15</td>\n",
       "      <td>4</td>\n",
       "    </tr>\n",
       "    <tr>\n",
       "      <th>428898</th>\n",
       "      <td>2404245</td>\n",
       "      <td>04/20/2019 01:10:00 PM</td>\n",
       "      <td>HOMICIDE</td>\n",
       "      <td>STREET</td>\n",
       "      <td>11.0</td>\n",
       "      <td>26.0</td>\n",
       "      <td>2019</td>\n",
       "      <td>41.877936</td>\n",
       "      <td>-87.729093</td>\n",
       "      <td>2</td>\n",
       "      <td>5</td>\n",
       "      <td>2019-04-20</td>\n",
       "      <td>0</td>\n",
       "      <td>20</td>\n",
       "      <td>4</td>\n",
       "    </tr>\n",
       "    <tr>\n",
       "      <th>428899</th>\n",
       "      <td>2404316</td>\n",
       "      <td>04/20/2019 03:07:00 PM</td>\n",
       "      <td>HOMICIDE</td>\n",
       "      <td>HOUSE</td>\n",
       "      <td>25.0</td>\n",
       "      <td>19.0</td>\n",
       "      <td>2019</td>\n",
       "      <td>41.921217</td>\n",
       "      <td>-87.775626</td>\n",
       "      <td>2</td>\n",
       "      <td>5</td>\n",
       "      <td>2019-04-20</td>\n",
       "      <td>0</td>\n",
       "      <td>20</td>\n",
       "      <td>4</td>\n",
       "    </tr>\n",
       "    <tr>\n",
       "      <th>428900</th>\n",
       "      <td>2404548</td>\n",
       "      <td>04/22/2019 02:25:00 AM</td>\n",
       "      <td>HOMICIDE</td>\n",
       "      <td>STREET</td>\n",
       "      <td>11.0</td>\n",
       "      <td>26.0</td>\n",
       "      <td>2019</td>\n",
       "      <td>41.878823</td>\n",
       "      <td>-87.729324</td>\n",
       "      <td>2</td>\n",
       "      <td>0</td>\n",
       "      <td>2019-04-22</td>\n",
       "      <td>0</td>\n",
       "      <td>22</td>\n",
       "      <td>4</td>\n",
       "    </tr>\n",
       "    <tr>\n",
       "      <th>428901</th>\n",
       "      <td>2404879</td>\n",
       "      <td>04/26/2019 01:37:00 AM</td>\n",
       "      <td>HOMICIDE</td>\n",
       "      <td>STREET</td>\n",
       "      <td>5.0</td>\n",
       "      <td>49.0</td>\n",
       "      <td>2019</td>\n",
       "      <td>41.695576</td>\n",
       "      <td>-87.623190</td>\n",
       "      <td>2</td>\n",
       "      <td>4</td>\n",
       "      <td>2019-04-26</td>\n",
       "      <td>0</td>\n",
       "      <td>26</td>\n",
       "      <td>4</td>\n",
       "    </tr>\n",
       "    <tr>\n",
       "      <th>428902</th>\n",
       "      <td>2406486</td>\n",
       "      <td>05/06/2019 08:06:00 AM</td>\n",
       "      <td>HOMICIDE</td>\n",
       "      <td>YARD</td>\n",
       "      <td>11.0</td>\n",
       "      <td>27.0</td>\n",
       "      <td>2019</td>\n",
       "      <td>41.880394</td>\n",
       "      <td>-87.702954</td>\n",
       "      <td>2</td>\n",
       "      <td>0</td>\n",
       "      <td>2019-05-06</td>\n",
       "      <td>0</td>\n",
       "      <td>6</td>\n",
       "      <td>5</td>\n",
       "    </tr>\n",
       "    <tr>\n",
       "      <th>428903</th>\n",
       "      <td>2407005</td>\n",
       "      <td>05/11/2019 07:27:00 PM</td>\n",
       "      <td>HOMICIDE</td>\n",
       "      <td>STREET</td>\n",
       "      <td>15.0</td>\n",
       "      <td>25.0</td>\n",
       "      <td>2019</td>\n",
       "      <td>41.902046</td>\n",
       "      <td>-87.772252</td>\n",
       "      <td>2</td>\n",
       "      <td>5</td>\n",
       "      <td>2019-05-11</td>\n",
       "      <td>0</td>\n",
       "      <td>11</td>\n",
       "      <td>5</td>\n",
       "    </tr>\n",
       "    <tr>\n",
       "      <th>428904</th>\n",
       "      <td>2407394</td>\n",
       "      <td>05/14/2019 04:28:00 PM</td>\n",
       "      <td>HOMICIDE</td>\n",
       "      <td>YARD</td>\n",
       "      <td>11.0</td>\n",
       "      <td>27.0</td>\n",
       "      <td>2019</td>\n",
       "      <td>41.879672</td>\n",
       "      <td>-87.703978</td>\n",
       "      <td>2</td>\n",
       "      <td>1</td>\n",
       "      <td>2019-05-14</td>\n",
       "      <td>0</td>\n",
       "      <td>14</td>\n",
       "      <td>5</td>\n",
       "    </tr>\n",
       "    <tr>\n",
       "      <th>428905</th>\n",
       "      <td>2408049</td>\n",
       "      <td>05/19/2019 05:36:00 AM</td>\n",
       "      <td>HOMICIDE</td>\n",
       "      <td>AUTO</td>\n",
       "      <td>15.0</td>\n",
       "      <td>25.0</td>\n",
       "      <td>2019</td>\n",
       "      <td>41.900480</td>\n",
       "      <td>-87.749370</td>\n",
       "      <td>2</td>\n",
       "      <td>6</td>\n",
       "      <td>2019-05-19</td>\n",
       "      <td>0</td>\n",
       "      <td>19</td>\n",
       "      <td>5</td>\n",
       "    </tr>\n",
       "    <tr>\n",
       "      <th>428906</th>\n",
       "      <td>7195090</td>\n",
       "      <td>05/25/2019 12:00:00 AM</td>\n",
       "      <td>DECEPTIVE PRACTICE</td>\n",
       "      <td>OTHER</td>\n",
       "      <td>1.0</td>\n",
       "      <td>33.0</td>\n",
       "      <td>2019</td>\n",
       "      <td>NaN</td>\n",
       "      <td>NaN</td>\n",
       "      <td>2</td>\n",
       "      <td>5</td>\n",
       "      <td>2019-05-25</td>\n",
       "      <td>0</td>\n",
       "      <td>25</td>\n",
       "      <td>5</td>\n",
       "    </tr>\n",
       "    <tr>\n",
       "      <th>428907</th>\n",
       "      <td>7217672</td>\n",
       "      <td>05/26/2019 12:10:00 AM</td>\n",
       "      <td>BATTERY</td>\n",
       "      <td>RESIDENCE</td>\n",
       "      <td>25.0</td>\n",
       "      <td>19.0</td>\n",
       "      <td>2019</td>\n",
       "      <td>41.917879</td>\n",
       "      <td>-87.742535</td>\n",
       "      <td>2</td>\n",
       "      <td>6</td>\n",
       "      <td>2019-05-26</td>\n",
       "      <td>0</td>\n",
       "      <td>26</td>\n",
       "      <td>5</td>\n",
       "    </tr>\n",
       "    <tr>\n",
       "      <th>428908</th>\n",
       "      <td>7217673</td>\n",
       "      <td>05/26/2019 11:29:00 AM</td>\n",
       "      <td>DECEPTIVE PRACTICE</td>\n",
       "      <td>OTHER</td>\n",
       "      <td>19.0</td>\n",
       "      <td>5.0</td>\n",
       "      <td>2019</td>\n",
       "      <td>NaN</td>\n",
       "      <td>NaN</td>\n",
       "      <td>2</td>\n",
       "      <td>6</td>\n",
       "      <td>2019-05-26</td>\n",
       "      <td>0</td>\n",
       "      <td>26</td>\n",
       "      <td>5</td>\n",
       "    </tr>\n",
       "    <tr>\n",
       "      <th>428909</th>\n",
       "      <td>7217674</td>\n",
       "      <td>05/26/2019 05:13:00 PM</td>\n",
       "      <td>OTHER OFFENSE</td>\n",
       "      <td>APARTMENT</td>\n",
       "      <td>10.0</td>\n",
       "      <td>29.0</td>\n",
       "      <td>2019</td>\n",
       "      <td>41.862830</td>\n",
       "      <td>-87.717040</td>\n",
       "      <td>2</td>\n",
       "      <td>6</td>\n",
       "      <td>2019-05-26</td>\n",
       "      <td>0</td>\n",
       "      <td>26</td>\n",
       "      <td>5</td>\n",
       "    </tr>\n",
       "    <tr>\n",
       "      <th>428910</th>\n",
       "      <td>7217675</td>\n",
       "      <td>05/26/2019 06:48:00 AM</td>\n",
       "      <td>HOMICIDE</td>\n",
       "      <td>CHA PARKING LOT</td>\n",
       "      <td>12.0</td>\n",
       "      <td>28.0</td>\n",
       "      <td>2019</td>\n",
       "      <td>41.864278</td>\n",
       "      <td>-87.659660</td>\n",
       "      <td>2</td>\n",
       "      <td>6</td>\n",
       "      <td>2019-05-26</td>\n",
       "      <td>0</td>\n",
       "      <td>26</td>\n",
       "      <td>5</td>\n",
       "    </tr>\n",
       "    <tr>\n",
       "      <th>428911</th>\n",
       "      <td>7217678</td>\n",
       "      <td>05/26/2019 02:11:00 AM</td>\n",
       "      <td>HOMICIDE</td>\n",
       "      <td>STREET</td>\n",
       "      <td>12.0</td>\n",
       "      <td>28.0</td>\n",
       "      <td>2019</td>\n",
       "      <td>41.864278</td>\n",
       "      <td>-87.659682</td>\n",
       "      <td>2</td>\n",
       "      <td>6</td>\n",
       "      <td>2019-05-26</td>\n",
       "      <td>0</td>\n",
       "      <td>26</td>\n",
       "      <td>5</td>\n",
       "    </tr>\n",
       "  </tbody>\n",
       "</table>\n",
       "<p>428912 rows × 15 columns</p>\n",
       "</div>"
      ],
      "text/plain": [
       "        Unnamed: 0                    Date        Primary Type  \\\n",
       "0              136  03/19/2019 04:30:00 PM               THEFT   \n",
       "1              148  03/19/2019 09:00:00 AM               THEFT   \n",
       "2              258  02/11/2019 05:50:00 PM               THEFT   \n",
       "3              279  03/20/2019 07:00:00 PM     CRIMINAL DAMAGE   \n",
       "4              286  03/20/2019 01:00:00 AM               THEFT   \n",
       "5              298  03/20/2019 01:30:00 PM  DECEPTIVE PRACTICE   \n",
       "6              342  02/01/2019 01:00:00 AM  DECEPTIVE PRACTICE   \n",
       "7              345  03/31/2019 01:00:00 AM               THEFT   \n",
       "8              533  03/31/2019 11:00:00 AM               THEFT   \n",
       "9              707  03/21/2019 12:00:00 PM               THEFT   \n",
       "10             768  03/22/2019 09:30:00 PM               THEFT   \n",
       "11             864  03/22/2019 03:30:00 PM  DECEPTIVE PRACTICE   \n",
       "12             875  03/22/2019 05:00:00 PM               THEFT   \n",
       "13             880  03/22/2019 12:00:00 AM  DECEPTIVE PRACTICE   \n",
       "14             927  01/02/2019 04:00:00 PM               THEFT   \n",
       "15             976  03/26/2019 06:20:00 PM               THEFT   \n",
       "16             987  03/26/2019 12:30:00 PM               THEFT   \n",
       "17             995  03/26/2019 03:00:00 PM               THEFT   \n",
       "18            1034  03/27/2019 08:35:00 PM               THEFT   \n",
       "19            1099  03/07/2019 09:15:00 AM  DECEPTIVE PRACTICE   \n",
       "20            1140  03/28/2019 04:00:00 PM  DECEPTIVE PRACTICE   \n",
       "21            1194  03/29/2019 07:00:00 PM               THEFT   \n",
       "22            1231  03/29/2019 11:30:00 AM  DECEPTIVE PRACTICE   \n",
       "23            1347  03/31/2019 09:30:00 AM               THEFT   \n",
       "24            1364  03/31/2019 12:30:00 PM               THEFT   \n",
       "25            1411  02/23/2019 11:00:00 PM               THEFT   \n",
       "26            1415  04/01/2019 12:00:00 AM               THEFT   \n",
       "27            1422  04/01/2019 03:00:00 PM               THEFT   \n",
       "28            1434  04/01/2019 08:25:00 PM       OTHER OFFENSE   \n",
       "29            1484  04/02/2019 11:44:00 AM               THEFT   \n",
       "...            ...                     ...                 ...   \n",
       "428882     1513785  05/21/2019 09:43:00 AM           NARCOTICS   \n",
       "428883     2393986  01/03/2019 02:37:00 PM            HOMICIDE   \n",
       "428884     2394057  01/03/2019 02:37:00 PM            HOMICIDE   \n",
       "428885     2394376  01/07/2019 03:45:00 PM            HOMICIDE   \n",
       "428886     2394622  01/11/2019 08:00:00 PM            HOMICIDE   \n",
       "428887     2394702  01/11/2019 08:57:00 PM            HOMICIDE   \n",
       "428888     2395321  01/20/2019 11:23:00 AM            HOMICIDE   \n",
       "428889     2397706  02/21/2019 03:24:00 PM            HOMICIDE   \n",
       "428890     2399067  03/14/2019 04:36:00 PM            HOMICIDE   \n",
       "428891     2401200  04/01/2019 08:29:00 PM            HOMICIDE   \n",
       "428892     2401278  04/01/2019 08:50:00 PM            HOMICIDE   \n",
       "428893     2401345  04/01/2019 11:55:00 PM            HOMICIDE   \n",
       "428894     2401421  04/01/2019 11:55:00 PM            HOMICIDE   \n",
       "428895     2401900  04/05/2019 02:58:00 PM            HOMICIDE   \n",
       "428896     2402451  04/08/2019 01:30:00 PM            HOMICIDE   \n",
       "428897     2403424  04/15/2019 06:04:00 PM            HOMICIDE   \n",
       "428898     2404245  04/20/2019 01:10:00 PM            HOMICIDE   \n",
       "428899     2404316  04/20/2019 03:07:00 PM            HOMICIDE   \n",
       "428900     2404548  04/22/2019 02:25:00 AM            HOMICIDE   \n",
       "428901     2404879  04/26/2019 01:37:00 AM            HOMICIDE   \n",
       "428902     2406486  05/06/2019 08:06:00 AM            HOMICIDE   \n",
       "428903     2407005  05/11/2019 07:27:00 PM            HOMICIDE   \n",
       "428904     2407394  05/14/2019 04:28:00 PM            HOMICIDE   \n",
       "428905     2408049  05/19/2019 05:36:00 AM            HOMICIDE   \n",
       "428906     7195090  05/25/2019 12:00:00 AM  DECEPTIVE PRACTICE   \n",
       "428907     7217672  05/26/2019 12:10:00 AM             BATTERY   \n",
       "428908     7217673  05/26/2019 11:29:00 AM  DECEPTIVE PRACTICE   \n",
       "428909     7217674  05/26/2019 05:13:00 PM       OTHER OFFENSE   \n",
       "428910     7217675  05/26/2019 06:48:00 AM            HOMICIDE   \n",
       "428911     7217678  05/26/2019 02:11:00 AM            HOMICIDE   \n",
       "\n",
       "                      Location Description  District  Community Area  Year  \\\n",
       "0                       GROCERY FOOD STORE      17.0            13.0  2019   \n",
       "1                                   STREET      12.0            31.0  2019   \n",
       "2            RESIDENTIAL YARD (FRONT/BACK)      14.0            22.0  2019   \n",
       "3                                   STREET      24.0             2.0  2019   \n",
       "4                                    OTHER      24.0            77.0  2019   \n",
       "5                                    OTHER      25.0            25.0  2019   \n",
       "6                                      NaN      17.0            16.0  2019   \n",
       "7                            BAR OR TAVERN      18.0             8.0  2019   \n",
       "8                              HOTEL/MOTEL       1.0            32.0  2019   \n",
       "9                                APARTMENT      12.0            24.0  2019   \n",
       "10                                   OTHER       9.0            61.0  2019   \n",
       "11                                     NaN       1.0            33.0  2019   \n",
       "12                        RESIDENCE-GARAGE      14.0            24.0  2019   \n",
       "13                               RESIDENCE      14.0            22.0  2019   \n",
       "14      AIRPORT EXTERIOR - NON-SECURE AREA      16.0            76.0  2019   \n",
       "15                               RESIDENCE       6.0            44.0  2019   \n",
       "16                               APARTMENT      12.0            24.0  2019   \n",
       "17           RESIDENTIAL YARD (FRONT/BACK)      19.0             7.0  2019   \n",
       "18                               APARTMENT      12.0            24.0  2019   \n",
       "19                               APARTMENT      12.0            24.0  2019   \n",
       "20          PARKING LOT/GARAGE(NON.RESID.)      19.0             6.0  2019   \n",
       "21                 RESIDENCE PORCH/HALLWAY      25.0            25.0  2019   \n",
       "22                              RESTAURANT       1.0            32.0  2019   \n",
       "23                              RESTAURANT      12.0            24.0  2019   \n",
       "24                           ATHLETIC CLUB      10.0            29.0  2019   \n",
       "25                           BAR OR TAVERN       6.0            69.0  2019   \n",
       "26                 RESIDENCE PORCH/HALLWAY      14.0            24.0  2019   \n",
       "27                               APARTMENT      19.0             7.0  2019   \n",
       "28                               RESIDENCE      19.0             7.0  2019   \n",
       "29                 RESIDENCE PORCH/HALLWAY      24.0             1.0  2019   \n",
       "...                                    ...       ...             ...   ...   \n",
       "428882                         CTA STATION       6.0            44.0  2019   \n",
       "428883                                AUTO       2.0            38.0  2019   \n",
       "428884                                AUTO       2.0            38.0  2019   \n",
       "428885                         PARKING LOT       6.0            44.0  2019   \n",
       "428886                               ALLEY      25.0            25.0  2019   \n",
       "428887                                AUTO      11.0            26.0  2019   \n",
       "428888                               PORCH       6.0            71.0  2019   \n",
       "428889                              STREET      10.0            29.0  2019   \n",
       "428890                              STREET       7.0            68.0  2019   \n",
       "428891                              STREET      11.0            25.0  2019   \n",
       "428892                              STREET      11.0            25.0  2019   \n",
       "428893                              STREET       6.0            69.0  2019   \n",
       "428894                              STREET       6.0            69.0  2019   \n",
       "428895                              STREET      11.0            23.0  2019   \n",
       "428896                              STREET      15.0            25.0  2019   \n",
       "428897                              STREET       5.0            49.0  2019   \n",
       "428898                              STREET      11.0            26.0  2019   \n",
       "428899                               HOUSE      25.0            19.0  2019   \n",
       "428900                              STREET      11.0            26.0  2019   \n",
       "428901                              STREET       5.0            49.0  2019   \n",
       "428902                                YARD      11.0            27.0  2019   \n",
       "428903                              STREET      15.0            25.0  2019   \n",
       "428904                                YARD      11.0            27.0  2019   \n",
       "428905                                AUTO      15.0            25.0  2019   \n",
       "428906                               OTHER       1.0            33.0  2019   \n",
       "428907                           RESIDENCE      25.0            19.0  2019   \n",
       "428908                               OTHER      19.0             5.0  2019   \n",
       "428909                           APARTMENT      10.0            29.0  2019   \n",
       "428910                     CHA PARKING LOT      12.0            28.0  2019   \n",
       "428911                              STREET      12.0            28.0  2019   \n",
       "\n",
       "         Latitude  Longitude  Season  Weekday   Just_Date  Is_Holiday  \\\n",
       "0             NaN        NaN       2        1  2019-03-19           0   \n",
       "1             NaN        NaN       2        1  2019-03-19           0   \n",
       "2             NaN        NaN       1        0  2019-02-11           0   \n",
       "3             NaN        NaN       2        2  2019-03-20           0   \n",
       "4             NaN        NaN       2        2  2019-03-20           0   \n",
       "5             NaN        NaN       2        2  2019-03-20           0   \n",
       "6             NaN        NaN       1        4  2019-02-01           0   \n",
       "7             NaN        NaN       2        6  2019-03-31           0   \n",
       "8             NaN        NaN       2        6  2019-03-31           0   \n",
       "9             NaN        NaN       2        3  2019-03-21           0   \n",
       "10            NaN        NaN       2        4  2019-03-22           0   \n",
       "11            NaN        NaN       2        4  2019-03-22           0   \n",
       "12            NaN        NaN       2        4  2019-03-22           0   \n",
       "13            NaN        NaN       2        4  2019-03-22           0   \n",
       "14            NaN        NaN       1        2  2019-01-02           0   \n",
       "15            NaN        NaN       2        1  2019-03-26           0   \n",
       "16            NaN        NaN       2        1  2019-03-26           0   \n",
       "17            NaN        NaN       2        1  2019-03-26           0   \n",
       "18            NaN        NaN       2        2  2019-03-27           0   \n",
       "19            NaN        NaN       2        3  2019-03-07           0   \n",
       "20            NaN        NaN       2        3  2019-03-28           0   \n",
       "21            NaN        NaN       2        4  2019-03-29           0   \n",
       "22            NaN        NaN       2        4  2019-03-29           0   \n",
       "23            NaN        NaN       2        6  2019-03-31           0   \n",
       "24            NaN        NaN       2        6  2019-03-31           0   \n",
       "25            NaN        NaN       1        5  2019-02-23           0   \n",
       "26            NaN        NaN       2        0  2019-04-01           0   \n",
       "27            NaN        NaN       2        0  2019-04-01           0   \n",
       "28            NaN        NaN       2        0  2019-04-01           0   \n",
       "29            NaN        NaN       2        1  2019-04-02           0   \n",
       "...           ...        ...     ...      ...         ...         ...   \n",
       "428882  41.750941 -87.625185       2        1  2019-05-21           0   \n",
       "428883  41.802909 -87.621048       1        3  2019-01-03           0   \n",
       "428884  41.802909 -87.621048       1        3  2019-01-03           0   \n",
       "428885  41.736129 -87.629162       1        0  2019-01-07           0   \n",
       "428886  41.910470 -87.751645       1        4  2019-01-11           0   \n",
       "428887  41.878455 -87.732951       1        4  2019-01-11           0   \n",
       "428888  41.750342 -87.664415       1        6  2019-01-20           0   \n",
       "428889  41.862833 -87.716970       1        3  2019-02-21           0   \n",
       "428890  41.761515 -87.647350       2        3  2019-03-14           0   \n",
       "428891  41.870932 -87.744921       2        0  2019-04-01           0   \n",
       "428892  41.870932 -87.744921       2        0  2019-04-01           0   \n",
       "428893  41.753839 -87.635595       2        0  2019-04-01           0   \n",
       "428894  41.753839 -87.635595       2        0  2019-04-01           0   \n",
       "428895  41.896145 -87.723658       2        4  2019-04-05           0   \n",
       "428896  41.890707 -87.748111       2        0  2019-04-08           0   \n",
       "428897  41.687125 -87.623952       2        0  2019-04-15           0   \n",
       "428898  41.877936 -87.729093       2        5  2019-04-20           0   \n",
       "428899  41.921217 -87.775626       2        5  2019-04-20           0   \n",
       "428900  41.878823 -87.729324       2        0  2019-04-22           0   \n",
       "428901  41.695576 -87.623190       2        4  2019-04-26           0   \n",
       "428902  41.880394 -87.702954       2        0  2019-05-06           0   \n",
       "428903  41.902046 -87.772252       2        5  2019-05-11           0   \n",
       "428904  41.879672 -87.703978       2        1  2019-05-14           0   \n",
       "428905  41.900480 -87.749370       2        6  2019-05-19           0   \n",
       "428906        NaN        NaN       2        5  2019-05-25           0   \n",
       "428907  41.917879 -87.742535       2        6  2019-05-26           0   \n",
       "428908        NaN        NaN       2        6  2019-05-26           0   \n",
       "428909  41.862830 -87.717040       2        6  2019-05-26           0   \n",
       "428910  41.864278 -87.659660       2        6  2019-05-26           0   \n",
       "428911  41.864278 -87.659682       2        6  2019-05-26           0   \n",
       "\n",
       "        Day_of_Month  Month  \n",
       "0                 19      3  \n",
       "1                 19      3  \n",
       "2                 11      2  \n",
       "3                 20      3  \n",
       "4                 20      3  \n",
       "5                 20      3  \n",
       "6                  1      2  \n",
       "7                 31      3  \n",
       "8                 31      3  \n",
       "9                 21      3  \n",
       "10                22      3  \n",
       "11                22      3  \n",
       "12                22      3  \n",
       "13                22      3  \n",
       "14                 2      1  \n",
       "15                26      3  \n",
       "16                26      3  \n",
       "17                26      3  \n",
       "18                27      3  \n",
       "19                 7      3  \n",
       "20                28      3  \n",
       "21                29      3  \n",
       "22                29      3  \n",
       "23                31      3  \n",
       "24                31      3  \n",
       "25                23      2  \n",
       "26                 1      4  \n",
       "27                 1      4  \n",
       "28                 1      4  \n",
       "29                 2      4  \n",
       "...              ...    ...  \n",
       "428882            21      5  \n",
       "428883             3      1  \n",
       "428884             3      1  \n",
       "428885             7      1  \n",
       "428886            11      1  \n",
       "428887            11      1  \n",
       "428888            20      1  \n",
       "428889            21      2  \n",
       "428890            14      3  \n",
       "428891             1      4  \n",
       "428892             1      4  \n",
       "428893             1      4  \n",
       "428894             1      4  \n",
       "428895             5      4  \n",
       "428896             8      4  \n",
       "428897            15      4  \n",
       "428898            20      4  \n",
       "428899            20      4  \n",
       "428900            22      4  \n",
       "428901            26      4  \n",
       "428902             6      5  \n",
       "428903            11      5  \n",
       "428904            14      5  \n",
       "428905            19      5  \n",
       "428906            25      5  \n",
       "428907            26      5  \n",
       "428908            26      5  \n",
       "428909            26      5  \n",
       "428910            26      5  \n",
       "428911            26      5  \n",
       "\n",
       "[428912 rows x 15 columns]"
      ]
     },
     "execution_count": 9,
     "metadata": {},
     "output_type": "execute_result"
    }
   ],
   "source": [
    "dt0"
   ]
  },
  {
   "cell_type": "code",
   "execution_count": 10,
   "metadata": {},
   "outputs": [
    {
     "ename": "ImportError",
     "evalue": "No module named geopy.geocoders",
     "output_type": "error",
     "traceback": [
      "\u001b[1;31m---------------------------------------------------------------------------\u001b[0m",
      "\u001b[1;31mImportError\u001b[0m                               Traceback (most recent call last)",
      "\u001b[1;32m<ipython-input-10-4bf2005183e5>\u001b[0m in \u001b[0;36m<module>\u001b[1;34m()\u001b[0m\n\u001b[0;32m      1\u001b[0m \u001b[1;32mimport\u001b[0m \u001b[0mrequests\u001b[0m\u001b[1;33m\u001b[0m\u001b[0m\n\u001b[1;32m----> 2\u001b[1;33m \u001b[1;32mfrom\u001b[0m \u001b[0mgeopy\u001b[0m\u001b[1;33m.\u001b[0m\u001b[0mgeocoders\u001b[0m \u001b[1;32mimport\u001b[0m \u001b[0mNominatim\u001b[0m\u001b[1;33m\u001b[0m\u001b[0m\n\u001b[0m\u001b[0;32m      3\u001b[0m \u001b[0mgeolocator\u001b[0m \u001b[1;33m=\u001b[0m \u001b[0mNominatim\u001b[0m\u001b[1;33m(\u001b[0m\u001b[0muser_agent\u001b[0m\u001b[1;33m=\u001b[0m\u001b[1;34m\"My_geolocate\"\u001b[0m\u001b[1;33m)\u001b[0m\u001b[1;33m\u001b[0m\u001b[0m\n\u001b[0;32m      4\u001b[0m \u001b[1;33m\u001b[0m\u001b[0m\n\u001b[0;32m      5\u001b[0m \u001b[0mlookingFor\u001b[0m \u001b[1;33m=\u001b[0m \u001b[1;34m\"Chicago\"\u001b[0m\u001b[1;33m\u001b[0m\u001b[0m\n",
      "\u001b[1;31mImportError\u001b[0m: No module named geopy.geocoders"
     ]
    }
   ],
   "source": [
    "import requests\n",
    "from geopy.geocoders import Nominatim\n",
    "geolocator = Nominatim(user_agent=\"My_geolocate\")\n",
    "\n",
    "lookingFor = \"Chicago\"\n",
    "locations = geolocator.geocode(lookingFor)\n",
    "type(locations)\n",
    "\n",
    "\n",
    "\n",
    "##print(locations)\n",
    "##r = requests.get('https://api.sunrise-sunset.org/json', params={'lat': dt0[Latitude], 'lng': dt0[Longitude]}).json()['results']\n",
    "##r = requests.get('https://api.sunrise-sunset.org/json', params={'lat': locations.latitude, 'lng': locations.longitude}).json()['results']\n",
    "##print('Sunrise:', r['sunrise'])\n",
    "##print('Sunset:', r['sunset'])"
   ]
  },
  {
   "cell_type": "code",
   "execution_count": 17,
   "metadata": {},
   "outputs": [
    {
     "data": {
      "text/plain": [
       "{1: '(42.019399237, -87.675049485)',\n",
       " 2: '(41.990615196, -87.683188577)',\n",
       " 3: '(41.963070794, -87.655984213)',\n",
       " 4: '(41.977017622, -87.692447486)',\n",
       " 5: '(41.943552694, -87.688162342)',\n",
       " 6: '(41.943122315, -87.649365938)',\n",
       " 7: '(41.922786529, -87.645045119)',\n",
       " 8: '(41.897895128, -87.624096605)',\n",
       " 9: '(41.997177742, -87.807138486)',\n",
       " 10: '(41.988702804, -87.81297224)',\n",
       " 11: '(41.97008868, -87.762690091)',\n",
       " 12: '(41.994019965, -87.748335679)',\n",
       " 13: '(41.994758989, -87.7144777)',\n",
       " 14: '(41.968235322, -87.728715018)',\n",
       " 15: '(41.953443342, -87.744957048)',\n",
       " 16: '(41.946542477, -87.736084376)',\n",
       " 17: '(41.952897791, -87.787860507)',\n",
       " 18: '(41.923817959, -87.805033506)',\n",
       " 19: '(41.918711651, -87.76551063)',\n",
       " 20: '(41.931580848, -87.742956658)',\n",
       " 21: '(41.945238279, -87.712670479)',\n",
       " 22: '(41.929743818, -87.684273777)',\n",
       " 23: '(41.895431459, -87.719481487)',\n",
       " 24: '(41.910006508, -87.676887355)',\n",
       " 25: '(41.909664252, -87.742728815)',\n",
       " 26: '(41.880751096, -87.723855981)',\n",
       " 27: '(41.880991005, -87.704725496)',\n",
       " 28: '(41.868541914, -87.639235361)',\n",
       " 29: '(41.866181995, -87.72439822)',\n",
       " 30: '(41.844231278, -87.726070751)',\n",
       " 31: '(41.851988885, -87.689219118)',\n",
       " 32: '(41.883620971, -87.627882713)',\n",
       " 33: '(41.866810739, -87.625817031)',\n",
       " 34: '(41.852880893, -87.635682791)',\n",
       " 35: '(41.830697249, -87.614476891)',\n",
       " 36: '(41.830109681, -87.610058377)',\n",
       " 37: '(41.794533814, -87.631438536)',\n",
       " 38: '(41.803365964, -87.622682706)',\n",
       " 39: '(41.812540996, -87.604434592)',\n",
       " 40: '(41.780946398, -87.621995369)',\n",
       " 41: '(41.79950737, -87.592259584)',\n",
       " 42: '(41.76680404, -87.605619683)',\n",
       " 43: '(41.758476389, -87.585731423)',\n",
       " 44: '(41.736126864, -87.629184056)',\n",
       " 45: '(41.737094305, -87.572998178)',\n",
       " 46: '(41.729170867, -87.551235346)',\n",
       " 47: '(41.724664275, -87.59728169)',\n",
       " 48: '(41.732599207, -87.585555292)',\n",
       " 49: '(41.721698686, -87.625396491)',\n",
       " 50: '(41.695982095, -87.596653142)',\n",
       " 51: '(41.722362598, -87.58382047)',\n",
       " 52: '(41.688218178, -87.537357913)',\n",
       " 53: '(41.673548279, -87.616795523)',\n",
       " 54: '(41.655332085, -87.605126732)',\n",
       " 55: '(41.651431329, -87.527258234)',\n",
       " 56: '(41.788492935, -87.7414552)',\n",
       " 57: '(41.812610526, -87.723765071)',\n",
       " 58: '(41.80779181, -87.703963414)',\n",
       " 59: '(41.837054941, -87.665729137)',\n",
       " 60: '(41.83805499, -87.645458414)',\n",
       " 61: '(41.809693586, -87.645563846)',\n",
       " 62: '(41.799808989, -87.723350952)',\n",
       " 63: '(41.795111262, -87.70360708)',\n",
       " 64: '(41.777830981, -87.773127052)',\n",
       " 65: '(41.754592961, -87.741528537)',\n",
       " 66: '(41.779234743, -87.685207125)',\n",
       " 67: '(41.779012821, -87.664208692)',\n",
       " 68: '(41.773054421, -87.644613656)',\n",
       " 69: '(41.777819085, -87.61556634)',\n",
       " 70: '(41.75097171, -87.682871235)',\n",
       " 71: '(41.750111323, -87.644030737)',\n",
       " 72: '(41.720970905, -87.679976067)',\n",
       " 73: '(41.722578383, -87.662706548)',\n",
       " 74: '(41.683936056, -87.721847364)',\n",
       " 75: '(41.680418426, -87.662437948)',\n",
       " 76: '(41.9764212, -87.904976266)',\n",
       " 77: '(41.977299237, -87.655013333)'}"
      ]
     },
     "execution_count": 17,
     "metadata": {},
     "output_type": "execute_result"
    }
   ],
   "source": [
    "community_area_dict = dict()\n",
    "\n",
    "for i in range(1,78):\n",
    "    area_df = DataFrame[DataFrame[\"Community Area\"]==i]\n",
    "    vc = area_df[\"Block\"].value_counts()\n",
    "    max_block = vc.head(1).index[0]\n",
    "    block_df = area_df[area_df[\"Block\"]==max_block]\n",
    "    var = block_df[\"Location\"].iloc[0]\n",
    "    count = 1\n",
    "    while pd.isnull(var):\n",
    "        var = block_df[\"Location\"].iloc[count]\n",
    "        count+=1\n",
    "    community_area_dict[i] = var"
   ]
  },
  {
   "cell_type": "code",
   "execution_count": null,
   "metadata": {},
   "outputs": [],
   "source": [
    "from heliacal import Heliacal\n",
    "Chicago = Heliacal(dt0[Latitude], dt0[Longitude])"
   ]
  },
  {
   "cell_type": "code",
   "execution_count": null,
   "metadata": {
    "colab": {
     "base_uri": "https://localhost:8080/",
     "height": 774
    },
    "id": "iUsWioDZU9Ms",
    "outputId": "438e16a3-8965-4aa8-95d1-81ea866c7a34"
   },
   "outputs": [],
   "source": [
    "dt1 = DataFrame.copy()\n",
    "dt1[\"Arrest\"] = dt1[\"Arrest\"].astype(int)\n",
    "dt1[\"Domestic\"] = dt1[\"Domestic\"].astype(int)\n",
    "dt1[\"FBI Code\"] = (DataFrame[\"FBI Code\"]).apply(lambda x: int(x, 16))\n",
    "dt1[\"Date\"] = pd.to_datetime(dt1['Date'], format=\"%m/%d/%Y %I:%M:%S %p\").dt.dayofweek\n",
    "dt1"
   ]
  },
  {
   "cell_type": "code",
   "execution_count": null,
   "metadata": {
    "colab": {
     "base_uri": "https://localhost:8080/",
     "height": 151
    },
    "id": "zoENdLSSXvi4",
    "outputId": "11731ff7-ae64-40fa-cc64-271b9195905c"
   },
   "outputs": [],
   "source": [
    "dt0[\"Month\"].value_counts()"
   ]
  },
  {
   "cell_type": "markdown",
   "metadata": {},
   "source": [
    "Should we  remove rows related to 6 days at the beginning of September?"
   ]
  },
  {
   "cell_type": "code",
   "execution_count": null,
   "metadata": {},
   "outputs": [],
   "source": []
  },
  {
   "cell_type": "code",
   "execution_count": null,
   "metadata": {},
   "outputs": [],
   "source": [
    "x=np.c_[dt0[\"FBI Code\"]]\n",
    "y=np.c_[dt0[\"Day_of_Month\"]]\n",
    "dt0.plot(kind='scatter', x=\"FBI Code\", y='Day_of_Month', alpha=(0.4),figsize=(30,5))\n",
    "plt.show()"
   ]
  },
  {
   "cell_type": "code",
   "execution_count": null,
   "metadata": {},
   "outputs": [],
   "source": [
    "x=np.c_[dt0[\"FBI Code\"]]\n",
    "y=np.c_[dt0[\"Date\"]]\n",
    "dt0.plot(kind='scatter', x=\"FBI Code\", y='Date', alpha=(0.4),figsize=(30,5))\n",
    "plt.show()"
   ]
  },
  {
   "cell_type": "code",
   "execution_count": null,
   "metadata": {
    "colab": {
     "base_uri": "https://localhost:8080/",
     "height": 274
    },
    "id": "pUFov-YgYBdb",
    "outputId": "416e399a-86a8-4272-a3ae-18ca8193b30c"
   },
   "outputs": [],
   "source": [
    "codt1=dt1[dt1[\"Date\"]==6]\n",
    "codt1.head(3)"
   ]
  },
  {
   "cell_type": "code",
   "execution_count": null,
   "metadata": {
    "colab": {
     "base_uri": "https://localhost:8080/",
     "height": 1000
    },
    "id": "MS-iYcZWYVyo",
    "outputId": "229df909-5b54-47ad-bede-50687a3068f4"
   },
   "outputs": [],
   "source": [
    "codt1.plot(kind='scatter',x=\"X Coordinate\", y=\"Y Coordinate\", alpha=(0.4),figsize=(20,20),c=\"Date\", cmap=plt.get_cmap(\"Blues\"), colorbar=True, sharex=False)\n",
    "plt.legend()"
   ]
  },
  {
   "cell_type": "code",
   "execution_count": null,
   "metadata": {
    "colab": {
     "base_uri": "https://localhost:8080/",
     "height": 774
    },
    "id": "2sKbUGM4VDaV",
    "outputId": "b118a7fd-c534-464f-d37e-c660481091a1"
   },
   "outputs": [],
   "source": [
    "dt2 = DataFrame.copy()\n",
    "dt2['Date'] = pd.to_datetime(dt2['Date'], format=\"%m/%d/%Y %I:%M:%S %p\").dt.day_name()\n",
    "dt2"
   ]
  },
  {
   "cell_type": "code",
   "execution_count": null,
   "metadata": {
    "colab": {
     "base_uri": "https://localhost:8080/",
     "height": 151
    },
    "id": "TfMKvlKtX4Fw",
    "outputId": "e7da2767-c98a-4e26-d22b-ba1f0805b1a9"
   },
   "outputs": [],
   "source": [
    "dt2[\"Date\"].value_counts()"
   ]
  },
  {
   "cell_type": "code",
   "execution_count": null,
   "metadata": {
    "colab": {
     "base_uri": "https://localhost:8080/",
     "height": 34
    },
    "id": "S00hpLJaVcIM",
    "outputId": "677482bf-ed4c-4d21-c785-9c3bc2264f2e"
   },
   "outputs": [],
   "source": [
    "DataFrame.shape[0]"
   ]
  },
  {
   "cell_type": "code",
   "execution_count": null,
   "metadata": {
    "colab": {
     "base_uri": "https://localhost:8080/",
     "height": 34
    },
    "id": "L53xP4c2Vdgk",
    "outputId": "67ed61de-a0a8-44f7-8f59-c67812b6179f"
   },
   "outputs": [],
   "source": [
    "DataFrame.shape[1]"
   ]
  },
  {
   "cell_type": "code",
   "execution_count": null,
   "metadata": {
    "colab": {
     "base_uri": "https://localhost:8080/",
     "height": 218
    },
    "id": "LhdT7EiBVkMj",
    "outputId": "b651a4af-1b90-4073-927b-2416cb765cea"
   },
   "outputs": [],
   "source": [
    "DataFrame[\"Community Area\"].value_counts()"
   ]
  },
  {
   "cell_type": "markdown",
   "metadata": {
    "id": "FGz1wNyMVvPN"
   },
   "source": [
    "Community Area no. 25 appears 8722 time in the data set"
   ]
  },
  {
   "cell_type": "code",
   "execution_count": null,
   "metadata": {
    "colab": {
     "base_uri": "https://localhost:8080/",
     "height": 290
    },
    "id": "dXth4-p_Vwf1",
    "outputId": "74615bcf-b7fe-4a49-dfa4-f5038ba73a1b"
   },
   "outputs": [],
   "source": [
    "co=DataFrame[DataFrame[\"Community Area\"]==25]\n",
    "co.head(3)"
   ]
  },
  {
   "cell_type": "markdown",
   "metadata": {
    "id": "-XxHkA5YWMS4"
   },
   "source": [
    "\"Block\" crimes distribution on \"Community Area\" no.25 It is seen that the top 3 streets with crime:\n",
    "\n",
    "    052XX W MADISON ST(72) & 056XX W MADISON ST(49) & 048XX W MADISON ST(47)\n",
    "    001XX N CENTRAL AVE(63) & 003XX N CENTRAL AVE(58)\n",
    "    003XX S CICERO AVE(60) & 007XX S CICERO AVE(50)\n",
    "\n"
   ]
  },
  {
   "cell_type": "code",
   "execution_count": null,
   "metadata": {
    "colab": {
     "base_uri": "https://localhost:8080/",
     "height": 202
    },
    "id": "qNhmA3avWEZE",
    "outputId": "4573cde3-b6e8-40c8-eb9f-7f98801bb116"
   },
   "outputs": [],
   "source": [
    "co[\"Block\"].value_counts().head(10)"
   ]
  },
  {
   "cell_type": "markdown",
   "metadata": {
    "id": "niuNh-S_WZMX"
   },
   "source": [
    "\"Primary Type\" crimes distribution on \"Community Area\" no.25. It is seen that the top 4 crimes:\n",
    "\n",
    "    Battery\n",
    "    Theft\n",
    "    Criminal Damage\n",
    "    Assualt\n",
    "\n"
   ]
  },
  {
   "cell_type": "code",
   "execution_count": null,
   "metadata": {
    "colab": {
     "base_uri": "https://localhost:8080/",
     "height": 521
    },
    "id": "vGXCuq7EWVDu",
    "outputId": "3b77d3d7-fd60-4a19-8c36-18ce7133aba2"
   },
   "outputs": [],
   "source": [
    "co[\"Primary Type\"].value_counts()"
   ]
  },
  {
   "cell_type": "code",
   "execution_count": null,
   "metadata": {
    "colab": {
     "base_uri": "https://localhost:8080/",
     "height": 218
    },
    "id": "KQxh2CCHWkWQ",
    "outputId": "03a2b422-00c0-45a9-f383-d654176096ed"
   },
   "outputs": [],
   "source": [
    "DataFrame.Description.value_counts()"
   ]
  },
  {
   "cell_type": "code",
   "execution_count": null,
   "metadata": {
    "colab": {
     "base_uri": "https://localhost:8080/",
     "height": 218
    },
    "id": "HK9snCIbWna2",
    "outputId": "28de3b13-613c-42b3-9ab0-076d865478f9"
   },
   "outputs": [],
   "source": [
    "DataFrame[\"Location Description\"].value_counts()"
   ]
  },
  {
   "cell_type": "code",
   "execution_count": null,
   "metadata": {
    "colab": {
     "base_uri": "https://localhost:8080/",
     "height": 892
    },
    "id": "0hLMMU0ZW0Hu",
    "outputId": "3bc66070-a4a7-4a47-be03-53f3e53d7057"
   },
   "outputs": [],
   "source": [
    "DataFrame.sort_values(by=[\"Location Description\", \"Primary Type\"])"
   ]
  },
  {
   "cell_type": "code",
   "execution_count": null,
   "metadata": {
    "colab": {
     "base_uri": "https://localhost:8080/",
     "height": 791
    },
    "id": "qrmtz8IWW8FI",
    "outputId": "a0ec2be7-48e7-45d2-fb1b-2ff3d086a75d"
   },
   "outputs": [],
   "source": [
    "DataFrame[(DataFrame[\"Primary Type\"]==\"ASSAULT\")&(DataFrame[\"Location Description\"]==\"STREET\")]"
   ]
  },
  {
   "cell_type": "code",
   "execution_count": null,
   "metadata": {
    "colab": {
     "base_uri": "https://localhost:8080/",
     "height": 1000
    },
    "id": "bwzYKWMPXF-4",
    "outputId": "ea689718-543d-4cbb-fa2b-7f54c7683003"
   },
   "outputs": [],
   "source": [
    "DataFrame.plot(kind='scatter',x=\"X Coordinate\", y=\"Y Coordinate\", alpha=(0.4),figsize=(50,50),c=\"Community Area\", cmap=plt.get_cmap(\"jet\"), colorbar=True, sharex=False)\n",
    "plt.legend()"
   ]
  },
  {
   "cell_type": "code",
   "execution_count": null,
   "metadata": {
    "colab": {
     "base_uri": "https://localhost:8080/",
     "height": 650
    },
    "id": "B2U7OADLXQbY",
    "outputId": "59da72c6-cfc8-4fcf-b59e-72a3ad163fc3"
   },
   "outputs": [],
   "source": [
    "co.plot(kind='scatter',x=\"X Coordinate\", y=\"Y Coordinate\", alpha=(0.4),figsize=(10,10),c=\"Community Area\", cmap=plt.get_cmap(\"Blues\"), colorbar=True, sharex=False)\n",
    "plt.legend()"
   ]
  },
  {
   "cell_type": "markdown",
   "metadata": {
    "id": "AzvcbZHNXZPf"
   },
   "source": [
    "Plot histogram that shows per district the number of total crimes.\n",
    "Next step would be to create a testing data frame , from 20% of the dataset.\n",
    "Need to make sure that it would resemble  the distribution of all DataSet"
   ]
  },
  {
   "cell_type": "markdown",
   "metadata": {},
   "source": [
    "29/10/20 START"
   ]
  },
  {
   "cell_type": "code",
   "execution_count": null,
   "metadata": {},
   "outputs": [],
   "source": [
    "dt0.describe()"
   ]
  },
  {
   "cell_type": "code",
   "execution_count": null,
   "metadata": {},
   "outputs": [],
   "source": [
    "corrMatrix= dt0.corr()\n",
    "corrMatrix[\"FBI Code\"].sort_values(ascending=True)"
   ]
  },
  {
   "cell_type": "markdown",
   "metadata": {},
   "source": [
    "29/10/20 What is the most common crime  (6 is the most common crime which is theft)"
   ]
  },
  {
   "cell_type": "code",
   "execution_count": null,
   "metadata": {},
   "outputs": [],
   "source": [
    "dt0[\"Community Area\"].value_counts()"
   ]
  },
  {
   "cell_type": "code",
   "execution_count": null,
   "metadata": {},
   "outputs": [],
   "source": [
    "dt0[\"FBI Code\"].value_counts()"
   ]
  },
  {
   "cell_type": "code",
   "execution_count": null,
   "metadata": {},
   "outputs": [],
   "source": [
    "for6=dt0[dt0[\"FBI Code\"]==6]\n",
    "for6"
   ]
  },
  {
   "cell_type": "code",
   "execution_count": null,
   "metadata": {},
   "outputs": [],
   "source": [
    "for6[\"Community Area\"].value_counts()"
   ]
  },
  {
   "cell_type": "markdown",
   "metadata": {},
   "source": [
    "From above area 8 has the highest theft crime. I expected based on below linear regression that 36 area would be the one"
   ]
  },
  {
   "cell_type": "code",
   "execution_count": null,
   "metadata": {},
   "outputs": [],
   "source": [
    "x=np.c_[dt0[\"FBI Code\"]]\n",
    "y=np.c_[dt0[\"Community Area\"]]\n",
    "dt0.plot(kind='scatter', x=\"FBI Code\", y='Community Area', alpha=(0.4),figsize=(30,10))\n",
    "plt.show()"
   ]
  },
  {
   "cell_type": "code",
   "execution_count": null,
   "metadata": {},
   "outputs": [],
   "source": [
    "import sklearn.linear_model\n",
    "model = sklearn.linear_model.LinearRegression()\n",
    "model.fit(x, y)"
   ]
  },
  {
   "cell_type": "code",
   "execution_count": null,
   "metadata": {},
   "outputs": [],
   "source": [
    "X_new = [[6]]"
   ]
  },
  {
   "cell_type": "code",
   "execution_count": null,
   "metadata": {},
   "outputs": [],
   "source": [
    "print(model.predict(X_new))"
   ]
  },
  {
   "cell_type": "code",
   "execution_count": null,
   "metadata": {},
   "outputs": [],
   "source": [
    "for36=dt0[dt0[\"Community Area\"]==36]\n",
    "for36"
   ]
  },
  {
   "cell_type": "code",
   "execution_count": null,
   "metadata": {},
   "outputs": [],
   "source": [
    "for36[\"FBI Code\"].value_counts()"
   ]
  },
  {
   "cell_type": "code",
   "execution_count": null,
   "metadata": {},
   "outputs": [],
   "source": [
    "dt0[\"FBI Code\"].value_counts()"
   ]
  },
  {
   "cell_type": "code",
   "execution_count": null,
   "metadata": {},
   "outputs": [],
   "source": [
    "X_new = [[27]]"
   ]
  },
  {
   "cell_type": "code",
   "execution_count": null,
   "metadata": {},
   "outputs": [],
   "source": [
    "print(model.predict(X_new))"
   ]
  },
  {
   "cell_type": "markdown",
   "metadata": {},
   "source": [
    "29/10/20 END"
   ]
  },
  {
   "cell_type": "code",
   "execution_count": null,
   "metadata": {
    "colab": {
     "base_uri": "https://localhost:8080/",
     "height": 339
    },
    "id": "AvPqvEz6Xac4",
    "outputId": "af57df2e-7e97-4fe8-995c-0ebde86ed9a7"
   },
   "outputs": [],
   "source": [
    "DataFrame[\"Community Area\"].value_counts().plot(kind='bar',figsize=(20,5))"
   ]
  },
  {
   "cell_type": "code",
   "execution_count": null,
   "metadata": {
    "id": "B7rAYBjdYqHX"
   },
   "outputs": [],
   "source": [
    "from sklearn.model_selection import train_test_split\n",
    "train_frame, test_frame = train_test_split(DataFrame)"
   ]
  },
  {
   "cell_type": "code",
   "execution_count": null,
   "metadata": {
    "colab": {
     "base_uri": "https://localhost:8080/",
     "height": 339
    },
    "id": "U3lO1OmdYuMK",
    "outputId": "ae6b7aed-685d-4d42-85f3-4210ef9c5581"
   },
   "outputs": [],
   "source": [
    "test_frame[\"Community Area\"].value_counts().plot(kind='bar',figsize=(20,5))"
   ]
  },
  {
   "cell_type": "code",
   "execution_count": null,
   "metadata": {
    "colab": {
     "base_uri": "https://localhost:8080/",
     "height": 339
    },
    "id": "qRRQp5CNYweA",
    "outputId": "10979a97-7159-49c5-c789-c6a2ff3d2031"
   },
   "outputs": [],
   "source": [
    "train_frame[\"Community Area\"].value_counts().plot(kind='bar',figsize=(20,5))"
   ]
  },
  {
   "cell_type": "code",
   "execution_count": null,
   "metadata": {
    "colab": {
     "base_uri": "https://localhost:8080/",
     "height": 34
    },
    "id": "uzBkfuV5Y4aw",
    "outputId": "efbf2734-c605-422e-cb1b-fcac069fcf8e"
   },
   "outputs": [],
   "source": [
    "len(train_frame)"
   ]
  },
  {
   "cell_type": "code",
   "execution_count": null,
   "metadata": {
    "colab": {
     "base_uri": "https://localhost:8080/",
     "height": 34
    },
    "id": "2Fsq6dH3Y7gB",
    "outputId": "646430b4-1811-4d5e-9ffe-7cc34c13762a"
   },
   "outputs": [],
   "source": [
    "len(test_frame)"
   ]
  },
  {
   "cell_type": "markdown",
   "metadata": {
    "id": "6vng9JS8jqFB"
   },
   "source": [
    "Convert \"FBI Code\" Hexa string to numeric value"
   ]
  },
  {
   "cell_type": "code",
   "execution_count": null,
   "metadata": {
    "colab": {
     "base_uri": "https://localhost:8080/",
     "height": 774
    },
    "id": "iy66DudyjrR2",
    "outputId": "ea65c275-2b15-41e3-9513-1e0642754d8c"
   },
   "outputs": [],
   "source": [
    "dt1['FBI Code'] = (DataFrame[\"FBI Code\"]).apply(lambda x: int(x, 16))\n",
    "dt1"
   ]
  },
  {
   "cell_type": "code",
   "execution_count": null,
   "metadata": {
    "id": "GkfXrTdx3XP7"
   },
   "outputs": [],
   "source": [
    "from sklearn import linear_model\n",
    "from sklearn.utils import shuffle"
   ]
  },
  {
   "cell_type": "code",
   "execution_count": null,
   "metadata": {
    "id": "5pVeIxAN3ImT"
   },
   "outputs": [],
   "source": [
    "dt0=dt0[[\"Date\",\"Arrest\",\"Domestic\",\"Ward\",\"Community Area\",\"FBI Code\"]]\n",
    "dt0"
   ]
  },
  {
   "cell_type": "code",
   "execution_count": null,
   "metadata": {},
   "outputs": [],
   "source": [
    "dt0.info()"
   ]
  },
  {
   "cell_type": "code",
   "execution_count": null,
   "metadata": {},
   "outputs": [],
   "source": [
    "dt0[(dt0[\"Date\"]==\"NaN\")]"
   ]
  },
  {
   "cell_type": "code",
   "execution_count": null,
   "metadata": {},
   "outputs": [],
   "source": [
    "predict=\"FBI Code\"\n",
    "X=np.array(dt0.drop([predict],1))"
   ]
  },
  {
   "cell_type": "code",
   "execution_count": null,
   "metadata": {},
   "outputs": [],
   "source": [
    "type(X)"
   ]
  },
  {
   "cell_type": "code",
   "execution_count": null,
   "metadata": {},
   "outputs": [],
   "source": [
    "Y=np.array(dt0[predict])"
   ]
  },
  {
   "cell_type": "code",
   "execution_count": null,
   "metadata": {},
   "outputs": [],
   "source": [
    "from sklearn.model_selection import train_test_split\n",
    "from sklearn.linear_model import LinearRegression\n",
    "regressor = LinearRegression()"
   ]
  },
  {
   "cell_type": "code",
   "execution_count": null,
   "metadata": {},
   "outputs": [],
   "source": [
    "x_train, x_test, y_train, y_test = sklearn.model_selection.train_test_split(X,Y,test_size=0.1)"
   ]
  },
  {
   "cell_type": "code",
   "execution_count": null,
   "metadata": {},
   "outputs": [],
   "source": [
    "linear=linear_model.LinearRegression()"
   ]
  },
  {
   "cell_type": "code",
   "execution_count": null,
   "metadata": {},
   "outputs": [],
   "source": [
    "dt0"
   ]
  },
  {
   "cell_type": "code",
   "execution_count": null,
   "metadata": {},
   "outputs": [],
   "source": [
    "def clean_dataset(dt0):\n",
    "    assert isinstance(dt0, pd.DataFrame), \"df needs to be a pd.DataFrame\"\n",
    "    dt0.dropna(inplace=True)\n",
    "    indices_to_keep = ~dt0.isin([np.nan, np.inf, -np.inf]).any(1)\n",
    "    return dt0[indices_to_keep].astype(np.float64)"
   ]
  },
  {
   "cell_type": "code",
   "execution_count": null,
   "metadata": {},
   "outputs": [],
   "source": [
    "dt0.dropna()"
   ]
  },
  {
   "cell_type": "code",
   "execution_count": null,
   "metadata": {},
   "outputs": [],
   "source": [
    "linear.fit(x_train, y_train)\n",
    "acc=linear.score(x_test, y_test)\n",
    "print(acc)"
   ]
  },
  {
   "cell_type": "code",
   "execution_count": null,
   "metadata": {},
   "outputs": [],
   "source": [
    "dt0[(dt0[\"Community Area\"]==\"NaN\")]"
   ]
  },
  {
   "cell_type": "code",
   "execution_count": null,
   "metadata": {},
   "outputs": [],
   "source": [
    "corrMatrix= dt1.corr()\n",
    "corrMatrix[\"FBI Code\"].sort_values(ascending=True)"
   ]
  },
  {
   "cell_type": "code",
   "execution_count": null,
   "metadata": {},
   "outputs": [],
   "source": [
    "corrMatrix= dt0.corr()\n",
    "corrMatrix[\"FBI Code\"].sort_values(ascending=True)"
   ]
  }
 ],
 "metadata": {
  "accelerator": "GPU",
  "colab": {
   "collapsed_sections": [],
   "name": "ChicagoCrime-ML.ipynb",
   "provenance": []
  },
  "kernelspec": {
   "display_name": "Python 2",
   "language": "python",
   "name": "python2"
  },
  "language_info": {
   "codemirror_mode": {
    "name": "ipython",
    "version": 2
   },
   "file_extension": ".py",
   "mimetype": "text/x-python",
   "name": "python",
   "nbconvert_exporter": "python",
   "pygments_lexer": "ipython2",
   "version": "2.7.17"
  }
 },
 "nbformat": 4,
 "nbformat_minor": 1
}
