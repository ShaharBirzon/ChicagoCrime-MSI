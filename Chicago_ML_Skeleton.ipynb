{
 "cells": [
  {
   "cell_type": "code",
   "execution_count": 28,
   "metadata": {
    "id": "7gGl05X3tL4W"
   },
   "outputs": [],
   "source": [
    "import pandas as pd\n",
    "import sklearn\n",
    "import matplotlib.pyplot as plt\n",
    "import numpy as np\n",
    "import holidays\n",
    "import datetime\n",
    "%matplotlib inline"
   ]
  },
  {
   "cell_type": "code",
   "execution_count": null,
   "metadata": {
    "colab": {
     "base_uri": "https://localhost:8080/",
     "height": 67
    },
    "id": "R4yYMwUGNA32",
    "outputId": "d7578a90-f5dc-4883-d58b-012a54011eea"
   },
   "outputs": [],
   "source": [
    "!pwd; ls -ll;"
   ]
  },
  {
   "cell_type": "markdown",
   "metadata": {},
   "source": [
    "2 Cells below is relevant only when activating on cloud / Linux machine.\n",
    "Since on Windows  google.colab not working\n"
   ]
  },
  {
   "cell_type": "markdown",
   "metadata": {
    "colab": {
     "base_uri": "https://localhost:8080/",
     "height": 73,
     "resources": {
      "http://localhost:8080/nbextensions/google.colab/files.js": {
       "data": "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",
       "headers": [
        [
         "content-type",
         "application/javascript"
        ]
       ],
       "ok": true,
       "status": 200,
       "status_text": ""
      }
     }
    },
    "id": "r8-ivoruQXS5",
    "outputId": "304193b4-77e2-4ecb-f57f-469553468803"
   },
   "source": [
    "from google.colab import files\n",
    "uploaded = files.upload()"
   ]
  },
  {
   "cell_type": "markdown",
   "metadata": {
    "colab": {
     "base_uri": "https://localhost:8080/",
     "height": 774
    },
    "id": "ApcotWpvtL4Z",
    "outputId": "c4f52494-3377-4154-a6d5-d9002b9f88a3"
   },
   "source": [
    "import io\n",
    "DataFrame = pd.read_csv(io.BytesIO(uploaded['Crimes_-_2020.csv']))\n",
    "DataFrame"
   ]
  },
  {
   "cell_type": "markdown",
   "metadata": {},
   "source": [
    "Update csv data bease:\n",
    "https://drive.google.com/file/d/1s5lavM_C9aLsgdFzUmXOfbh_XvSxl-G4/view?usp=sharing"
   ]
  },
  {
   "cell_type": "code",
   "execution_count": 3,
   "metadata": {},
   "outputs": [],
   "source": [
    "DataFrame = pd.read_csv(\"Crimes_-_2019_to_Present.csv\")"
   ]
  },
  {
   "cell_type": "code",
   "execution_count": 19,
   "metadata": {},
   "outputs": [],
   "source": [
    "Sunrise = pd.read_csv('sunrise-chicago.csv')\n",
    "\n",
    "# Add converted columns\n",
    "Sunrise['dtsunset']=Sunrise.apply(lambda x: datetime.datetime.combine(pd.to_datetime(x['date']), pd.to_datetime(x['sunset']).time()), axis=1)\n",
    "Sunrise['dtsunrise']=Sunrise.apply(lambda x: datetime.datetime.combine(pd.to_datetime(x['date']), pd.to_datetime(x['sunrise']).time()), axis=1)\n",
    "\n",
    "# a constant defining the time between sunset and darkness\n",
    "delta_sunset = datetime.timedelta(0,3600)\n",
    "#TODO: check exact delta, set another constant for sunrise time\n",
    "\n",
    "# Accepts datetime in string, returns boolean if it's in night time\n",
    "def is_dark(datecol) :\n",
    "  d = pd.to_datetime(datecol)\n",
    "  row = Sunrise.loc[Sunrise['date']==d.strftime(\"%Y-%m-%d\")]\n",
    "  return d < row['dtsunrise'].item() or d > (row['dtsunset'].item() + delta_sunset)\n",
    "\n",
    "# Add IsDark colunm to DataFrame\n",
    "# for tests, uncomment the next line and comment the line after it\n",
    "#DataFrame = DataFrame.head()\n",
    "DataFrame['IsDark']=DataFrame.apply(lambda x: is_dark(x['Date']) ,axis=1)\n"
   ]
  },
  {
   "cell_type": "markdown",
   "metadata": {
    "id": "x1H6ac8NTAyl"
   },
   "source": [
    "Based on link below, we shall use FBI code instead of IUCR .\n",
    "http://gis.chicagopolice.org/clearmap_crime_sums/crime_types.html#N04A\n",
    "For example :\n",
    "\n",
    "> **FBI code** - Homicide 1st & 2nd Degree - 01A\n",
    "\n",
    "> **IUCR** \n",
    "*  0110 HOMICIDE FIRST DEGREE MURDER\n",
    "*  0130 HOMICIDE SECOND DEGREE MURDER\n",
    "\n",
    "> **FBI code** - Nonvoluntary Manslaughter - 01B\n",
    "\n",
    "> **IUCR** \n",
    "*    0141 HOMICIDE INVOLUNTARY MANSLAUGHTER\n",
    "*    0142 HOMICIDE RECKLESS HOMICIDE"
   ]
  },
  {
   "cell_type": "code",
   "execution_count": 4,
   "metadata": {},
   "outputs": [
    {
     "data": {
      "text/plain": [
       "Index(['ID', 'Case Number', 'Date', 'Block', 'IUCR', 'Primary Type',\n",
       "       'Description', 'Location Description', 'Arrest', 'Domestic', 'Beat',\n",
       "       'District', 'Ward', 'Community Area', 'FBI Code', 'X Coordinate',\n",
       "       'Y Coordinate', 'Year', 'Updated On', 'Latitude', 'Longitude',\n",
       "       'Location'],\n",
       "      dtype='object')"
      ]
     },
     "execution_count": 4,
     "metadata": {},
     "output_type": "execute_result"
    }
   ],
   "source": [
    "DataFrame.columns"
   ]
  },
  {
   "cell_type": "markdown",
   "metadata": {
    "id": "pjDm1hzAUWF8"
   },
   "source": [
    "**dt0 - Seasons numeric**\n",
    "\n",
    "*   4- Fall   - Lowest crime rate\n",
    "*   3- Summer - Highest crime rate\n",
    "\n",
    "*   2- Spring\n",
    "*   1- Winter\n",
    "\n",
    "**dt1 - Weekday numeric**\n",
    " The day of the week with Monday=0, Sunday=6 \n",
    " \n",
    "**dt2 - Weekday string** \n",
    "\n",
    "*  Sunday - Highest rate crimes\n",
    "*  Tuesday - Lowest rate crimes\n",
    "\n",
    "\n",
    "   \n",
    "    \n"
   ]
  },
  {
   "cell_type": "code",
   "execution_count": 31,
   "metadata": {},
   "outputs": [
    {
     "name": "stdout",
     "output_type": "stream",
     "text": [
      "2020-01-01\n",
      "2020-01-20\n",
      "2020-02-17\n",
      "2020-05-25\n",
      "2020-07-04\n",
      "2020-07-03\n",
      "2020-09-07\n",
      "2020-10-12\n",
      "2020-11-11\n",
      "2020-11-26\n",
      "2020-12-25\n"
     ]
    }
   ],
   "source": [
    "for date in holidays.UnitedStates(years=2020).items():print(str(date[0]))"
   ]
  },
  {
   "cell_type": "code",
   "execution_count": 37,
   "metadata": {},
   "outputs": [
    {
     "name": "stdout",
     "output_type": "stream",
     "text": [
      "['2020-01-01', '2020-01-20', '2020-02-17', '2020-05-25', '2020-07-04', '2020-07-03', '2020-09-07', '2020-10-12', '2020-11-11', '2020-11-26', '2020-12-25']\n"
     ]
    }
   ],
   "source": [
    "us_holidays = []\n",
    "for date in holidays.UnitedStates(years=2020).items():\n",
    "    us_holidays.append(str(date[0]))\n",
    "print(us_holidays)"
   ]
  },
  {
   "cell_type": "code",
   "execution_count": 59,
   "metadata": {
    "colab": {
     "base_uri": "https://localhost:8080/",
     "height": 101
    },
    "id": "iAZelH3eU38W",
    "outputId": "9ab1f6cf-116a-4cf3-9b1e-f3cb363e972f"
   },
   "outputs": [
    {
     "data": {
      "text/plain": [
       "Index(['Date', 'Block', 'IUCR', 'Primary Type', 'Description',\n",
       "       'Location Description', 'Arrest', 'Domestic', 'Beat', 'District',\n",
       "       'Ward', 'Community Area', 'FBI Code', 'X Coordinate', 'Y Coordinate',\n",
       "       'Latitude', 'Longitude', 'Location', 'Season', 'Weekday', 'Just_Date',\n",
       "       'Is_Holiday', 'Day_of_Month', 'Month'],\n",
       "      dtype='object')"
      ]
     },
     "execution_count": 59,
     "metadata": {},
     "output_type": "execute_result"
    }
   ],
   "source": [
    "dt0 = DataFrame.copy()\n",
    "del dt0['ID']\n",
    "##del dt0['Year']\n",
    "del dt0['Case Number']\n",
    "del dt0['Updated On']\n",
    "dt0[\"Arrest\"] = dt0[\"Arrest\"].astype(int)\n",
    "dt0[\"Domestic\"] = dt0[\"Domestic\"].astype(int)\n",
    "dt0[\"FBI Code\"] = (DataFrame[\"FBI Code\"]).apply(lambda x: int(x, 16))\n",
    "dt0[\"Season\"] = (pd.to_datetime(dt0['Date'], format=\"%m/%d/%Y %I:%M:%S %p\").dt.month%12 + 3)//3\n",
    "dt0[\"Weekday\"] = pd.to_datetime(dt0['Date'], format=\"%m/%d/%Y %I:%M:%S %p\").dt.dayofweek\n",
    "dt0[\"Just_Date\"] = (pd.to_datetime(dt0['Date'])).dt.date\n",
    "dt0[\"Is_Holiday\"] = [ 1 if str(val).split()[0] in us_holidays else 0 for val in dt0[\"Just_Date\"]]\n",
    "dt0[\"Day_of_Month\"] = pd.to_datetime(dt0[\"Just_Date\"]).dt.day\n",
    "dt0[\"Month\"] = pd.to_datetime(dt0[\"Just_Date\"]).dt.month\n",
    "#dt0[\"Day_of_Month\"] = pd.to_datetime(dt0['Just_Date']).dt.day.values\n",
    "##dt0[\"just_date\"] = dt0['Date'].dt.date\n",
    "##  dt0[\"Date\"] = (pd.to_datetime(dt0['Date'], format=\"%m/%d/%Y %I:%M:%S %p\").dt.month%12 + 3)//3\n",
    "## dt0[\"Date\"].value_counts()\n",
    "dt0.columns"
   ]
  },
  {
   "cell_type": "code",
   "execution_count": 61,
   "metadata": {},
   "outputs": [
    {
     "data": {
      "text/html": [
       "<div>\n",
       "<style scoped>\n",
       "    .dataframe tbody tr th:only-of-type {\n",
       "        vertical-align: middle;\n",
       "    }\n",
       "\n",
       "    .dataframe tbody tr th {\n",
       "        vertical-align: top;\n",
       "    }\n",
       "\n",
       "    .dataframe thead th {\n",
       "        text-align: right;\n",
       "    }\n",
       "</style>\n",
       "<table border=\"1\" class=\"dataframe\">\n",
       "  <thead>\n",
       "    <tr style=\"text-align: right;\">\n",
       "      <th></th>\n",
       "      <th>Date</th>\n",
       "      <th>Block</th>\n",
       "      <th>IUCR</th>\n",
       "      <th>Primary Type</th>\n",
       "      <th>Description</th>\n",
       "      <th>Location Description</th>\n",
       "      <th>Arrest</th>\n",
       "      <th>Domestic</th>\n",
       "      <th>Beat</th>\n",
       "      <th>District</th>\n",
       "      <th>...</th>\n",
       "      <th>Y Coordinate</th>\n",
       "      <th>Latitude</th>\n",
       "      <th>Longitude</th>\n",
       "      <th>Location</th>\n",
       "      <th>Season</th>\n",
       "      <th>Weekday</th>\n",
       "      <th>Just_Date</th>\n",
       "      <th>Is_Holiday</th>\n",
       "      <th>Day_of_Month</th>\n",
       "      <th>Month</th>\n",
       "    </tr>\n",
       "  </thead>\n",
       "  <tbody>\n",
       "    <tr>\n",
       "      <th>0</th>\n",
       "      <td>09/06/2020 04:30:00 AM</td>\n",
       "      <td>122XX S ADA ST</td>\n",
       "      <td>051A</td>\n",
       "      <td>ASSAULT</td>\n",
       "      <td>AGGRAVATED - HANDGUN</td>\n",
       "      <td>VEHICLE NON-COMMERCIAL</td>\n",
       "      <td>0</td>\n",
       "      <td>0</td>\n",
       "      <td>524</td>\n",
       "      <td>5</td>\n",
       "      <td>...</td>\n",
       "      <td>1823602.0</td>\n",
       "      <td>41.671462</td>\n",
       "      <td>-87.655101</td>\n",
       "      <td>(41.671461741, -87.65510074)</td>\n",
       "      <td>4</td>\n",
       "      <td>6</td>\n",
       "      <td>2020-09-06</td>\n",
       "      <td>0</td>\n",
       "      <td>6</td>\n",
       "      <td>9</td>\n",
       "    </tr>\n",
       "    <tr>\n",
       "      <th>1</th>\n",
       "      <td>09/06/2020 03:30:00 PM</td>\n",
       "      <td>036XX W DIVERSEY AVE</td>\n",
       "      <td>1310</td>\n",
       "      <td>CRIMINAL DAMAGE</td>\n",
       "      <td>TO PROPERTY</td>\n",
       "      <td>APARTMENT</td>\n",
       "      <td>0</td>\n",
       "      <td>0</td>\n",
       "      <td>2524</td>\n",
       "      <td>25</td>\n",
       "      <td>...</td>\n",
       "      <td>1918368.0</td>\n",
       "      <td>41.931886</td>\n",
       "      <td>-87.718974</td>\n",
       "      <td>(41.931885873, -87.718974049)</td>\n",
       "      <td>4</td>\n",
       "      <td>6</td>\n",
       "      <td>2020-09-06</td>\n",
       "      <td>0</td>\n",
       "      <td>6</td>\n",
       "      <td>9</td>\n",
       "    </tr>\n",
       "    <tr>\n",
       "      <th>2</th>\n",
       "      <td>09/06/2020 08:11:00 PM</td>\n",
       "      <td>034XX N NATOMA AVE</td>\n",
       "      <td>0486</td>\n",
       "      <td>BATTERY</td>\n",
       "      <td>DOMESTIC BATTERY SIMPLE</td>\n",
       "      <td>SIDEWALK</td>\n",
       "      <td>0</td>\n",
       "      <td>1</td>\n",
       "      <td>1632</td>\n",
       "      <td>16</td>\n",
       "      <td>...</td>\n",
       "      <td>1922126.0</td>\n",
       "      <td>41.942567</td>\n",
       "      <td>-87.792209</td>\n",
       "      <td>(41.942567168, -87.792208683)</td>\n",
       "      <td>4</td>\n",
       "      <td>6</td>\n",
       "      <td>2020-09-06</td>\n",
       "      <td>0</td>\n",
       "      <td>6</td>\n",
       "      <td>9</td>\n",
       "    </tr>\n",
       "    <tr>\n",
       "      <th>3</th>\n",
       "      <td>09/06/2020 12:00:00 AM</td>\n",
       "      <td>047XX N WINTHROP AVE</td>\n",
       "      <td>1320</td>\n",
       "      <td>CRIMINAL DAMAGE</td>\n",
       "      <td>TO VEHICLE</td>\n",
       "      <td>STREET</td>\n",
       "      <td>0</td>\n",
       "      <td>0</td>\n",
       "      <td>1914</td>\n",
       "      <td>19</td>\n",
       "      <td>...</td>\n",
       "      <td>1931673.0</td>\n",
       "      <td>41.968053</td>\n",
       "      <td>-87.657619</td>\n",
       "      <td>(41.968052927, -87.657619242)</td>\n",
       "      <td>4</td>\n",
       "      <td>6</td>\n",
       "      <td>2020-09-06</td>\n",
       "      <td>0</td>\n",
       "      <td>6</td>\n",
       "      <td>9</td>\n",
       "    </tr>\n",
       "    <tr>\n",
       "      <th>4</th>\n",
       "      <td>09/06/2020 04:30:00 PM</td>\n",
       "      <td>071XX S WESTERN AVE</td>\n",
       "      <td>0560</td>\n",
       "      <td>ASSAULT</td>\n",
       "      <td>SIMPLE</td>\n",
       "      <td>DRUG STORE</td>\n",
       "      <td>0</td>\n",
       "      <td>0</td>\n",
       "      <td>832</td>\n",
       "      <td>8</td>\n",
       "      <td>...</td>\n",
       "      <td>1857318.0</td>\n",
       "      <td>41.764152</td>\n",
       "      <td>-87.683229</td>\n",
       "      <td>(41.764151886, -87.683229302)</td>\n",
       "      <td>4</td>\n",
       "      <td>6</td>\n",
       "      <td>2020-09-06</td>\n",
       "      <td>0</td>\n",
       "      <td>6</td>\n",
       "      <td>9</td>\n",
       "    </tr>\n",
       "    <tr>\n",
       "      <th>...</th>\n",
       "      <td>...</td>\n",
       "      <td>...</td>\n",
       "      <td>...</td>\n",
       "      <td>...</td>\n",
       "      <td>...</td>\n",
       "      <td>...</td>\n",
       "      <td>...</td>\n",
       "      <td>...</td>\n",
       "      <td>...</td>\n",
       "      <td>...</td>\n",
       "      <td>...</td>\n",
       "      <td>...</td>\n",
       "      <td>...</td>\n",
       "      <td>...</td>\n",
       "      <td>...</td>\n",
       "      <td>...</td>\n",
       "      <td>...</td>\n",
       "      <td>...</td>\n",
       "      <td>...</td>\n",
       "      <td>...</td>\n",
       "      <td>...</td>\n",
       "    </tr>\n",
       "    <tr>\n",
       "      <th>143114</th>\n",
       "      <td>01/01/2020 01:24:00 AM</td>\n",
       "      <td>062XX S WHIPPLE ST</td>\n",
       "      <td>0486</td>\n",
       "      <td>BATTERY</td>\n",
       "      <td>DOMESTIC BATTERY SIMPLE</td>\n",
       "      <td>APARTMENT</td>\n",
       "      <td>0</td>\n",
       "      <td>1</td>\n",
       "      <td>823</td>\n",
       "      <td>8</td>\n",
       "      <td>...</td>\n",
       "      <td>1863026.0</td>\n",
       "      <td>41.779907</td>\n",
       "      <td>-87.699510</td>\n",
       "      <td>(41.779907312, -87.699510196)</td>\n",
       "      <td>1</td>\n",
       "      <td>2</td>\n",
       "      <td>2020-01-01</td>\n",
       "      <td>1</td>\n",
       "      <td>1</td>\n",
       "      <td>1</td>\n",
       "    </tr>\n",
       "    <tr>\n",
       "      <th>143115</th>\n",
       "      <td>01/01/2020 03:00:00 AM</td>\n",
       "      <td>002XX N PINE AVE</td>\n",
       "      <td>0486</td>\n",
       "      <td>BATTERY</td>\n",
       "      <td>DOMESTIC BATTERY SIMPLE</td>\n",
       "      <td>APARTMENT</td>\n",
       "      <td>0</td>\n",
       "      <td>1</td>\n",
       "      <td>1523</td>\n",
       "      <td>15</td>\n",
       "      <td>...</td>\n",
       "      <td>1901141.0</td>\n",
       "      <td>41.884840</td>\n",
       "      <td>-87.763346</td>\n",
       "      <td>(41.884839745, -87.763346491)</td>\n",
       "      <td>1</td>\n",
       "      <td>2</td>\n",
       "      <td>2020-01-01</td>\n",
       "      <td>1</td>\n",
       "      <td>1</td>\n",
       "      <td>1</td>\n",
       "    </tr>\n",
       "    <tr>\n",
       "      <th>143116</th>\n",
       "      <td>01/01/2020 02:13:00 PM</td>\n",
       "      <td>054XX N SHERIDAN RD</td>\n",
       "      <td>0486</td>\n",
       "      <td>BATTERY</td>\n",
       "      <td>DOMESTIC BATTERY SIMPLE</td>\n",
       "      <td>RESIDENCE</td>\n",
       "      <td>0</td>\n",
       "      <td>0</td>\n",
       "      <td>2023</td>\n",
       "      <td>20</td>\n",
       "      <td>...</td>\n",
       "      <td>1936265.0</td>\n",
       "      <td>41.980639</td>\n",
       "      <td>-87.655103</td>\n",
       "      <td>(41.980639456, -87.65510293)</td>\n",
       "      <td>1</td>\n",
       "      <td>2</td>\n",
       "      <td>2020-01-01</td>\n",
       "      <td>1</td>\n",
       "      <td>1</td>\n",
       "      <td>1</td>\n",
       "    </tr>\n",
       "    <tr>\n",
       "      <th>143117</th>\n",
       "      <td>01/01/2020 04:07:00 AM</td>\n",
       "      <td>068XX S PERRY AVE</td>\n",
       "      <td>0486</td>\n",
       "      <td>BATTERY</td>\n",
       "      <td>DOMESTIC BATTERY SIMPLE</td>\n",
       "      <td>APARTMENT</td>\n",
       "      <td>0</td>\n",
       "      <td>1</td>\n",
       "      <td>722</td>\n",
       "      <td>7</td>\n",
       "      <td>...</td>\n",
       "      <td>1859630.0</td>\n",
       "      <td>41.770173</td>\n",
       "      <td>-87.628291</td>\n",
       "      <td>(41.770172698, -87.628291299)</td>\n",
       "      <td>1</td>\n",
       "      <td>2</td>\n",
       "      <td>2020-01-01</td>\n",
       "      <td>1</td>\n",
       "      <td>1</td>\n",
       "      <td>1</td>\n",
       "    </tr>\n",
       "    <tr>\n",
       "      <th>143118</th>\n",
       "      <td>01/01/2020 03:00:00 PM</td>\n",
       "      <td>015XX W WABANSIA AVE</td>\n",
       "      <td>0560</td>\n",
       "      <td>ASSAULT</td>\n",
       "      <td>SIMPLE</td>\n",
       "      <td>APARTMENT</td>\n",
       "      <td>0</td>\n",
       "      <td>1</td>\n",
       "      <td>1433</td>\n",
       "      <td>14</td>\n",
       "      <td>...</td>\n",
       "      <td>1911394.0</td>\n",
       "      <td>41.912459</td>\n",
       "      <td>-87.667141</td>\n",
       "      <td>(41.912458603, -87.667140971)</td>\n",
       "      <td>1</td>\n",
       "      <td>2</td>\n",
       "      <td>2020-01-01</td>\n",
       "      <td>1</td>\n",
       "      <td>1</td>\n",
       "      <td>1</td>\n",
       "    </tr>\n",
       "  </tbody>\n",
       "</table>\n",
       "<p>143119 rows × 24 columns</p>\n",
       "</div>"
      ],
      "text/plain": [
       "                          Date                 Block  IUCR     Primary Type  \\\n",
       "0       09/06/2020 04:30:00 AM        122XX S ADA ST  051A          ASSAULT   \n",
       "1       09/06/2020 03:30:00 PM  036XX W DIVERSEY AVE  1310  CRIMINAL DAMAGE   \n",
       "2       09/06/2020 08:11:00 PM    034XX N NATOMA AVE  0486          BATTERY   \n",
       "3       09/06/2020 12:00:00 AM  047XX N WINTHROP AVE  1320  CRIMINAL DAMAGE   \n",
       "4       09/06/2020 04:30:00 PM   071XX S WESTERN AVE  0560          ASSAULT   \n",
       "...                        ...                   ...   ...              ...   \n",
       "143114  01/01/2020 01:24:00 AM    062XX S WHIPPLE ST  0486          BATTERY   \n",
       "143115  01/01/2020 03:00:00 AM      002XX N PINE AVE  0486          BATTERY   \n",
       "143116  01/01/2020 02:13:00 PM   054XX N SHERIDAN RD  0486          BATTERY   \n",
       "143117  01/01/2020 04:07:00 AM     068XX S PERRY AVE  0486          BATTERY   \n",
       "143118  01/01/2020 03:00:00 PM  015XX W WABANSIA AVE  0560          ASSAULT   \n",
       "\n",
       "                    Description    Location Description  Arrest  Domestic  \\\n",
       "0          AGGRAVATED - HANDGUN  VEHICLE NON-COMMERCIAL       0         0   \n",
       "1                   TO PROPERTY               APARTMENT       0         0   \n",
       "2       DOMESTIC BATTERY SIMPLE                SIDEWALK       0         1   \n",
       "3                    TO VEHICLE                  STREET       0         0   \n",
       "4                        SIMPLE              DRUG STORE       0         0   \n",
       "...                         ...                     ...     ...       ...   \n",
       "143114  DOMESTIC BATTERY SIMPLE               APARTMENT       0         1   \n",
       "143115  DOMESTIC BATTERY SIMPLE               APARTMENT       0         1   \n",
       "143116  DOMESTIC BATTERY SIMPLE               RESIDENCE       0         0   \n",
       "143117  DOMESTIC BATTERY SIMPLE               APARTMENT       0         1   \n",
       "143118                   SIMPLE               APARTMENT       0         1   \n",
       "\n",
       "        Beat  District  ...  Y Coordinate   Latitude  Longitude  \\\n",
       "0        524         5  ...     1823602.0  41.671462 -87.655101   \n",
       "1       2524        25  ...     1918368.0  41.931886 -87.718974   \n",
       "2       1632        16  ...     1922126.0  41.942567 -87.792209   \n",
       "3       1914        19  ...     1931673.0  41.968053 -87.657619   \n",
       "4        832         8  ...     1857318.0  41.764152 -87.683229   \n",
       "...      ...       ...  ...           ...        ...        ...   \n",
       "143114   823         8  ...     1863026.0  41.779907 -87.699510   \n",
       "143115  1523        15  ...     1901141.0  41.884840 -87.763346   \n",
       "143116  2023        20  ...     1936265.0  41.980639 -87.655103   \n",
       "143117   722         7  ...     1859630.0  41.770173 -87.628291   \n",
       "143118  1433        14  ...     1911394.0  41.912459 -87.667141   \n",
       "\n",
       "                             Location  Season  Weekday   Just_Date Is_Holiday  \\\n",
       "0        (41.671461741, -87.65510074)       4        6  2020-09-06          0   \n",
       "1       (41.931885873, -87.718974049)       4        6  2020-09-06          0   \n",
       "2       (41.942567168, -87.792208683)       4        6  2020-09-06          0   \n",
       "3       (41.968052927, -87.657619242)       4        6  2020-09-06          0   \n",
       "4       (41.764151886, -87.683229302)       4        6  2020-09-06          0   \n",
       "...                               ...     ...      ...         ...        ...   \n",
       "143114  (41.779907312, -87.699510196)       1        2  2020-01-01          1   \n",
       "143115  (41.884839745, -87.763346491)       1        2  2020-01-01          1   \n",
       "143116   (41.980639456, -87.65510293)       1        2  2020-01-01          1   \n",
       "143117  (41.770172698, -87.628291299)       1        2  2020-01-01          1   \n",
       "143118  (41.912458603, -87.667140971)       1        2  2020-01-01          1   \n",
       "\n",
       "        Day_of_Month  Month  \n",
       "0                  6      9  \n",
       "1                  6      9  \n",
       "2                  6      9  \n",
       "3                  6      9  \n",
       "4                  6      9  \n",
       "...              ...    ...  \n",
       "143114             1      1  \n",
       "143115             1      1  \n",
       "143116             1      1  \n",
       "143117             1      1  \n",
       "143118             1      1  \n",
       "\n",
       "[143119 rows x 24 columns]"
      ]
     },
     "execution_count": 61,
     "metadata": {},
     "output_type": "execute_result"
    }
   ],
   "source": [
    "dt0"
   ]
  },
  {
   "cell_type": "code",
   "execution_count": 47,
   "metadata": {},
   "outputs": [
    {
     "data": {
      "text/plain": [
       "geopy.location.Location"
      ]
     },
     "execution_count": 47,
     "metadata": {},
     "output_type": "execute_result"
    }
   ],
   "source": [
    "import requests\n",
    "from geopy.geocoders import Nominatim\n",
    "geolocator = Nominatim(user_agent=\"My_geolocate\")\n",
    "\n",
    "lookingFor = \"Chicago\"\n",
    "locations = geolocator.geocode(lookingFor)\n",
    "type(locations)\n",
    "\n",
    "\n",
    "\n",
    "##print(locations)\n",
    "##r = requests.get('https://api.sunrise-sunset.org/json', params={'lat': dt0[Latitude], 'lng': dt0[Longitude]}).json()['results']\n",
    "##r = requests.get('https://api.sunrise-sunset.org/json', params={'lat': locations.latitude, 'lng': locations.longitude}).json()['results']\n",
    "##print('Sunrise:', r['sunrise'])\n",
    "##print('Sunset:', r['sunset'])"
   ]
  },
  {
   "cell_type": "code",
   "execution_count": null,
   "metadata": {},
   "outputs": [],
   "source": [
    "from heliacal import Heliacal\n",
    "Chicago = Heliacal(dt0[Latitude], dt0[Longitude])"
   ]
  },
  {
   "cell_type": "code",
   "execution_count": 6,
   "metadata": {
    "colab": {
     "base_uri": "https://localhost:8080/",
     "height": 774
    },
    "id": "iUsWioDZU9Ms",
    "outputId": "438e16a3-8965-4aa8-95d1-81ea866c7a34"
   },
   "outputs": [
    {
     "data": {
      "text/html": [
       "<div>\n",
       "<style scoped>\n",
       "    .dataframe tbody tr th:only-of-type {\n",
       "        vertical-align: middle;\n",
       "    }\n",
       "\n",
       "    .dataframe tbody tr th {\n",
       "        vertical-align: top;\n",
       "    }\n",
       "\n",
       "    .dataframe thead th {\n",
       "        text-align: right;\n",
       "    }\n",
       "</style>\n",
       "<table border=\"1\" class=\"dataframe\">\n",
       "  <thead>\n",
       "    <tr style=\"text-align: right;\">\n",
       "      <th></th>\n",
       "      <th>ID</th>\n",
       "      <th>Case Number</th>\n",
       "      <th>Date</th>\n",
       "      <th>Block</th>\n",
       "      <th>IUCR</th>\n",
       "      <th>Primary Type</th>\n",
       "      <th>Description</th>\n",
       "      <th>Location Description</th>\n",
       "      <th>Arrest</th>\n",
       "      <th>Domestic</th>\n",
       "      <th>...</th>\n",
       "      <th>Ward</th>\n",
       "      <th>Community Area</th>\n",
       "      <th>FBI Code</th>\n",
       "      <th>X Coordinate</th>\n",
       "      <th>Y Coordinate</th>\n",
       "      <th>Year</th>\n",
       "      <th>Updated On</th>\n",
       "      <th>Latitude</th>\n",
       "      <th>Longitude</th>\n",
       "      <th>Location</th>\n",
       "    </tr>\n",
       "  </thead>\n",
       "  <tbody>\n",
       "    <tr>\n",
       "      <th>0</th>\n",
       "      <td>12157684</td>\n",
       "      <td>JD358233</td>\n",
       "      <td>6</td>\n",
       "      <td>122XX S ADA ST</td>\n",
       "      <td>051A</td>\n",
       "      <td>ASSAULT</td>\n",
       "      <td>AGGRAVATED - HANDGUN</td>\n",
       "      <td>VEHICLE NON-COMMERCIAL</td>\n",
       "      <td>0</td>\n",
       "      <td>0</td>\n",
       "      <td>...</td>\n",
       "      <td>34.0</td>\n",
       "      <td>53</td>\n",
       "      <td>74</td>\n",
       "      <td>1169548.0</td>\n",
       "      <td>1823602.0</td>\n",
       "      <td>2020</td>\n",
       "      <td>09/13/2020 03:48:11 PM</td>\n",
       "      <td>41.671462</td>\n",
       "      <td>-87.655101</td>\n",
       "      <td>(41.671461741, -87.65510074)</td>\n",
       "    </tr>\n",
       "    <tr>\n",
       "      <th>1</th>\n",
       "      <td>12158021</td>\n",
       "      <td>JD358730</td>\n",
       "      <td>6</td>\n",
       "      <td>036XX W DIVERSEY AVE</td>\n",
       "      <td>1310</td>\n",
       "      <td>CRIMINAL DAMAGE</td>\n",
       "      <td>TO PROPERTY</td>\n",
       "      <td>APARTMENT</td>\n",
       "      <td>0</td>\n",
       "      <td>0</td>\n",
       "      <td>...</td>\n",
       "      <td>35.0</td>\n",
       "      <td>22</td>\n",
       "      <td>20</td>\n",
       "      <td>1151419.0</td>\n",
       "      <td>1918368.0</td>\n",
       "      <td>2020</td>\n",
       "      <td>09/13/2020 03:48:11 PM</td>\n",
       "      <td>41.931886</td>\n",
       "      <td>-87.718974</td>\n",
       "      <td>(41.931885873, -87.718974049)</td>\n",
       "    </tr>\n",
       "    <tr>\n",
       "      <th>2</th>\n",
       "      <td>12158278</td>\n",
       "      <td>JD358923</td>\n",
       "      <td>6</td>\n",
       "      <td>034XX N NATOMA AVE</td>\n",
       "      <td>0486</td>\n",
       "      <td>BATTERY</td>\n",
       "      <td>DOMESTIC BATTERY SIMPLE</td>\n",
       "      <td>SIDEWALK</td>\n",
       "      <td>0</td>\n",
       "      <td>1</td>\n",
       "      <td>...</td>\n",
       "      <td>38.0</td>\n",
       "      <td>17</td>\n",
       "      <td>139</td>\n",
       "      <td>1131467.0</td>\n",
       "      <td>1922126.0</td>\n",
       "      <td>2020</td>\n",
       "      <td>09/13/2020 03:48:11 PM</td>\n",
       "      <td>41.942567</td>\n",
       "      <td>-87.792209</td>\n",
       "      <td>(41.942567168, -87.792208683)</td>\n",
       "    </tr>\n",
       "    <tr>\n",
       "      <th>3</th>\n",
       "      <td>12158889</td>\n",
       "      <td>JD359283</td>\n",
       "      <td>6</td>\n",
       "      <td>047XX N WINTHROP AVE</td>\n",
       "      <td>1320</td>\n",
       "      <td>CRIMINAL DAMAGE</td>\n",
       "      <td>TO VEHICLE</td>\n",
       "      <td>STREET</td>\n",
       "      <td>0</td>\n",
       "      <td>0</td>\n",
       "      <td>...</td>\n",
       "      <td>46.0</td>\n",
       "      <td>3</td>\n",
       "      <td>20</td>\n",
       "      <td>1168010.0</td>\n",
       "      <td>1931673.0</td>\n",
       "      <td>2020</td>\n",
       "      <td>09/13/2020 03:48:11 PM</td>\n",
       "      <td>41.968053</td>\n",
       "      <td>-87.657619</td>\n",
       "      <td>(41.968052927, -87.657619242)</td>\n",
       "    </tr>\n",
       "    <tr>\n",
       "      <th>4</th>\n",
       "      <td>12159507</td>\n",
       "      <td>JD358752</td>\n",
       "      <td>6</td>\n",
       "      <td>071XX S WESTERN AVE</td>\n",
       "      <td>0560</td>\n",
       "      <td>ASSAULT</td>\n",
       "      <td>SIMPLE</td>\n",
       "      <td>DRUG STORE</td>\n",
       "      <td>0</td>\n",
       "      <td>0</td>\n",
       "      <td>...</td>\n",
       "      <td>18.0</td>\n",
       "      <td>66</td>\n",
       "      <td>138</td>\n",
       "      <td>1161608.0</td>\n",
       "      <td>1857318.0</td>\n",
       "      <td>2020</td>\n",
       "      <td>09/13/2020 03:48:11 PM</td>\n",
       "      <td>41.764152</td>\n",
       "      <td>-87.683229</td>\n",
       "      <td>(41.764151886, -87.683229302)</td>\n",
       "    </tr>\n",
       "    <tr>\n",
       "      <th>...</th>\n",
       "      <td>...</td>\n",
       "      <td>...</td>\n",
       "      <td>...</td>\n",
       "      <td>...</td>\n",
       "      <td>...</td>\n",
       "      <td>...</td>\n",
       "      <td>...</td>\n",
       "      <td>...</td>\n",
       "      <td>...</td>\n",
       "      <td>...</td>\n",
       "      <td>...</td>\n",
       "      <td>...</td>\n",
       "      <td>...</td>\n",
       "      <td>...</td>\n",
       "      <td>...</td>\n",
       "      <td>...</td>\n",
       "      <td>...</td>\n",
       "      <td>...</td>\n",
       "      <td>...</td>\n",
       "      <td>...</td>\n",
       "      <td>...</td>\n",
       "    </tr>\n",
       "    <tr>\n",
       "      <th>143114</th>\n",
       "      <td>11940534</td>\n",
       "      <td>JD100083</td>\n",
       "      <td>2</td>\n",
       "      <td>062XX S WHIPPLE ST</td>\n",
       "      <td>0486</td>\n",
       "      <td>BATTERY</td>\n",
       "      <td>DOMESTIC BATTERY SIMPLE</td>\n",
       "      <td>APARTMENT</td>\n",
       "      <td>0</td>\n",
       "      <td>1</td>\n",
       "      <td>...</td>\n",
       "      <td>16.0</td>\n",
       "      <td>66</td>\n",
       "      <td>139</td>\n",
       "      <td>1157124.0</td>\n",
       "      <td>1863026.0</td>\n",
       "      <td>2020</td>\n",
       "      <td>01/08/2020 03:49:48 PM</td>\n",
       "      <td>41.779907</td>\n",
       "      <td>-87.699510</td>\n",
       "      <td>(41.779907312, -87.699510196)</td>\n",
       "    </tr>\n",
       "    <tr>\n",
       "      <th>143115</th>\n",
       "      <td>11938186</td>\n",
       "      <td>JD100178</td>\n",
       "      <td>2</td>\n",
       "      <td>002XX N PINE AVE</td>\n",
       "      <td>0486</td>\n",
       "      <td>BATTERY</td>\n",
       "      <td>DOMESTIC BATTERY SIMPLE</td>\n",
       "      <td>APARTMENT</td>\n",
       "      <td>0</td>\n",
       "      <td>1</td>\n",
       "      <td>...</td>\n",
       "      <td>37.0</td>\n",
       "      <td>25</td>\n",
       "      <td>139</td>\n",
       "      <td>1139459.0</td>\n",
       "      <td>1901141.0</td>\n",
       "      <td>2020</td>\n",
       "      <td>01/08/2020 03:49:48 PM</td>\n",
       "      <td>41.884840</td>\n",
       "      <td>-87.763346</td>\n",
       "      <td>(41.884839745, -87.763346491)</td>\n",
       "    </tr>\n",
       "    <tr>\n",
       "      <th>143116</th>\n",
       "      <td>11938654</td>\n",
       "      <td>JD100726</td>\n",
       "      <td>2</td>\n",
       "      <td>054XX N SHERIDAN RD</td>\n",
       "      <td>0486</td>\n",
       "      <td>BATTERY</td>\n",
       "      <td>DOMESTIC BATTERY SIMPLE</td>\n",
       "      <td>RESIDENCE</td>\n",
       "      <td>0</td>\n",
       "      <td>0</td>\n",
       "      <td>...</td>\n",
       "      <td>48.0</td>\n",
       "      <td>77</td>\n",
       "      <td>139</td>\n",
       "      <td>1168658.0</td>\n",
       "      <td>1936265.0</td>\n",
       "      <td>2020</td>\n",
       "      <td>01/08/2020 03:49:48 PM</td>\n",
       "      <td>41.980639</td>\n",
       "      <td>-87.655103</td>\n",
       "      <td>(41.980639456, -87.65510293)</td>\n",
       "    </tr>\n",
       "    <tr>\n",
       "      <th>143117</th>\n",
       "      <td>11938353</td>\n",
       "      <td>JD100252</td>\n",
       "      <td>2</td>\n",
       "      <td>068XX S PERRY AVE</td>\n",
       "      <td>0486</td>\n",
       "      <td>BATTERY</td>\n",
       "      <td>DOMESTIC BATTERY SIMPLE</td>\n",
       "      <td>APARTMENT</td>\n",
       "      <td>0</td>\n",
       "      <td>1</td>\n",
       "      <td>...</td>\n",
       "      <td>6.0</td>\n",
       "      <td>69</td>\n",
       "      <td>139</td>\n",
       "      <td>1176578.0</td>\n",
       "      <td>1859630.0</td>\n",
       "      <td>2020</td>\n",
       "      <td>01/08/2020 03:49:48 PM</td>\n",
       "      <td>41.770173</td>\n",
       "      <td>-87.628291</td>\n",
       "      <td>(41.770172698, -87.628291299)</td>\n",
       "    </tr>\n",
       "    <tr>\n",
       "      <th>143118</th>\n",
       "      <td>11939683</td>\n",
       "      <td>JD101917</td>\n",
       "      <td>2</td>\n",
       "      <td>015XX W WABANSIA AVE</td>\n",
       "      <td>0560</td>\n",
       "      <td>ASSAULT</td>\n",
       "      <td>SIMPLE</td>\n",
       "      <td>APARTMENT</td>\n",
       "      <td>0</td>\n",
       "      <td>1</td>\n",
       "      <td>...</td>\n",
       "      <td>32.0</td>\n",
       "      <td>24</td>\n",
       "      <td>138</td>\n",
       "      <td>1165578.0</td>\n",
       "      <td>1911394.0</td>\n",
       "      <td>2020</td>\n",
       "      <td>01/08/2020 03:49:48 PM</td>\n",
       "      <td>41.912459</td>\n",
       "      <td>-87.667141</td>\n",
       "      <td>(41.912458603, -87.667140971)</td>\n",
       "    </tr>\n",
       "  </tbody>\n",
       "</table>\n",
       "<p>143119 rows × 22 columns</p>\n",
       "</div>"
      ],
      "text/plain": [
       "              ID Case Number  Date                 Block  IUCR  \\\n",
       "0       12157684    JD358233     6        122XX S ADA ST  051A   \n",
       "1       12158021    JD358730     6  036XX W DIVERSEY AVE  1310   \n",
       "2       12158278    JD358923     6    034XX N NATOMA AVE  0486   \n",
       "3       12158889    JD359283     6  047XX N WINTHROP AVE  1320   \n",
       "4       12159507    JD358752     6   071XX S WESTERN AVE  0560   \n",
       "...          ...         ...   ...                   ...   ...   \n",
       "143114  11940534    JD100083     2    062XX S WHIPPLE ST  0486   \n",
       "143115  11938186    JD100178     2      002XX N PINE AVE  0486   \n",
       "143116  11938654    JD100726     2   054XX N SHERIDAN RD  0486   \n",
       "143117  11938353    JD100252     2     068XX S PERRY AVE  0486   \n",
       "143118  11939683    JD101917     2  015XX W WABANSIA AVE  0560   \n",
       "\n",
       "           Primary Type              Description    Location Description  \\\n",
       "0               ASSAULT     AGGRAVATED - HANDGUN  VEHICLE NON-COMMERCIAL   \n",
       "1       CRIMINAL DAMAGE              TO PROPERTY               APARTMENT   \n",
       "2               BATTERY  DOMESTIC BATTERY SIMPLE                SIDEWALK   \n",
       "3       CRIMINAL DAMAGE               TO VEHICLE                  STREET   \n",
       "4               ASSAULT                   SIMPLE              DRUG STORE   \n",
       "...                 ...                      ...                     ...   \n",
       "143114          BATTERY  DOMESTIC BATTERY SIMPLE               APARTMENT   \n",
       "143115          BATTERY  DOMESTIC BATTERY SIMPLE               APARTMENT   \n",
       "143116          BATTERY  DOMESTIC BATTERY SIMPLE               RESIDENCE   \n",
       "143117          BATTERY  DOMESTIC BATTERY SIMPLE               APARTMENT   \n",
       "143118          ASSAULT                   SIMPLE               APARTMENT   \n",
       "\n",
       "        Arrest  Domestic  ...  Ward  Community Area  FBI Code  X Coordinate  \\\n",
       "0            0         0  ...  34.0              53        74     1169548.0   \n",
       "1            0         0  ...  35.0              22        20     1151419.0   \n",
       "2            0         1  ...  38.0              17       139     1131467.0   \n",
       "3            0         0  ...  46.0               3        20     1168010.0   \n",
       "4            0         0  ...  18.0              66       138     1161608.0   \n",
       "...        ...       ...  ...   ...             ...       ...           ...   \n",
       "143114       0         1  ...  16.0              66       139     1157124.0   \n",
       "143115       0         1  ...  37.0              25       139     1139459.0   \n",
       "143116       0         0  ...  48.0              77       139     1168658.0   \n",
       "143117       0         1  ...   6.0              69       139     1176578.0   \n",
       "143118       0         1  ...  32.0              24       138     1165578.0   \n",
       "\n",
       "        Y Coordinate  Year              Updated On   Latitude  Longitude  \\\n",
       "0          1823602.0  2020  09/13/2020 03:48:11 PM  41.671462 -87.655101   \n",
       "1          1918368.0  2020  09/13/2020 03:48:11 PM  41.931886 -87.718974   \n",
       "2          1922126.0  2020  09/13/2020 03:48:11 PM  41.942567 -87.792209   \n",
       "3          1931673.0  2020  09/13/2020 03:48:11 PM  41.968053 -87.657619   \n",
       "4          1857318.0  2020  09/13/2020 03:48:11 PM  41.764152 -87.683229   \n",
       "...              ...   ...                     ...        ...        ...   \n",
       "143114     1863026.0  2020  01/08/2020 03:49:48 PM  41.779907 -87.699510   \n",
       "143115     1901141.0  2020  01/08/2020 03:49:48 PM  41.884840 -87.763346   \n",
       "143116     1936265.0  2020  01/08/2020 03:49:48 PM  41.980639 -87.655103   \n",
       "143117     1859630.0  2020  01/08/2020 03:49:48 PM  41.770173 -87.628291   \n",
       "143118     1911394.0  2020  01/08/2020 03:49:48 PM  41.912459 -87.667141   \n",
       "\n",
       "                             Location  \n",
       "0        (41.671461741, -87.65510074)  \n",
       "1       (41.931885873, -87.718974049)  \n",
       "2       (41.942567168, -87.792208683)  \n",
       "3       (41.968052927, -87.657619242)  \n",
       "4       (41.764151886, -87.683229302)  \n",
       "...                               ...  \n",
       "143114  (41.779907312, -87.699510196)  \n",
       "143115  (41.884839745, -87.763346491)  \n",
       "143116   (41.980639456, -87.65510293)  \n",
       "143117  (41.770172698, -87.628291299)  \n",
       "143118  (41.912458603, -87.667140971)  \n",
       "\n",
       "[143119 rows x 22 columns]"
      ]
     },
     "execution_count": 6,
     "metadata": {},
     "output_type": "execute_result"
    }
   ],
   "source": [
    "dt1 = DataFrame.copy()\n",
    "dt1[\"Arrest\"] = dt1[\"Arrest\"].astype(int)\n",
    "dt1[\"Domestic\"] = dt1[\"Domestic\"].astype(int)\n",
    "dt1[\"FBI Code\"] = (DataFrame[\"FBI Code\"]).apply(lambda x: int(x, 16))\n",
    "dt1[\"Date\"] = pd.to_datetime(dt1['Date'], format=\"%m/%d/%Y %I:%M:%S %p\").dt.dayofweek\n",
    "dt1"
   ]
  },
  {
   "cell_type": "code",
   "execution_count": 62,
   "metadata": {
    "colab": {
     "base_uri": "https://localhost:8080/",
     "height": 151
    },
    "id": "zoENdLSSXvi4",
    "outputId": "11731ff7-ae64-40fa-cc64-271b9195905c"
   },
   "outputs": [
    {
     "data": {
      "text/plain": [
       "1    19605\n",
       "8    19181\n",
       "7    19142\n",
       "2    17939\n",
       "6    17322\n",
       "5    17319\n",
       "3    16489\n",
       "4    12697\n",
       "9     3425\n",
       "Name: Month, dtype: int64"
      ]
     },
     "execution_count": 62,
     "metadata": {},
     "output_type": "execute_result"
    }
   ],
   "source": [
    "dt0[\"Month\"].value_counts()"
   ]
  },
  {
   "cell_type": "markdown",
   "metadata": {},
   "source": [
    "Should we  remove rows related to 6 days at the beginning of September?"
   ]
  },
  {
   "cell_type": "code",
   "execution_count": null,
   "metadata": {},
   "outputs": [],
   "source": []
  },
  {
   "cell_type": "code",
   "execution_count": 73,
   "metadata": {},
   "outputs": [
    {
     "data": {
      "image/png": "[encoded data removed]",
      "text/plain": [
       "<Figure size 2160x360 with 1 Axes>"
      ]
     },
     "metadata": {
      "needs_background": "light"
     },
     "output_type": "display_data"
    }
   ],
   "source": [
    "x=np.c_[dt0[\"FBI Code\"]]\n",
    "y=np.c_[dt0[\"Day_of_Month\"]]\n",
    "dt0.plot(kind='scatter', x=\"FBI Code\", y='Day_of_Month', alpha=(0.4),figsize=(30,5))\n",
    "plt.show()"
   ]
  },
  {
   "cell_type": "code",
   "execution_count": 13,
   "metadata": {},
   "outputs": [
    {
     "data": {
      "image/png": "[encoded data removed]",
      "text/plain": [
       "<Figure size 2160x360 with 1 Axes>"
      ]
     },
     "metadata": {
      "needs_background": "light"
     },
     "output_type": "display_data"
    }
   ],
   "source": [
    "x=np.c_[dt0[\"FBI Code\"]]\n",
    "y=np.c_[dt0[\"Date\"]]\n",
    "dt0.plot(kind='scatter', x=\"FBI Code\", y='Date', alpha=(0.4),figsize=(30,5))\n",
    "plt.show()"
   ]
  },
  {
   "cell_type": "code",
   "execution_count": null,
   "metadata": {
    "colab": {
     "base_uri": "https://localhost:8080/",
     "height": 274
    },
    "id": "pUFov-YgYBdb",
    "outputId": "416e399a-86a8-4272-a3ae-18ca8193b30c"
   },
   "outputs": [],
   "source": [
    "codt1=dt1[dt1[\"Date\"]==6]\n",
    "codt1.head(3)"
   ]
  },
  {
   "cell_type": "code",
   "execution_count": null,
   "metadata": {
    "colab": {
     "base_uri": "https://localhost:8080/",
     "height": 1000
    },
    "id": "MS-iYcZWYVyo",
    "outputId": "229df909-5b54-47ad-bede-50687a3068f4"
   },
   "outputs": [],
   "source": [
    "codt1.plot(kind='scatter',x=\"X Coordinate\", y=\"Y Coordinate\", alpha=(0.4),figsize=(20,20),c=\"Date\", cmap=plt.get_cmap(\"Blues\"), colorbar=True, sharex=False)\n",
    "plt.legend()"
   ]
  },
  {
   "cell_type": "code",
   "execution_count": null,
   "metadata": {
    "colab": {
     "base_uri": "https://localhost:8080/",
     "height": 774
    },
    "id": "2sKbUGM4VDaV",
    "outputId": "b118a7fd-c534-464f-d37e-c660481091a1"
   },
   "outputs": [],
   "source": [
    "dt2 = DataFrame.copy()\n",
    "dt2['Date'] = pd.to_datetime(dt2['Date'], format=\"%m/%d/%Y %I:%M:%S %p\").dt.day_name()\n",
    "dt2"
   ]
  },
  {
   "cell_type": "code",
   "execution_count": null,
   "metadata": {
    "colab": {
     "base_uri": "https://localhost:8080/",
     "height": 151
    },
    "id": "TfMKvlKtX4Fw",
    "outputId": "e7da2767-c98a-4e26-d22b-ba1f0805b1a9"
   },
   "outputs": [],
   "source": [
    "dt2[\"Date\"].value_counts()"
   ]
  },
  {
   "cell_type": "code",
   "execution_count": null,
   "metadata": {
    "colab": {
     "base_uri": "https://localhost:8080/",
     "height": 34
    },
    "id": "S00hpLJaVcIM",
    "outputId": "677482bf-ed4c-4d21-c785-9c3bc2264f2e"
   },
   "outputs": [],
   "source": [
    "DataFrame.shape[0]"
   ]
  },
  {
   "cell_type": "code",
   "execution_count": null,
   "metadata": {
    "colab": {
     "base_uri": "https://localhost:8080/",
     "height": 34
    },
    "id": "L53xP4c2Vdgk",
    "outputId": "67ed61de-a0a8-44f7-8f59-c67812b6179f"
   },
   "outputs": [],
   "source": [
    "DataFrame.shape[1]"
   ]
  },
  {
   "cell_type": "code",
   "execution_count": null,
   "metadata": {
    "colab": {
     "base_uri": "https://localhost:8080/",
     "height": 218
    },
    "id": "LhdT7EiBVkMj",
    "outputId": "b651a4af-1b90-4073-927b-2416cb765cea"
   },
   "outputs": [],
   "source": [
    "DataFrame[\"Community Area\"].value_counts()"
   ]
  },
  {
   "cell_type": "markdown",
   "metadata": {
    "id": "FGz1wNyMVvPN"
   },
   "source": [
    "Community Area no. 25 appears 8722 time in the data set"
   ]
  },
  {
   "cell_type": "code",
   "execution_count": null,
   "metadata": {
    "colab": {
     "base_uri": "https://localhost:8080/",
     "height": 290
    },
    "id": "dXth4-p_Vwf1",
    "outputId": "74615bcf-b7fe-4a49-dfa4-f5038ba73a1b"
   },
   "outputs": [],
   "source": [
    "co=DataFrame[DataFrame[\"Community Area\"]==25]\n",
    "co.head(3)"
   ]
  },
  {
   "cell_type": "markdown",
   "metadata": {
    "id": "-XxHkA5YWMS4"
   },
   "source": [
    "\"Block\" crimes distribution on \"Community Area\" no.25 It is seen that the top 3 streets with crime:\n",
    "\n",
    "    052XX W MADISON ST(72) & 056XX W MADISON ST(49) & 048XX W MADISON ST(47)\n",
    "    001XX N CENTRAL AVE(63) & 003XX N CENTRAL AVE(58)\n",
    "    003XX S CICERO AVE(60) & 007XX S CICERO AVE(50)\n",
    "\n"
   ]
  },
  {
   "cell_type": "code",
   "execution_count": null,
   "metadata": {
    "colab": {
     "base_uri": "https://localhost:8080/",
     "height": 202
    },
    "id": "qNhmA3avWEZE",
    "outputId": "4573cde3-b6e8-40c8-eb9f-7f98801bb116"
   },
   "outputs": [],
   "source": [
    "co[\"Block\"].value_counts().head(10)"
   ]
  },
  {
   "cell_type": "markdown",
   "metadata": {
    "id": "niuNh-S_WZMX"
   },
   "source": [
    "\"Primary Type\" crimes distribution on \"Community Area\" no.25. It is seen that the top 4 crimes:\n",
    "\n",
    "    Battery\n",
    "    Theft\n",
    "    Criminal Damage\n",
    "    Assualt\n",
    "\n"
   ]
  },
  {
   "cell_type": "code",
   "execution_count": null,
   "metadata": {
    "colab": {
     "base_uri": "https://localhost:8080/",
     "height": 521
    },
    "id": "vGXCuq7EWVDu",
    "outputId": "3b77d3d7-fd60-4a19-8c36-18ce7133aba2"
   },
   "outputs": [],
   "source": [
    "co[\"Primary Type\"].value_counts()"
   ]
  },
  {
   "cell_type": "code",
   "execution_count": null,
   "metadata": {
    "colab": {
     "base_uri": "https://localhost:8080/",
     "height": 218
    },
    "id": "KQxh2CCHWkWQ",
    "outputId": "03a2b422-00c0-45a9-f383-d654176096ed"
   },
   "outputs": [],
   "source": [
    "DataFrame.Description.value_counts()"
   ]
  },
  {
   "cell_type": "code",
   "execution_count": null,
   "metadata": {
    "colab": {
     "base_uri": "https://localhost:8080/",
     "height": 218
    },
    "id": "HK9snCIbWna2",
    "outputId": "28de3b13-613c-42b3-9ab0-076d865478f9"
   },
   "outputs": [],
   "source": [
    "DataFrame[\"Location Description\"].value_counts()"
   ]
  },
  {
   "cell_type": "code",
   "execution_count": null,
   "metadata": {
    "colab": {
     "base_uri": "https://localhost:8080/",
     "height": 892
    },
    "id": "0hLMMU0ZW0Hu",
    "outputId": "3bc66070-a4a7-4a47-be03-53f3e53d7057"
   },
   "outputs": [],
   "source": [
    "DataFrame.sort_values(by=[\"Location Description\", \"Primary Type\"])"
   ]
  },
  {
   "cell_type": "code",
   "execution_count": null,
   "metadata": {
    "colab": {
     "base_uri": "https://localhost:8080/",
     "height": 791
    },
    "id": "qrmtz8IWW8FI",
    "outputId": "a0ec2be7-48e7-45d2-fb1b-2ff3d086a75d"
   },
   "outputs": [],
   "source": [
    "DataFrame[(DataFrame[\"Primary Type\"]==\"ASSAULT\")&(DataFrame[\"Location Description\"]==\"STREET\")]"
   ]
  },
  {
   "cell_type": "code",
   "execution_count": null,
   "metadata": {
    "colab": {
     "base_uri": "https://localhost:8080/",
     "height": 1000
    },
    "id": "bwzYKWMPXF-4",
    "outputId": "ea689718-543d-4cbb-fa2b-7f54c7683003"
   },
   "outputs": [],
   "source": [
    "DataFrame.plot(kind='scatter',x=\"X Coordinate\", y=\"Y Coordinate\", alpha=(0.4),figsize=(50,50),c=\"Community Area\", cmap=plt.get_cmap(\"jet\"), colorbar=True, sharex=False)\n",
    "plt.legend()"
   ]
  },
  {
   "cell_type": "code",
   "execution_count": null,
   "metadata": {
    "colab": {
     "base_uri": "https://localhost:8080/",
     "height": 650
    },
    "id": "B2U7OADLXQbY",
    "outputId": "59da72c6-cfc8-4fcf-b59e-72a3ad163fc3"
   },
   "outputs": [],
   "source": [
    "co.plot(kind='scatter',x=\"X Coordinate\", y=\"Y Coordinate\", alpha=(0.4),figsize=(10,10),c=\"Community Area\", cmap=plt.get_cmap(\"Blues\"), colorbar=True, sharex=False)\n",
    "plt.legend()"
   ]
  },
  {
   "cell_type": "markdown",
   "metadata": {
    "id": "AzvcbZHNXZPf"
   },
   "source": [
    "Plot histogram that shows per district the number of total crimes.\n",
    "Next step would be to create a testing data frame , from 20% of the dataset.\n",
    "Need to make sure that it would resemble  the distribution of all DataSet"
   ]
  },
  {
   "cell_type": "markdown",
   "metadata": {},
   "source": [
    "29/10/20 START"
   ]
  },
  {
   "cell_type": "code",
   "execution_count": 75,
   "metadata": {},
   "outputs": [
    {
     "data": {
      "text/html": [
       "<div>\n",
       "<style scoped>\n",
       "    .dataframe tbody tr th:only-of-type {\n",
       "        vertical-align: middle;\n",
       "    }\n",
       "\n",
       "    .dataframe tbody tr th {\n",
       "        vertical-align: top;\n",
       "    }\n",
       "\n",
       "    .dataframe thead th {\n",
       "        text-align: right;\n",
       "    }\n",
       "</style>\n",
       "<table border=\"1\" class=\"dataframe\">\n",
       "  <thead>\n",
       "    <tr style=\"text-align: right;\">\n",
       "      <th></th>\n",
       "      <th>Arrest</th>\n",
       "      <th>Domestic</th>\n",
       "      <th>Beat</th>\n",
       "      <th>District</th>\n",
       "      <th>Ward</th>\n",
       "      <th>Community Area</th>\n",
       "      <th>FBI Code</th>\n",
       "      <th>X Coordinate</th>\n",
       "      <th>Y Coordinate</th>\n",
       "      <th>Latitude</th>\n",
       "      <th>Longitude</th>\n",
       "      <th>Season</th>\n",
       "      <th>Weekday</th>\n",
       "      <th>Is_Holiday</th>\n",
       "      <th>Day_of_Month</th>\n",
       "      <th>Month</th>\n",
       "    </tr>\n",
       "  </thead>\n",
       "  <tbody>\n",
       "    <tr>\n",
       "      <th>count</th>\n",
       "      <td>143119.000000</td>\n",
       "      <td>143119.000000</td>\n",
       "      <td>143119.000000</td>\n",
       "      <td>143119.000000</td>\n",
       "      <td>143112.000000</td>\n",
       "      <td>143119.000000</td>\n",
       "      <td>143119.000000</td>\n",
       "      <td>1.421070e+05</td>\n",
       "      <td>1.421070e+05</td>\n",
       "      <td>142107.000000</td>\n",
       "      <td>142107.000000</td>\n",
       "      <td>143119.000000</td>\n",
       "      <td>143119.000000</td>\n",
       "      <td>143119.000000</td>\n",
       "      <td>143119.000000</td>\n",
       "      <td>143119.000000</td>\n",
       "    </tr>\n",
       "    <tr>\n",
       "      <th>mean</th>\n",
       "      <td>0.162885</td>\n",
       "      <td>0.191554</td>\n",
       "      <td>1138.744786</td>\n",
       "      <td>11.157987</td>\n",
       "      <td>22.873057</td>\n",
       "      <td>37.522300</td>\n",
       "      <td>49.443002</td>\n",
       "      <td>1.164951e+06</td>\n",
       "      <td>1.885002e+06</td>\n",
       "      <td>41.840033</td>\n",
       "      <td>-87.670239</td>\n",
       "      <td>2.174337</td>\n",
       "      <td>3.052369</td>\n",
       "      <td>0.028564</td>\n",
       "      <td>15.480572</td>\n",
       "      <td>4.643213</td>\n",
       "    </tr>\n",
       "    <tr>\n",
       "      <th>std</th>\n",
       "      <td>0.369262</td>\n",
       "      <td>0.393525</td>\n",
       "      <td>693.081222</td>\n",
       "      <td>6.925710</td>\n",
       "      <td>13.712779</td>\n",
       "      <td>21.462436</td>\n",
       "      <td>53.604889</td>\n",
       "      <td>1.623080e+04</td>\n",
       "      <td>3.169479e+04</td>\n",
       "      <td>0.087168</td>\n",
       "      <td>0.059058</td>\n",
       "      <td>0.846443</td>\n",
       "      <td>2.012691</td>\n",
       "      <td>0.166577</td>\n",
       "      <td>9.085410</td>\n",
       "      <td>2.446887</td>\n",
       "    </tr>\n",
       "    <tr>\n",
       "      <th>min</th>\n",
       "      <td>0.000000</td>\n",
       "      <td>0.000000</td>\n",
       "      <td>111.000000</td>\n",
       "      <td>1.000000</td>\n",
       "      <td>1.000000</td>\n",
       "      <td>1.000000</td>\n",
       "      <td>2.000000</td>\n",
       "      <td>1.092647e+06</td>\n",
       "      <td>1.813897e+06</td>\n",
       "      <td>41.644590</td>\n",
       "      <td>-87.934567</td>\n",
       "      <td>1.000000</td>\n",
       "      <td>0.000000</td>\n",
       "      <td>0.000000</td>\n",
       "      <td>1.000000</td>\n",
       "      <td>1.000000</td>\n",
       "    </tr>\n",
       "    <tr>\n",
       "      <th>25%</th>\n",
       "      <td>0.000000</td>\n",
       "      <td>0.000000</td>\n",
       "      <td>612.000000</td>\n",
       "      <td>6.000000</td>\n",
       "      <td>9.750000</td>\n",
       "      <td>23.000000</td>\n",
       "      <td>6.000000</td>\n",
       "      <td>1.152945e+06</td>\n",
       "      <td>1.857903e+06</td>\n",
       "      <td>41.765356</td>\n",
       "      <td>-87.713774</td>\n",
       "      <td>1.000000</td>\n",
       "      <td>1.000000</td>\n",
       "      <td>0.000000</td>\n",
       "      <td>7.000000</td>\n",
       "      <td>2.000000</td>\n",
       "    </tr>\n",
       "    <tr>\n",
       "      <th>50%</th>\n",
       "      <td>0.000000</td>\n",
       "      <td>0.000000</td>\n",
       "      <td>1022.000000</td>\n",
       "      <td>10.000000</td>\n",
       "      <td>23.000000</td>\n",
       "      <td>32.000000</td>\n",
       "      <td>20.000000</td>\n",
       "      <td>1.166546e+06</td>\n",
       "      <td>1.890278e+06</td>\n",
       "      <td>41.854705</td>\n",
       "      <td>-87.664380</td>\n",
       "      <td>2.000000</td>\n",
       "      <td>3.000000</td>\n",
       "      <td>0.000000</td>\n",
       "      <td>15.000000</td>\n",
       "      <td>5.000000</td>\n",
       "    </tr>\n",
       "    <tr>\n",
       "      <th>75%</th>\n",
       "      <td>0.000000</td>\n",
       "      <td>0.000000</td>\n",
       "      <td>1711.000000</td>\n",
       "      <td>17.000000</td>\n",
       "      <td>34.000000</td>\n",
       "      <td>56.000000</td>\n",
       "      <td>75.000000</td>\n",
       "      <td>1.176667e+06</td>\n",
       "      <td>1.908088e+06</td>\n",
       "      <td>41.903479</td>\n",
       "      <td>-87.627443</td>\n",
       "      <td>3.000000</td>\n",
       "      <td>5.000000</td>\n",
       "      <td>0.000000</td>\n",
       "      <td>23.000000</td>\n",
       "      <td>7.000000</td>\n",
       "    </tr>\n",
       "    <tr>\n",
       "      <th>max</th>\n",
       "      <td>1.000000</td>\n",
       "      <td>1.000000</td>\n",
       "      <td>2535.000000</td>\n",
       "      <td>31.000000</td>\n",
       "      <td>50.000000</td>\n",
       "      <td>77.000000</td>\n",
       "      <td>139.000000</td>\n",
       "      <td>1.205112e+06</td>\n",
       "      <td>1.951527e+06</td>\n",
       "      <td>42.022586</td>\n",
       "      <td>-87.524618</td>\n",
       "      <td>4.000000</td>\n",
       "      <td>6.000000</td>\n",
       "      <td>1.000000</td>\n",
       "      <td>31.000000</td>\n",
       "      <td>9.000000</td>\n",
       "    </tr>\n",
       "  </tbody>\n",
       "</table>\n",
       "</div>"
      ],
      "text/plain": [
       "              Arrest       Domestic           Beat       District  \\\n",
       "count  143119.000000  143119.000000  143119.000000  143119.000000   \n",
       "mean        0.162885       0.191554    1138.744786      11.157987   \n",
       "std         0.369262       0.393525     693.081222       6.925710   \n",
       "min         0.000000       0.000000     111.000000       1.000000   \n",
       "25%         0.000000       0.000000     612.000000       6.000000   \n",
       "50%         0.000000       0.000000    1022.000000      10.000000   \n",
       "75%         0.000000       0.000000    1711.000000      17.000000   \n",
       "max         1.000000       1.000000    2535.000000      31.000000   \n",
       "\n",
       "                Ward  Community Area       FBI Code  X Coordinate  \\\n",
       "count  143112.000000   143119.000000  143119.000000  1.421070e+05   \n",
       "mean       22.873057       37.522300      49.443002  1.164951e+06   \n",
       "std        13.712779       21.462436      53.604889  1.623080e+04   \n",
       "min         1.000000        1.000000       2.000000  1.092647e+06   \n",
       "25%         9.750000       23.000000       6.000000  1.152945e+06   \n",
       "50%        23.000000       32.000000      20.000000  1.166546e+06   \n",
       "75%        34.000000       56.000000      75.000000  1.176667e+06   \n",
       "max        50.000000       77.000000     139.000000  1.205112e+06   \n",
       "\n",
       "       Y Coordinate       Latitude      Longitude         Season  \\\n",
       "count  1.421070e+05  142107.000000  142107.000000  143119.000000   \n",
       "mean   1.885002e+06      41.840033     -87.670239       2.174337   \n",
       "std    3.169479e+04       0.087168       0.059058       0.846443   \n",
       "min    1.813897e+06      41.644590     -87.934567       1.000000   \n",
       "25%    1.857903e+06      41.765356     -87.713774       1.000000   \n",
       "50%    1.890278e+06      41.854705     -87.664380       2.000000   \n",
       "75%    1.908088e+06      41.903479     -87.627443       3.000000   \n",
       "max    1.951527e+06      42.022586     -87.524618       4.000000   \n",
       "\n",
       "             Weekday     Is_Holiday   Day_of_Month          Month  \n",
       "count  143119.000000  143119.000000  143119.000000  143119.000000  \n",
       "mean        3.052369       0.028564      15.480572       4.643213  \n",
       "std         2.012691       0.166577       9.085410       2.446887  \n",
       "min         0.000000       0.000000       1.000000       1.000000  \n",
       "25%         1.000000       0.000000       7.000000       2.000000  \n",
       "50%         3.000000       0.000000      15.000000       5.000000  \n",
       "75%         5.000000       0.000000      23.000000       7.000000  \n",
       "max         6.000000       1.000000      31.000000       9.000000  "
      ]
     },
     "execution_count": 75,
     "metadata": {},
     "output_type": "execute_result"
    }
   ],
   "source": [
    "dt0.describe()"
   ]
  },
  {
   "cell_type": "code",
   "execution_count": 77,
   "metadata": {},
   "outputs": [
    {
     "data": {
      "text/plain": [
       "Y Coordinate     -0.068472\n",
       "Latitude         -0.068331\n",
       "Ward             -0.053878\n",
       "Beat             -0.044275\n",
       "District         -0.044229\n",
       "Day_of_Month     -0.006250\n",
       "Longitude        -0.000282\n",
       "X Coordinate      0.000816\n",
       "Is_Holiday        0.011048\n",
       "Arrest            0.016502\n",
       "Month             0.017234\n",
       "Weekday           0.017811\n",
       "Season            0.024214\n",
       "Community Area    0.068955\n",
       "Domestic          0.449185\n",
       "FBI Code          1.000000\n",
       "Name: FBI Code, dtype: float64"
      ]
     },
     "execution_count": 77,
     "metadata": {},
     "output_type": "execute_result"
    }
   ],
   "source": [
    "corrMatrix= dt0.corr()\n",
    "corrMatrix[\"FBI Code\"].sort_values(ascending=True)"
   ]
  },
  {
   "cell_type": "markdown",
   "metadata": {},
   "source": [
    "29/10/20 What is the most common crime  (6 is the most common crime which is theft)"
   ]
  },
  {
   "cell_type": "code",
   "execution_count": 95,
   "metadata": {},
   "outputs": [
    {
     "data": {
      "text/plain": [
       "25    8722\n",
       "43    5353\n",
       "8     5118\n",
       "29    4861\n",
       "23    4573\n",
       "      ... \n",
       "55     331\n",
       "12     326\n",
       "74     291\n",
       "47     225\n",
       "9      144\n",
       "Name: Community Area, Length: 77, dtype: int64"
      ]
     },
     "execution_count": 95,
     "metadata": {},
     "output_type": "execute_result"
    }
   ],
   "source": [
    "dt0[\"Community Area\"].value_counts()"
   ]
  },
  {
   "cell_type": "code",
   "execution_count": 78,
   "metadata": {},
   "outputs": [
    {
     "data": {
      "text/plain": [
       "6      28603\n",
       "139    24164\n",
       "20     17358\n",
       "138    10735\n",
       "38      9723\n",
       "17      8254\n",
       "5       6378\n",
       "7       6311\n",
       "75      5750\n",
       "21      5558\n",
       "3       5181\n",
       "24      4897\n",
       "74      4278\n",
       "36      1544\n",
       "23       958\n",
       "2        920\n",
       "16       686\n",
       "26       533\n",
       "32       495\n",
       "9        387\n",
       "22       222\n",
       "34       110\n",
       "19        46\n",
       "25        19\n",
       "18         8\n",
       "27         1\n",
       "Name: FBI Code, dtype: int64"
      ]
     },
     "execution_count": 78,
     "metadata": {},
     "output_type": "execute_result"
    }
   ],
   "source": [
    "dt0[\"FBI Code\"].value_counts()"
   ]
  },
  {
   "cell_type": "code",
   "execution_count": 79,
   "metadata": {},
   "outputs": [
    {
     "data": {
      "text/html": [
       "<div>\n",
       "<style scoped>\n",
       "    .dataframe tbody tr th:only-of-type {\n",
       "        vertical-align: middle;\n",
       "    }\n",
       "\n",
       "    .dataframe tbody tr th {\n",
       "        vertical-align: top;\n",
       "    }\n",
       "\n",
       "    .dataframe thead th {\n",
       "        text-align: right;\n",
       "    }\n",
       "</style>\n",
       "<table border=\"1\" class=\"dataframe\">\n",
       "  <thead>\n",
       "    <tr style=\"text-align: right;\">\n",
       "      <th></th>\n",
       "      <th>Date</th>\n",
       "      <th>Block</th>\n",
       "      <th>IUCR</th>\n",
       "      <th>Primary Type</th>\n",
       "      <th>Description</th>\n",
       "      <th>Location Description</th>\n",
       "      <th>Arrest</th>\n",
       "      <th>Domestic</th>\n",
       "      <th>Beat</th>\n",
       "      <th>District</th>\n",
       "      <th>...</th>\n",
       "      <th>Y Coordinate</th>\n",
       "      <th>Latitude</th>\n",
       "      <th>Longitude</th>\n",
       "      <th>Location</th>\n",
       "      <th>Season</th>\n",
       "      <th>Weekday</th>\n",
       "      <th>Just_Date</th>\n",
       "      <th>Is_Holiday</th>\n",
       "      <th>Day_of_Month</th>\n",
       "      <th>Month</th>\n",
       "    </tr>\n",
       "  </thead>\n",
       "  <tbody>\n",
       "    <tr>\n",
       "      <th>9</th>\n",
       "      <td>09/06/2020 08:00:00 PM</td>\n",
       "      <td>002XX W MADISON ST</td>\n",
       "      <td>0820</td>\n",
       "      <td>THEFT</td>\n",
       "      <td>$500 AND UNDER</td>\n",
       "      <td>PARKING LOT / GARAGE (NON RESIDENTIAL)</td>\n",
       "      <td>0</td>\n",
       "      <td>0</td>\n",
       "      <td>122</td>\n",
       "      <td>1</td>\n",
       "      <td>...</td>\n",
       "      <td>1900346.0</td>\n",
       "      <td>41.881944</td>\n",
       "      <td>-87.634195</td>\n",
       "      <td>(41.881944424, -87.634195294)</td>\n",
       "      <td>4</td>\n",
       "      <td>6</td>\n",
       "      <td>2020-09-06</td>\n",
       "      <td>0</td>\n",
       "      <td>6</td>\n",
       "      <td>9</td>\n",
       "    </tr>\n",
       "    <tr>\n",
       "      <th>11</th>\n",
       "      <td>09/06/2020 08:30:00 PM</td>\n",
       "      <td>002XX E 100TH ST</td>\n",
       "      <td>0820</td>\n",
       "      <td>THEFT</td>\n",
       "      <td>$500 AND UNDER</td>\n",
       "      <td>RESIDENCE - YARD (FRONT / BACK)</td>\n",
       "      <td>0</td>\n",
       "      <td>0</td>\n",
       "      <td>511</td>\n",
       "      <td>5</td>\n",
       "      <td>...</td>\n",
       "      <td>1838723.0</td>\n",
       "      <td>41.712729</td>\n",
       "      <td>-87.617196</td>\n",
       "      <td>(41.712728832, -87.617195602)</td>\n",
       "      <td>4</td>\n",
       "      <td>6</td>\n",
       "      <td>2020-09-06</td>\n",
       "      <td>0</td>\n",
       "      <td>6</td>\n",
       "      <td>9</td>\n",
       "    </tr>\n",
       "    <tr>\n",
       "      <th>18</th>\n",
       "      <td>09/06/2020 12:00:00 AM</td>\n",
       "      <td>066XX S ROCKWELL ST</td>\n",
       "      <td>0810</td>\n",
       "      <td>THEFT</td>\n",
       "      <td>OVER $500</td>\n",
       "      <td>STREET</td>\n",
       "      <td>0</td>\n",
       "      <td>0</td>\n",
       "      <td>831</td>\n",
       "      <td>8</td>\n",
       "      <td>...</td>\n",
       "      <td>1860504.0</td>\n",
       "      <td>41.772924</td>\n",
       "      <td>-87.688361</td>\n",
       "      <td>(41.772924147, -87.688361073)</td>\n",
       "      <td>4</td>\n",
       "      <td>6</td>\n",
       "      <td>2020-09-06</td>\n",
       "      <td>0</td>\n",
       "      <td>6</td>\n",
       "      <td>9</td>\n",
       "    </tr>\n",
       "    <tr>\n",
       "      <th>30</th>\n",
       "      <td>09/06/2020 12:10:00 AM</td>\n",
       "      <td>012XX W 18TH ST</td>\n",
       "      <td>0820</td>\n",
       "      <td>THEFT</td>\n",
       "      <td>$500 AND UNDER</td>\n",
       "      <td>BAR OR TAVERN</td>\n",
       "      <td>0</td>\n",
       "      <td>0</td>\n",
       "      <td>1233</td>\n",
       "      <td>12</td>\n",
       "      <td>...</td>\n",
       "      <td>1891548.0</td>\n",
       "      <td>41.857939</td>\n",
       "      <td>-87.657300</td>\n",
       "      <td>(41.857938856, -87.657300344)</td>\n",
       "      <td>4</td>\n",
       "      <td>6</td>\n",
       "      <td>2020-09-06</td>\n",
       "      <td>0</td>\n",
       "      <td>6</td>\n",
       "      <td>9</td>\n",
       "    </tr>\n",
       "    <tr>\n",
       "      <th>37</th>\n",
       "      <td>09/06/2020 01:30:00 AM</td>\n",
       "      <td>013XX W MORSE AVE</td>\n",
       "      <td>0820</td>\n",
       "      <td>THEFT</td>\n",
       "      <td>$500 AND UNDER</td>\n",
       "      <td>PARKING LOT / GARAGE (NON RESIDENTIAL)</td>\n",
       "      <td>0</td>\n",
       "      <td>0</td>\n",
       "      <td>2431</td>\n",
       "      <td>24</td>\n",
       "      <td>...</td>\n",
       "      <td>1946191.0</td>\n",
       "      <td>42.007934</td>\n",
       "      <td>-87.664534</td>\n",
       "      <td>(42.007933629, -87.664534142)</td>\n",
       "      <td>4</td>\n",
       "      <td>6</td>\n",
       "      <td>2020-09-06</td>\n",
       "      <td>0</td>\n",
       "      <td>6</td>\n",
       "      <td>9</td>\n",
       "    </tr>\n",
       "    <tr>\n",
       "      <th>...</th>\n",
       "      <td>...</td>\n",
       "      <td>...</td>\n",
       "      <td>...</td>\n",
       "      <td>...</td>\n",
       "      <td>...</td>\n",
       "      <td>...</td>\n",
       "      <td>...</td>\n",
       "      <td>...</td>\n",
       "      <td>...</td>\n",
       "      <td>...</td>\n",
       "      <td>...</td>\n",
       "      <td>...</td>\n",
       "      <td>...</td>\n",
       "      <td>...</td>\n",
       "      <td>...</td>\n",
       "      <td>...</td>\n",
       "      <td>...</td>\n",
       "      <td>...</td>\n",
       "      <td>...</td>\n",
       "      <td>...</td>\n",
       "      <td>...</td>\n",
       "    </tr>\n",
       "    <tr>\n",
       "      <th>143076</th>\n",
       "      <td>01/01/2020 12:59:00 PM</td>\n",
       "      <td>0000X S STATE ST</td>\n",
       "      <td>0860</td>\n",
       "      <td>THEFT</td>\n",
       "      <td>RETAIL THEFT</td>\n",
       "      <td>DEPARTMENT STORE</td>\n",
       "      <td>1</td>\n",
       "      <td>0</td>\n",
       "      <td>112</td>\n",
       "      <td>1</td>\n",
       "      <td>...</td>\n",
       "      <td>1900278.0</td>\n",
       "      <td>41.881718</td>\n",
       "      <td>-87.627760</td>\n",
       "      <td>(41.88171846, -87.627760426)</td>\n",
       "      <td>1</td>\n",
       "      <td>2</td>\n",
       "      <td>2020-01-01</td>\n",
       "      <td>1</td>\n",
       "      <td>1</td>\n",
       "      <td>1</td>\n",
       "    </tr>\n",
       "    <tr>\n",
       "      <th>143080</th>\n",
       "      <td>01/01/2020 01:00:00 AM</td>\n",
       "      <td>035XX N CLARK ST</td>\n",
       "      <td>0810</td>\n",
       "      <td>THEFT</td>\n",
       "      <td>OVER $500</td>\n",
       "      <td>BAR OR TAVERN</td>\n",
       "      <td>0</td>\n",
       "      <td>0</td>\n",
       "      <td>1924</td>\n",
       "      <td>19</td>\n",
       "      <td>...</td>\n",
       "      <td>1923699.0</td>\n",
       "      <td>41.946159</td>\n",
       "      <td>-87.655678</td>\n",
       "      <td>(41.946159169, -87.655678044)</td>\n",
       "      <td>1</td>\n",
       "      <td>2</td>\n",
       "      <td>2020-01-01</td>\n",
       "      <td>1</td>\n",
       "      <td>1</td>\n",
       "      <td>1</td>\n",
       "    </tr>\n",
       "    <tr>\n",
       "      <th>143094</th>\n",
       "      <td>01/01/2020 01:20:00 PM</td>\n",
       "      <td>040XX W LAWRENCE AVE</td>\n",
       "      <td>0860</td>\n",
       "      <td>THEFT</td>\n",
       "      <td>RETAIL THEFT</td>\n",
       "      <td>SMALL RETAIL STORE</td>\n",
       "      <td>0</td>\n",
       "      <td>0</td>\n",
       "      <td>1712</td>\n",
       "      <td>17</td>\n",
       "      <td>...</td>\n",
       "      <td>1931595.0</td>\n",
       "      <td>41.968235</td>\n",
       "      <td>-87.728572</td>\n",
       "      <td>(41.968234567, -87.728571616)</td>\n",
       "      <td>1</td>\n",
       "      <td>2</td>\n",
       "      <td>2020-01-01</td>\n",
       "      <td>1</td>\n",
       "      <td>1</td>\n",
       "      <td>1</td>\n",
       "    </tr>\n",
       "    <tr>\n",
       "      <th>143097</th>\n",
       "      <td>01/01/2020 12:40:00 PM</td>\n",
       "      <td>001XX N STATE ST</td>\n",
       "      <td>0860</td>\n",
       "      <td>THEFT</td>\n",
       "      <td>RETAIL THEFT</td>\n",
       "      <td>DEPARTMENT STORE</td>\n",
       "      <td>1</td>\n",
       "      <td>0</td>\n",
       "      <td>111</td>\n",
       "      <td>1</td>\n",
       "      <td>...</td>\n",
       "      <td>1900927.0</td>\n",
       "      <td>41.883500</td>\n",
       "      <td>-87.627877</td>\n",
       "      <td>(41.883500187, -87.627876698)</td>\n",
       "      <td>1</td>\n",
       "      <td>2</td>\n",
       "      <td>2020-01-01</td>\n",
       "      <td>1</td>\n",
       "      <td>1</td>\n",
       "      <td>1</td>\n",
       "    </tr>\n",
       "    <tr>\n",
       "      <th>143098</th>\n",
       "      <td>01/01/2020 04:55:00 PM</td>\n",
       "      <td>026XX W PERSHING RD</td>\n",
       "      <td>0860</td>\n",
       "      <td>THEFT</td>\n",
       "      <td>RETAIL THEFT</td>\n",
       "      <td>SMALL RETAIL STORE</td>\n",
       "      <td>0</td>\n",
       "      <td>0</td>\n",
       "      <td>911</td>\n",
       "      <td>9</td>\n",
       "      <td>...</td>\n",
       "      <td>1878695.0</td>\n",
       "      <td>41.822859</td>\n",
       "      <td>-87.690733</td>\n",
       "      <td>(41.822858738, -87.690732873)</td>\n",
       "      <td>1</td>\n",
       "      <td>2</td>\n",
       "      <td>2020-01-01</td>\n",
       "      <td>1</td>\n",
       "      <td>1</td>\n",
       "      <td>1</td>\n",
       "    </tr>\n",
       "  </tbody>\n",
       "</table>\n",
       "<p>28603 rows × 24 columns</p>\n",
       "</div>"
      ],
      "text/plain": [
       "                          Date                 Block  IUCR Primary Type  \\\n",
       "9       09/06/2020 08:00:00 PM    002XX W MADISON ST  0820        THEFT   \n",
       "11      09/06/2020 08:30:00 PM      002XX E 100TH ST  0820        THEFT   \n",
       "18      09/06/2020 12:00:00 AM   066XX S ROCKWELL ST  0810        THEFT   \n",
       "30      09/06/2020 12:10:00 AM       012XX W 18TH ST  0820        THEFT   \n",
       "37      09/06/2020 01:30:00 AM     013XX W MORSE AVE  0820        THEFT   \n",
       "...                        ...                   ...   ...          ...   \n",
       "143076  01/01/2020 12:59:00 PM      0000X S STATE ST  0860        THEFT   \n",
       "143080  01/01/2020 01:00:00 AM      035XX N CLARK ST  0810        THEFT   \n",
       "143094  01/01/2020 01:20:00 PM  040XX W LAWRENCE AVE  0860        THEFT   \n",
       "143097  01/01/2020 12:40:00 PM      001XX N STATE ST  0860        THEFT   \n",
       "143098  01/01/2020 04:55:00 PM   026XX W PERSHING RD  0860        THEFT   \n",
       "\n",
       "           Description                    Location Description  Arrest  \\\n",
       "9       $500 AND UNDER  PARKING LOT / GARAGE (NON RESIDENTIAL)       0   \n",
       "11      $500 AND UNDER         RESIDENCE - YARD (FRONT / BACK)       0   \n",
       "18           OVER $500                                  STREET       0   \n",
       "30      $500 AND UNDER                           BAR OR TAVERN       0   \n",
       "37      $500 AND UNDER  PARKING LOT / GARAGE (NON RESIDENTIAL)       0   \n",
       "...                ...                                     ...     ...   \n",
       "143076    RETAIL THEFT                        DEPARTMENT STORE       1   \n",
       "143080       OVER $500                           BAR OR TAVERN       0   \n",
       "143094    RETAIL THEFT                      SMALL RETAIL STORE       0   \n",
       "143097    RETAIL THEFT                        DEPARTMENT STORE       1   \n",
       "143098    RETAIL THEFT                      SMALL RETAIL STORE       0   \n",
       "\n",
       "        Domestic  Beat  District  ...  Y Coordinate   Latitude  Longitude  \\\n",
       "9              0   122         1  ...     1900346.0  41.881944 -87.634195   \n",
       "11             0   511         5  ...     1838723.0  41.712729 -87.617196   \n",
       "18             0   831         8  ...     1860504.0  41.772924 -87.688361   \n",
       "30             0  1233        12  ...     1891548.0  41.857939 -87.657300   \n",
       "37             0  2431        24  ...     1946191.0  42.007934 -87.664534   \n",
       "...          ...   ...       ...  ...           ...        ...        ...   \n",
       "143076         0   112         1  ...     1900278.0  41.881718 -87.627760   \n",
       "143080         0  1924        19  ...     1923699.0  41.946159 -87.655678   \n",
       "143094         0  1712        17  ...     1931595.0  41.968235 -87.728572   \n",
       "143097         0   111         1  ...     1900927.0  41.883500 -87.627877   \n",
       "143098         0   911         9  ...     1878695.0  41.822859 -87.690733   \n",
       "\n",
       "                             Location  Season  Weekday   Just_Date Is_Holiday  \\\n",
       "9       (41.881944424, -87.634195294)       4        6  2020-09-06          0   \n",
       "11      (41.712728832, -87.617195602)       4        6  2020-09-06          0   \n",
       "18      (41.772924147, -87.688361073)       4        6  2020-09-06          0   \n",
       "30      (41.857938856, -87.657300344)       4        6  2020-09-06          0   \n",
       "37      (42.007933629, -87.664534142)       4        6  2020-09-06          0   \n",
       "...                               ...     ...      ...         ...        ...   \n",
       "143076   (41.88171846, -87.627760426)       1        2  2020-01-01          1   \n",
       "143080  (41.946159169, -87.655678044)       1        2  2020-01-01          1   \n",
       "143094  (41.968234567, -87.728571616)       1        2  2020-01-01          1   \n",
       "143097  (41.883500187, -87.627876698)       1        2  2020-01-01          1   \n",
       "143098  (41.822858738, -87.690732873)       1        2  2020-01-01          1   \n",
       "\n",
       "        Day_of_Month  Month  \n",
       "9                  6      9  \n",
       "11                 6      9  \n",
       "18                 6      9  \n",
       "30                 6      9  \n",
       "37                 6      9  \n",
       "...              ...    ...  \n",
       "143076             1      1  \n",
       "143080             1      1  \n",
       "143094             1      1  \n",
       "143097             1      1  \n",
       "143098             1      1  \n",
       "\n",
       "[28603 rows x 24 columns]"
      ]
     },
     "execution_count": 79,
     "metadata": {},
     "output_type": "execute_result"
    }
   ],
   "source": [
    "for6=dt0[dt0[\"FBI Code\"]==6]\n",
    "for6"
   ]
  },
  {
   "cell_type": "code",
   "execution_count": 80,
   "metadata": {},
   "outputs": [
    {
     "data": {
      "text/plain": [
       "8     1829\n",
       "32    1430\n",
       "28    1292\n",
       "24    1245\n",
       "25    1143\n",
       "      ... \n",
       "18      68\n",
       "55      61\n",
       "74      48\n",
       "9       40\n",
       "47      28\n",
       "Name: Community Area, Length: 77, dtype: int64"
      ]
     },
     "execution_count": 80,
     "metadata": {},
     "output_type": "execute_result"
    }
   ],
   "source": [
    "for6[\"Community Area\"].value_counts()"
   ]
  },
  {
   "cell_type": "markdown",
   "metadata": {},
   "source": [
    "From above area 8 has the highest theft crime. I expected based on below linear regression that 36 area would be the one"
   ]
  },
  {
   "cell_type": "code",
   "execution_count": 84,
   "metadata": {},
   "outputs": [
    {
     "data": {
      "image/png": "[encoded data removed]",
      "text/plain": [
       "<Figure size 2160x720 with 1 Axes>"
      ]
     },
     "metadata": {
      "needs_background": "light"
     },
     "output_type": "display_data"
    }
   ],
   "source": [
    "x=np.c_[dt0[\"FBI Code\"]]\n",
    "y=np.c_[dt0[\"Community Area\"]]\n",
    "dt0.plot(kind='scatter', x=\"FBI Code\", y='Community Area', alpha=(0.4),figsize=(30,10))\n",
    "plt.show()"
   ]
  },
  {
   "cell_type": "code",
   "execution_count": 85,
   "metadata": {},
   "outputs": [
    {
     "data": {
      "text/plain": [
       "LinearRegression()"
      ]
     },
     "execution_count": 85,
     "metadata": {},
     "output_type": "execute_result"
    }
   ],
   "source": [
    "import sklearn.linear_model\n",
    "model = sklearn.linear_model.LinearRegression()\n",
    "model.fit(x, y)"
   ]
  },
  {
   "cell_type": "code",
   "execution_count": 86,
   "metadata": {},
   "outputs": [],
   "source": [
    "X_new = [[6]]"
   ]
  },
  {
   "cell_type": "code",
   "execution_count": 87,
   "metadata": {},
   "outputs": [
    {
     "name": "stdout",
     "output_type": "stream",
     "text": [
      "[[36.32291787]]\n"
     ]
    }
   ],
   "source": [
    "print(model.predict(X_new))"
   ]
  },
  {
   "cell_type": "code",
   "execution_count": 88,
   "metadata": {},
   "outputs": [
    {
     "data": {
      "text/html": [
       "<div>\n",
       "<style scoped>\n",
       "    .dataframe tbody tr th:only-of-type {\n",
       "        vertical-align: middle;\n",
       "    }\n",
       "\n",
       "    .dataframe tbody tr th {\n",
       "        vertical-align: top;\n",
       "    }\n",
       "\n",
       "    .dataframe thead th {\n",
       "        text-align: right;\n",
       "    }\n",
       "</style>\n",
       "<table border=\"1\" class=\"dataframe\">\n",
       "  <thead>\n",
       "    <tr style=\"text-align: right;\">\n",
       "      <th></th>\n",
       "      <th>Date</th>\n",
       "      <th>Block</th>\n",
       "      <th>IUCR</th>\n",
       "      <th>Primary Type</th>\n",
       "      <th>Description</th>\n",
       "      <th>Location Description</th>\n",
       "      <th>Arrest</th>\n",
       "      <th>Domestic</th>\n",
       "      <th>Beat</th>\n",
       "      <th>District</th>\n",
       "      <th>...</th>\n",
       "      <th>Y Coordinate</th>\n",
       "      <th>Latitude</th>\n",
       "      <th>Longitude</th>\n",
       "      <th>Location</th>\n",
       "      <th>Season</th>\n",
       "      <th>Weekday</th>\n",
       "      <th>Just_Date</th>\n",
       "      <th>Is_Holiday</th>\n",
       "      <th>Day_of_Month</th>\n",
       "      <th>Month</th>\n",
       "    </tr>\n",
       "  </thead>\n",
       "  <tbody>\n",
       "    <tr>\n",
       "      <th>25</th>\n",
       "      <td>09/06/2020 09:23:00 PM</td>\n",
       "      <td>041XX S LAKE SHORE DR SB</td>\n",
       "      <td>0470</td>\n",
       "      <td>PUBLIC PEACE VIOLATION</td>\n",
       "      <td>RECKLESS CONDUCT</td>\n",
       "      <td>PARK PROPERTY</td>\n",
       "      <td>1</td>\n",
       "      <td>0</td>\n",
       "      <td>214</td>\n",
       "      <td>2</td>\n",
       "      <td>...</td>\n",
       "      <td>1877728.0</td>\n",
       "      <td>41.819645</td>\n",
       "      <td>-87.597329</td>\n",
       "      <td>(41.819644511, -87.597328617)</td>\n",
       "      <td>4</td>\n",
       "      <td>6</td>\n",
       "      <td>2020-09-06</td>\n",
       "      <td>0</td>\n",
       "      <td>6</td>\n",
       "      <td>9</td>\n",
       "    </tr>\n",
       "    <tr>\n",
       "      <th>202</th>\n",
       "      <td>09/06/2020 01:30:00 AM</td>\n",
       "      <td>040XX S LAKE PARK AVE</td>\n",
       "      <td>0486</td>\n",
       "      <td>BATTERY</td>\n",
       "      <td>DOMESTIC BATTERY SIMPLE</td>\n",
       "      <td>APARTMENT</td>\n",
       "      <td>0</td>\n",
       "      <td>0</td>\n",
       "      <td>214</td>\n",
       "      <td>2</td>\n",
       "      <td>...</td>\n",
       "      <td>1878648.0</td>\n",
       "      <td>41.822200</td>\n",
       "      <td>-87.602135</td>\n",
       "      <td>(41.822199933, -87.602134797)</td>\n",
       "      <td>4</td>\n",
       "      <td>6</td>\n",
       "      <td>2020-09-06</td>\n",
       "      <td>0</td>\n",
       "      <td>6</td>\n",
       "      <td>9</td>\n",
       "    </tr>\n",
       "    <tr>\n",
       "      <th>452</th>\n",
       "      <td>09/06/2020 07:20:00 PM</td>\n",
       "      <td>035XX S LAKE SHORE DR SB</td>\n",
       "      <td>1320</td>\n",
       "      <td>CRIMINAL DAMAGE</td>\n",
       "      <td>TO VEHICLE</td>\n",
       "      <td>STREET</td>\n",
       "      <td>0</td>\n",
       "      <td>0</td>\n",
       "      <td>212</td>\n",
       "      <td>2</td>\n",
       "      <td>...</td>\n",
       "      <td>1881838.0</td>\n",
       "      <td>41.830979</td>\n",
       "      <td>-87.606001</td>\n",
       "      <td>(41.830978693, -87.606001383)</td>\n",
       "      <td>4</td>\n",
       "      <td>6</td>\n",
       "      <td>2020-09-06</td>\n",
       "      <td>0</td>\n",
       "      <td>6</td>\n",
       "      <td>9</td>\n",
       "    </tr>\n",
       "    <tr>\n",
       "      <th>684</th>\n",
       "      <td>09/05/2020 10:15:00 PM</td>\n",
       "      <td>008XX E 43RD ST</td>\n",
       "      <td>0520</td>\n",
       "      <td>ASSAULT</td>\n",
       "      <td>AGGRAVATED - KNIFE / CUTTING INSTRUMENT</td>\n",
       "      <td>SIDEWALK</td>\n",
       "      <td>0</td>\n",
       "      <td>0</td>\n",
       "      <td>214</td>\n",
       "      <td>2</td>\n",
       "      <td>...</td>\n",
       "      <td>1876681.0</td>\n",
       "      <td>41.816826</td>\n",
       "      <td>-87.605956</td>\n",
       "      <td>(41.816826216, -87.605956106)</td>\n",
       "      <td>4</td>\n",
       "      <td>5</td>\n",
       "      <td>2020-09-05</td>\n",
       "      <td>0</td>\n",
       "      <td>5</td>\n",
       "      <td>9</td>\n",
       "    </tr>\n",
       "    <tr>\n",
       "      <th>1128</th>\n",
       "      <td>09/05/2020 10:30:00 PM</td>\n",
       "      <td>008XX E 43RD ST</td>\n",
       "      <td>0486</td>\n",
       "      <td>BATTERY</td>\n",
       "      <td>DOMESTIC BATTERY SIMPLE</td>\n",
       "      <td>RESTAURANT</td>\n",
       "      <td>0</td>\n",
       "      <td>1</td>\n",
       "      <td>214</td>\n",
       "      <td>2</td>\n",
       "      <td>...</td>\n",
       "      <td>1876681.0</td>\n",
       "      <td>41.816826</td>\n",
       "      <td>-87.605956</td>\n",
       "      <td>(41.816826216, -87.605956106)</td>\n",
       "      <td>4</td>\n",
       "      <td>5</td>\n",
       "      <td>2020-09-05</td>\n",
       "      <td>0</td>\n",
       "      <td>5</td>\n",
       "      <td>9</td>\n",
       "    </tr>\n",
       "    <tr>\n",
       "      <th>...</th>\n",
       "      <td>...</td>\n",
       "      <td>...</td>\n",
       "      <td>...</td>\n",
       "      <td>...</td>\n",
       "      <td>...</td>\n",
       "      <td>...</td>\n",
       "      <td>...</td>\n",
       "      <td>...</td>\n",
       "      <td>...</td>\n",
       "      <td>...</td>\n",
       "      <td>...</td>\n",
       "      <td>...</td>\n",
       "      <td>...</td>\n",
       "      <td>...</td>\n",
       "      <td>...</td>\n",
       "      <td>...</td>\n",
       "      <td>...</td>\n",
       "      <td>...</td>\n",
       "      <td>...</td>\n",
       "      <td>...</td>\n",
       "      <td>...</td>\n",
       "    </tr>\n",
       "    <tr>\n",
       "      <th>140969</th>\n",
       "      <td>01/04/2020 02:30:00 AM</td>\n",
       "      <td>007XX E 38TH PL</td>\n",
       "      <td>0486</td>\n",
       "      <td>BATTERY</td>\n",
       "      <td>DOMESTIC BATTERY SIMPLE</td>\n",
       "      <td>APARTMENT</td>\n",
       "      <td>0</td>\n",
       "      <td>1</td>\n",
       "      <td>212</td>\n",
       "      <td>2</td>\n",
       "      <td>...</td>\n",
       "      <td>1879616.0</td>\n",
       "      <td>41.824902</td>\n",
       "      <td>-87.609347</td>\n",
       "      <td>(41.824902067, -87.609346517)</td>\n",
       "      <td>1</td>\n",
       "      <td>5</td>\n",
       "      <td>2020-01-04</td>\n",
       "      <td>0</td>\n",
       "      <td>4</td>\n",
       "      <td>1</td>\n",
       "    </tr>\n",
       "    <tr>\n",
       "      <th>141754</th>\n",
       "      <td>01/03/2020 02:30:00 AM</td>\n",
       "      <td>041XX S DREXEL BLVD</td>\n",
       "      <td>0460</td>\n",
       "      <td>BATTERY</td>\n",
       "      <td>SIMPLE</td>\n",
       "      <td>APARTMENT</td>\n",
       "      <td>0</td>\n",
       "      <td>0</td>\n",
       "      <td>214</td>\n",
       "      <td>2</td>\n",
       "      <td>...</td>\n",
       "      <td>1877464.0</td>\n",
       "      <td>41.818964</td>\n",
       "      <td>-87.604296</td>\n",
       "      <td>(41.818964454, -87.604295718)</td>\n",
       "      <td>1</td>\n",
       "      <td>4</td>\n",
       "      <td>2020-01-03</td>\n",
       "      <td>0</td>\n",
       "      <td>3</td>\n",
       "      <td>1</td>\n",
       "    </tr>\n",
       "    <tr>\n",
       "      <th>141920</th>\n",
       "      <td>01/03/2020 07:00:00 AM</td>\n",
       "      <td>035XX S COTTAGE GROVE AVE</td>\n",
       "      <td>0560</td>\n",
       "      <td>ASSAULT</td>\n",
       "      <td>SIMPLE</td>\n",
       "      <td>APARTMENT</td>\n",
       "      <td>0</td>\n",
       "      <td>0</td>\n",
       "      <td>212</td>\n",
       "      <td>2</td>\n",
       "      <td>...</td>\n",
       "      <td>1881665.0</td>\n",
       "      <td>41.830531</td>\n",
       "      <td>-87.610277</td>\n",
       "      <td>(41.830530933, -87.610277459)</td>\n",
       "      <td>1</td>\n",
       "      <td>4</td>\n",
       "      <td>2020-01-03</td>\n",
       "      <td>0</td>\n",
       "      <td>3</td>\n",
       "      <td>1</td>\n",
       "    </tr>\n",
       "    <tr>\n",
       "      <th>142513</th>\n",
       "      <td>01/01/2020 02:00:00 AM</td>\n",
       "      <td>008XX E 43RD ST</td>\n",
       "      <td>0460</td>\n",
       "      <td>BATTERY</td>\n",
       "      <td>SIMPLE</td>\n",
       "      <td>BAR OR TAVERN</td>\n",
       "      <td>0</td>\n",
       "      <td>0</td>\n",
       "      <td>214</td>\n",
       "      <td>2</td>\n",
       "      <td>...</td>\n",
       "      <td>1876681.0</td>\n",
       "      <td>41.816826</td>\n",
       "      <td>-87.605956</td>\n",
       "      <td>(41.816826216, -87.605956106)</td>\n",
       "      <td>1</td>\n",
       "      <td>2</td>\n",
       "      <td>2020-01-01</td>\n",
       "      <td>1</td>\n",
       "      <td>1</td>\n",
       "      <td>1</td>\n",
       "    </tr>\n",
       "    <tr>\n",
       "      <th>142789</th>\n",
       "      <td>01/01/2020 12:30:00 PM</td>\n",
       "      <td>037XX S VINCENNES AVE</td>\n",
       "      <td>2820</td>\n",
       "      <td>OTHER OFFENSE</td>\n",
       "      <td>TELEPHONE THREAT</td>\n",
       "      <td>APARTMENT</td>\n",
       "      <td>0</td>\n",
       "      <td>0</td>\n",
       "      <td>212</td>\n",
       "      <td>2</td>\n",
       "      <td>...</td>\n",
       "      <td>1880434.0</td>\n",
       "      <td>41.827162</td>\n",
       "      <td>-87.611732</td>\n",
       "      <td>(41.827161886, -87.611731628)</td>\n",
       "      <td>1</td>\n",
       "      <td>2</td>\n",
       "      <td>2020-01-01</td>\n",
       "      <td>1</td>\n",
       "      <td>1</td>\n",
       "      <td>1</td>\n",
       "    </tr>\n",
       "  </tbody>\n",
       "</table>\n",
       "<p>388 rows × 24 columns</p>\n",
       "</div>"
      ],
      "text/plain": [
       "                          Date                      Block  IUCR  \\\n",
       "25      09/06/2020 09:23:00 PM   041XX S LAKE SHORE DR SB  0470   \n",
       "202     09/06/2020 01:30:00 AM      040XX S LAKE PARK AVE  0486   \n",
       "452     09/06/2020 07:20:00 PM   035XX S LAKE SHORE DR SB  1320   \n",
       "684     09/05/2020 10:15:00 PM            008XX E 43RD ST  0520   \n",
       "1128    09/05/2020 10:30:00 PM            008XX E 43RD ST  0486   \n",
       "...                        ...                        ...   ...   \n",
       "140969  01/04/2020 02:30:00 AM            007XX E 38TH PL  0486   \n",
       "141754  01/03/2020 02:30:00 AM        041XX S DREXEL BLVD  0460   \n",
       "141920  01/03/2020 07:00:00 AM  035XX S COTTAGE GROVE AVE  0560   \n",
       "142513  01/01/2020 02:00:00 AM            008XX E 43RD ST  0460   \n",
       "142789  01/01/2020 12:30:00 PM      037XX S VINCENNES AVE  2820   \n",
       "\n",
       "                  Primary Type                              Description  \\\n",
       "25      PUBLIC PEACE VIOLATION                         RECKLESS CONDUCT   \n",
       "202                    BATTERY                  DOMESTIC BATTERY SIMPLE   \n",
       "452            CRIMINAL DAMAGE                               TO VEHICLE   \n",
       "684                    ASSAULT  AGGRAVATED - KNIFE / CUTTING INSTRUMENT   \n",
       "1128                   BATTERY                  DOMESTIC BATTERY SIMPLE   \n",
       "...                        ...                                      ...   \n",
       "140969                 BATTERY                  DOMESTIC BATTERY SIMPLE   \n",
       "141754                 BATTERY                                   SIMPLE   \n",
       "141920                 ASSAULT                                   SIMPLE   \n",
       "142513                 BATTERY                                   SIMPLE   \n",
       "142789           OTHER OFFENSE                         TELEPHONE THREAT   \n",
       "\n",
       "       Location Description  Arrest  Domestic  Beat  District  ...  \\\n",
       "25            PARK PROPERTY       1         0   214         2  ...   \n",
       "202               APARTMENT       0         0   214         2  ...   \n",
       "452                  STREET       0         0   212         2  ...   \n",
       "684                SIDEWALK       0         0   214         2  ...   \n",
       "1128             RESTAURANT       0         1   214         2  ...   \n",
       "...                     ...     ...       ...   ...       ...  ...   \n",
       "140969            APARTMENT       0         1   212         2  ...   \n",
       "141754            APARTMENT       0         0   214         2  ...   \n",
       "141920            APARTMENT       0         0   212         2  ...   \n",
       "142513        BAR OR TAVERN       0         0   214         2  ...   \n",
       "142789            APARTMENT       0         0   212         2  ...   \n",
       "\n",
       "        Y Coordinate   Latitude  Longitude                       Location  \\\n",
       "25         1877728.0  41.819645 -87.597329  (41.819644511, -87.597328617)   \n",
       "202        1878648.0  41.822200 -87.602135  (41.822199933, -87.602134797)   \n",
       "452        1881838.0  41.830979 -87.606001  (41.830978693, -87.606001383)   \n",
       "684        1876681.0  41.816826 -87.605956  (41.816826216, -87.605956106)   \n",
       "1128       1876681.0  41.816826 -87.605956  (41.816826216, -87.605956106)   \n",
       "...              ...        ...        ...                            ...   \n",
       "140969     1879616.0  41.824902 -87.609347  (41.824902067, -87.609346517)   \n",
       "141754     1877464.0  41.818964 -87.604296  (41.818964454, -87.604295718)   \n",
       "141920     1881665.0  41.830531 -87.610277  (41.830530933, -87.610277459)   \n",
       "142513     1876681.0  41.816826 -87.605956  (41.816826216, -87.605956106)   \n",
       "142789     1880434.0  41.827162 -87.611732  (41.827161886, -87.611731628)   \n",
       "\n",
       "        Season  Weekday   Just_Date Is_Holiday  Day_of_Month  Month  \n",
       "25           4        6  2020-09-06          0             6      9  \n",
       "202          4        6  2020-09-06          0             6      9  \n",
       "452          4        6  2020-09-06          0             6      9  \n",
       "684          4        5  2020-09-05          0             5      9  \n",
       "1128         4        5  2020-09-05          0             5      9  \n",
       "...        ...      ...         ...        ...           ...    ...  \n",
       "140969       1        5  2020-01-04          0             4      1  \n",
       "141754       1        4  2020-01-03          0             3      1  \n",
       "141920       1        4  2020-01-03          0             3      1  \n",
       "142513       1        2  2020-01-01          1             1      1  \n",
       "142789       1        2  2020-01-01          1             1      1  \n",
       "\n",
       "[388 rows x 24 columns]"
      ]
     },
     "execution_count": 88,
     "metadata": {},
     "output_type": "execute_result"
    }
   ],
   "source": [
    "for36=dt0[dt0[\"Community Area\"]==36]\n",
    "for36"
   ]
  },
  {
   "cell_type": "code",
   "execution_count": 89,
   "metadata": {},
   "outputs": [
    {
     "data": {
      "text/plain": [
       "6      71\n",
       "139    65\n",
       "20     53\n",
       "138    45\n",
       "17     28\n",
       "38     26\n",
       "21     16\n",
       "74     15\n",
       "75     13\n",
       "5      13\n",
       "7      12\n",
       "3      11\n",
       "32      6\n",
       "24      6\n",
       "2       4\n",
       "36      2\n",
       "26      1\n",
       "23      1\n",
       "Name: FBI Code, dtype: int64"
      ]
     },
     "execution_count": 89,
     "metadata": {},
     "output_type": "execute_result"
    }
   ],
   "source": [
    "for36[\"FBI Code\"].value_counts()"
   ]
  },
  {
   "cell_type": "code",
   "execution_count": 90,
   "metadata": {},
   "outputs": [
    {
     "data": {
      "text/plain": [
       "6      28603\n",
       "139    24164\n",
       "20     17358\n",
       "138    10735\n",
       "38      9723\n",
       "17      8254\n",
       "5       6378\n",
       "7       6311\n",
       "75      5750\n",
       "21      5558\n",
       "3       5181\n",
       "24      4897\n",
       "74      4278\n",
       "36      1544\n",
       "23       958\n",
       "2        920\n",
       "16       686\n",
       "26       533\n",
       "32       495\n",
       "9        387\n",
       "22       222\n",
       "34       110\n",
       "19        46\n",
       "25        19\n",
       "18         8\n",
       "27         1\n",
       "Name: FBI Code, dtype: int64"
      ]
     },
     "execution_count": 90,
     "metadata": {},
     "output_type": "execute_result"
    }
   ],
   "source": [
    "dt0[\"FBI Code\"].value_counts()"
   ]
  },
  {
   "cell_type": "code",
   "execution_count": 91,
   "metadata": {},
   "outputs": [],
   "source": [
    "X_new = [[27]]"
   ]
  },
  {
   "cell_type": "code",
   "execution_count": 92,
   "metadata": {},
   "outputs": [
    {
     "name": "stdout",
     "output_type": "stream",
     "text": [
      "[[36.90268942]]\n"
     ]
    }
   ],
   "source": [
    "print(model.predict(X_new))"
   ]
  },
  {
   "cell_type": "markdown",
   "metadata": {},
   "source": [
    "29/10/20 END"
   ]
  },
  {
   "cell_type": "code",
   "execution_count": null,
   "metadata": {
    "colab": {
     "base_uri": "https://localhost:8080/",
     "height": 339
    },
    "id": "AvPqvEz6Xac4",
    "outputId": "af57df2e-7e97-4fe8-995c-0ebde86ed9a7"
   },
   "outputs": [],
   "source": [
    "DataFrame[\"Community Area\"].value_counts().plot(kind='bar',figsize=(20,5))"
   ]
  },
  {
   "cell_type": "code",
   "execution_count": null,
   "metadata": {
    "id": "B7rAYBjdYqHX"
   },
   "outputs": [],
   "source": [
    "from sklearn.model_selection import train_test_split\n",
    "train_frame, test_frame = train_test_split(DataFrame)"
   ]
  },
  {
   "cell_type": "code",
   "execution_count": null,
   "metadata": {
    "colab": {
     "base_uri": "https://localhost:8080/",
     "height": 339
    },
    "id": "U3lO1OmdYuMK",
    "outputId": "ae6b7aed-685d-4d42-85f3-4210ef9c5581"
   },
   "outputs": [],
   "source": [
    "test_frame[\"Community Area\"].value_counts().plot(kind='bar',figsize=(20,5))"
   ]
  },
  {
   "cell_type": "code",
   "execution_count": null,
   "metadata": {
    "colab": {
     "base_uri": "https://localhost:8080/",
     "height": 339
    },
    "id": "qRRQp5CNYweA",
    "outputId": "10979a97-7159-49c5-c789-c6a2ff3d2031"
   },
   "outputs": [],
   "source": [
    "train_frame[\"Community Area\"].value_counts().plot(kind='bar',figsize=(20,5))"
   ]
  },
  {
   "cell_type": "code",
   "execution_count": null,
   "metadata": {
    "colab": {
     "base_uri": "https://localhost:8080/",
     "height": 34
    },
    "id": "uzBkfuV5Y4aw",
    "outputId": "efbf2734-c605-422e-cb1b-fcac069fcf8e"
   },
   "outputs": [],
   "source": [
    "len(train_frame)"
   ]
  },
  {
   "cell_type": "code",
   "execution_count": null,
   "metadata": {
    "colab": {
     "base_uri": "https://localhost:8080/",
     "height": 34
    },
    "id": "2Fsq6dH3Y7gB",
    "outputId": "646430b4-1811-4d5e-9ffe-7cc34c13762a"
   },
   "outputs": [],
   "source": [
    "len(test_frame)"
   ]
  },
  {
   "cell_type": "markdown",
   "metadata": {
    "id": "6vng9JS8jqFB"
   },
   "source": [
    "Convert \"FBI Code\" Hexa string to numeric value"
   ]
  },
  {
   "cell_type": "code",
   "execution_count": null,
   "metadata": {
    "colab": {
     "base_uri": "https://localhost:8080/",
     "height": 774
    },
    "id": "iy66DudyjrR2",
    "outputId": "ea65c275-2b15-41e3-9513-1e0642754d8c"
   },
   "outputs": [],
   "source": [
    "dt1['FBI Code'] = (DataFrame[\"FBI Code\"]).apply(lambda x: int(x, 16))\n",
    "dt1"
   ]
  },
  {
   "cell_type": "code",
   "execution_count": null,
   "metadata": {
    "id": "GkfXrTdx3XP7"
   },
   "outputs": [],
   "source": [
    "from sklearn import linear_model\n",
    "from sklearn.utils import shuffle"
   ]
  },
  {
   "cell_type": "code",
   "execution_count": null,
   "metadata": {
    "id": "5pVeIxAN3ImT"
   },
   "outputs": [],
   "source": [
    "dt0=dt0[[\"Date\",\"Arrest\",\"Domestic\",\"Ward\",\"Community Area\",\"FBI Code\"]]\n",
    "dt0"
   ]
  },
  {
   "cell_type": "code",
   "execution_count": null,
   "metadata": {},
   "outputs": [],
   "source": [
    "dt0.info()"
   ]
  },
  {
   "cell_type": "code",
   "execution_count": null,
   "metadata": {},
   "outputs": [],
   "source": [
    "dt0[(dt0[\"Date\"]==\"NaN\")]"
   ]
  },
  {
   "cell_type": "code",
   "execution_count": null,
   "metadata": {},
   "outputs": [],
   "source": [
    "predict=\"FBI Code\"\n",
    "X=np.array(dt0.drop([predict],1))"
   ]
  },
  {
   "cell_type": "code",
   "execution_count": null,
   "metadata": {},
   "outputs": [],
   "source": [
    "type(X)"
   ]
  },
  {
   "cell_type": "code",
   "execution_count": null,
   "metadata": {},
   "outputs": [],
   "source": [
    "Y=np.array(dt0[predict])"
   ]
  },
  {
   "cell_type": "code",
   "execution_count": null,
   "metadata": {},
   "outputs": [],
   "source": [
    "from sklearn.model_selection import train_test_split\n",
    "from sklearn.linear_model import LinearRegression\n",
    "regressor = LinearRegression()"
   ]
  },
  {
   "cell_type": "code",
   "execution_count": null,
   "metadata": {},
   "outputs": [],
   "source": [
    "x_train, x_test, y_train, y_test = sklearn.model_selection.train_test_split(X,Y,test_size=0.1)"
   ]
  },
  {
   "cell_type": "code",
   "execution_count": null,
   "metadata": {},
   "outputs": [],
   "source": [
    "linear=linear_model.LinearRegression()"
   ]
  },
  {
   "cell_type": "code",
   "execution_count": null,
   "metadata": {},
   "outputs": [],
   "source": [
    "dt0"
   ]
  },
  {
   "cell_type": "code",
   "execution_count": null,
   "metadata": {},
   "outputs": [],
   "source": [
    "def clean_dataset(dt0):\n",
    "    assert isinstance(dt0, pd.DataFrame), \"df needs to be a pd.DataFrame\"\n",
    "    dt0.dropna(inplace=True)\n",
    "    indices_to_keep = ~dt0.isin([np.nan, np.inf, -np.inf]).any(1)\n",
    "    return dt0[indices_to_keep].astype(np.float64)"
   ]
  },
  {
   "cell_type": "code",
   "execution_count": null,
   "metadata": {},
   "outputs": [],
   "source": [
    "dt0.dropna()"
   ]
  },
  {
   "cell_type": "code",
   "execution_count": null,
   "metadata": {},
   "outputs": [],
   "source": [
    "linear.fit(x_train, y_train)\n",
    "acc=linear.score(x_test, y_test)\n",
    "print(acc)"
   ]
  },
  {
   "cell_type": "code",
   "execution_count": null,
   "metadata": {},
   "outputs": [],
   "source": [
    "dt0[(dt0[\"Community Area\"]==\"NaN\")]"
   ]
  },
  {
   "cell_type": "code",
   "execution_count": null,
   "metadata": {},
   "outputs": [],
   "source": [
    "corrMatrix= dt1.corr()\n",
    "corrMatrix[\"FBI Code\"].sort_values(ascending=True)"
   ]
  },
  {
   "cell_type": "code",
   "execution_count": null,
   "metadata": {},
   "outputs": [],
   "source": [
    "corrMatrix= dt0.corr()\n",
    "corrMatrix[\"FBI Code\"].sort_values(ascending=True)"
   ]
  },
  {
   "cell_type": "code",
   "execution_count": null,
   "metadata": {},
   "outputs": [],
   "source": []
  }
 ],
 "metadata": {
  "accelerator": "GPU",
  "colab": {
   "collapsed_sections": [],
   "name": "ChicagoCrime-ML.ipynb",
   "provenance": []
  },
  "kernelspec": {
   "display_name": "Python 3",
   "language": "python",
   "name": "python3"
  },
  "language_info": {
   "codemirror_mode": {
    "name": "ipython",
    "version": 3
   },
   "file_extension": ".py",
   "mimetype": "text/x-python",
   "name": "python",
   "nbconvert_exporter": "python",
   "pygments_lexer": "ipython3",
   "version": "3.7.2"
  }
 },
 "nbformat": 4,
 "nbformat_minor": 1
}
