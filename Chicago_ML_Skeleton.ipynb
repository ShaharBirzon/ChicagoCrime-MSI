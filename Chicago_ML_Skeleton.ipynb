{
 "cells": [
  {
   "cell_type": "code",
   "execution_count": 4,
   "metadata": {
    "id": "7gGl05X3tL4W"
   },
   "outputs": [],
   "source": [
    "import pandas as pd\n",
    "import sklearn\n",
    "import matplotlib.pyplot as plt\n",
    "import numpy as np\n",
    "import holidays\n",
    "import datetime\n",
    "%matplotlib inline"
   ]
  },
  {
   "cell_type": "markdown",
   "metadata": {},
   "source": [
    "2 Cells below is relevant only when activating on cloud / Linux machine.\n",
    "Since on Windows  google.colab not working\n"
   ]
  },
  {
   "cell_type": "markdown",
   "metadata": {
    "colab": {
     "base_uri": "https://localhost:8080/",
     "height": 73,
     "resources": {
      "http://localhost:8080/nbextensions/google.colab/files.js": {
       "data": "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",
       "headers": [
        [
         "content-type",
         "application/javascript"
        ]
       ],
       "ok": true,
       "status": 200,
       "status_text": ""
      }
     }
    },
    "id": "r8-ivoruQXS5",
    "outputId": "304193b4-77e2-4ecb-f57f-469553468803"
   },
   "source": [
    "from google.colab import files\n",
    "uploaded = files.upload()"
   ]
  },
  {
   "cell_type": "markdown",
   "metadata": {
    "colab": {
     "base_uri": "https://localhost:8080/",
     "height": 774
    },
    "id": "ApcotWpvtL4Z",
    "outputId": "c4f52494-3377-4154-a6d5-d9002b9f88a3"
   },
   "source": [
    "import io\n",
    "DataFrame = pd.read_csv(io.BytesIO(uploaded['Crimes_-_2020.csv']))\n",
    "DataFrame"
   ]
  },
  {
   "cell_type": "markdown",
   "metadata": {},
   "source": [
    "Update csv data bease:\n",
    "https://drive.google.com/file/d/1s5lavM_C9aLsgdFzUmXOfbh_XvSxl-G4/view?usp=sharing"
   ]
  },
  {
   "cell_type": "code",
   "execution_count": 5,
   "metadata": {},
   "outputs": [],
   "source": [
    "DataFrame = pd.read_csv(\"Crimes_-_2019_to_Present.csv\")"
   ]
  },
  {
   "cell_type": "code",
   "execution_count": 6,
   "metadata": {},
   "outputs": [
    {
     "data": {
      "text/plain": [
       "Index(['Unnamed: 0', 'ID', 'Case Number', 'Date', 'Block', 'IUCR',\n",
       "       'Primary Type', 'Description', 'Location Description', 'Arrest',\n",
       "       'Domestic', 'Beat', 'District', 'Ward', 'Community Area', 'FBI Code',\n",
       "       'X Coordinate', 'Y Coordinate', 'Year', 'Updated On', 'Latitude',\n",
       "       'Longitude', 'Location'],\n",
       "      dtype='object')"
      ]
     },
     "execution_count": 6,
     "metadata": {},
     "output_type": "execute_result"
    }
   ],
   "source": [
    "DataFrame.columns"
   ]
  },
  {
   "cell_type": "code",
   "execution_count": 7,
   "metadata": {},
   "outputs": [],
   "source": [
    "Sunrise = pd.read_csv('sunrise-chicago.csv')\n"
   ]
  },
  {
   "cell_type": "code",
   "execution_count": 8,
   "metadata": {},
   "outputs": [],
   "source": [
    "# Add converted columns\n",
    "Sunrise['dtsunset']=Sunrise.apply(lambda x: datetime.datetime.combine(pd.to_datetime(x['date']), pd.to_datetime(x['sunset']).time()), axis=1)\n",
    "Sunrise['dtsunrise']=Sunrise.apply(lambda x: datetime.datetime.combine(pd.to_datetime(x['date']), pd.to_datetime(x['sunrise']).time()), axis=1)\n",
    "\n"
   ]
  },
  {
   "cell_type": "code",
   "execution_count": 9,
   "metadata": {},
   "outputs": [],
   "source": [
    "# a constant defining the time between sunset and darkness\n",
    "delta_sunset = datetime.timedelta(0,3600)\n",
    "#TODO: check exact delta, set another constant for sunrise time\n",
    "\n"
   ]
  },
  {
   "cell_type": "code",
   "execution_count": 10,
   "metadata": {},
   "outputs": [],
   "source": [
    "# Accepts datetime in string, returns boolean if it's in night time\n",
    "def is_dark(datecol) :\n",
    "  d = pd.to_datetime(datecol)\n",
    "  row = Sunrise.loc[Sunrise['date']==d.strftime(\"%Y-%m-%d\")]\n",
    "  return d < row['dtsunrise'].item() or d > (row['dtsunset'].item() + delta_sunset)\n",
    "\n",
    "# Add IsDark colunm to DataFrame\n",
    "# for tests, uncomment the next line and comment the line after it\n",
    "#DataFrame = DataFrame.head()\n",
    "#DataFrame['IsDark']=DataFrame.apply(lambda x: is_dark(x['Date']) ,axis=1)"
   ]
  },
  {
   "cell_type": "markdown",
   "metadata": {
    "id": "x1H6ac8NTAyl"
   },
   "source": [
    "Based on link below, we shall use FBI code instead of IUCR .\n",
    "http://gis.chicagopolice.org/clearmap_crime_sums/crime_types.html#N04A\n",
    "For example :\n",
    "\n",
    "> **FBI code** - Homicide 1st & 2nd Degree - 01A\n",
    "\n",
    "> **IUCR** \n",
    "*  0110 HOMICIDE FIRST DEGREE MURDER\n",
    "*  0130 HOMICIDE SECOND DEGREE MURDER\n",
    "\n",
    "> **FBI code** - Nonvoluntary Manslaughter - 01B\n",
    "\n",
    "> **IUCR** \n",
    "*    0141 HOMICIDE INVOLUNTARY MANSLAUGHTER\n",
    "*    0142 HOMICIDE RECKLESS HOMICIDE"
   ]
  },
  {
   "cell_type": "code",
   "execution_count": 11,
   "metadata": {},
   "outputs": [
    {
     "data": {
      "text/html": [
       "<div>\n",
       "<style scoped>\n",
       "    .dataframe tbody tr th:only-of-type {\n",
       "        vertical-align: middle;\n",
       "    }\n",
       "\n",
       "    .dataframe tbody tr th {\n",
       "        vertical-align: top;\n",
       "    }\n",
       "\n",
       "    .dataframe thead th {\n",
       "        text-align: right;\n",
       "    }\n",
       "</style>\n",
       "<table border=\"1\" class=\"dataframe\">\n",
       "  <thead>\n",
       "    <tr style=\"text-align: right;\">\n",
       "      <th></th>\n",
       "      <th>Unnamed: 0</th>\n",
       "      <th>ID</th>\n",
       "      <th>Case Number</th>\n",
       "      <th>Date</th>\n",
       "      <th>Block</th>\n",
       "      <th>IUCR</th>\n",
       "      <th>Primary Type</th>\n",
       "      <th>Description</th>\n",
       "      <th>Location Description</th>\n",
       "      <th>Arrest</th>\n",
       "      <th>...</th>\n",
       "      <th>Ward</th>\n",
       "      <th>Community Area</th>\n",
       "      <th>FBI Code</th>\n",
       "      <th>X Coordinate</th>\n",
       "      <th>Y Coordinate</th>\n",
       "      <th>Year</th>\n",
       "      <th>Updated On</th>\n",
       "      <th>Latitude</th>\n",
       "      <th>Longitude</th>\n",
       "      <th>Location</th>\n",
       "    </tr>\n",
       "  </thead>\n",
       "  <tbody>\n",
       "    <tr>\n",
       "      <th>0</th>\n",
       "      <td>136</td>\n",
       "      <td>11630494</td>\n",
       "      <td>JC194484</td>\n",
       "      <td>03/19/2019 04:30:00 PM</td>\n",
       "      <td>040XX W FOSTER AVE</td>\n",
       "      <td>0890</td>\n",
       "      <td>THEFT</td>\n",
       "      <td>FROM BUILDING</td>\n",
       "      <td>GROCERY FOOD STORE</td>\n",
       "      <td>False</td>\n",
       "      <td>...</td>\n",
       "      <td>39.0</td>\n",
       "      <td>13.0</td>\n",
       "      <td>06</td>\n",
       "      <td>NaN</td>\n",
       "      <td>NaN</td>\n",
       "      <td>2019</td>\n",
       "      <td>03/26/2019 04:15:20 PM</td>\n",
       "      <td>NaN</td>\n",
       "      <td>NaN</td>\n",
       "      <td>NaN</td>\n",
       "    </tr>\n",
       "    <tr>\n",
       "      <th>1</th>\n",
       "      <td>148</td>\n",
       "      <td>11630497</td>\n",
       "      <td>JC193763</td>\n",
       "      <td>03/19/2019 09:00:00 AM</td>\n",
       "      <td>015XX W 17TH ST</td>\n",
       "      <td>0820</td>\n",
       "      <td>THEFT</td>\n",
       "      <td>$500 AND UNDER</td>\n",
       "      <td>STREET</td>\n",
       "      <td>False</td>\n",
       "      <td>...</td>\n",
       "      <td>25.0</td>\n",
       "      <td>31.0</td>\n",
       "      <td>06</td>\n",
       "      <td>NaN</td>\n",
       "      <td>NaN</td>\n",
       "      <td>2019</td>\n",
       "      <td>03/26/2019 04:15:20 PM</td>\n",
       "      <td>NaN</td>\n",
       "      <td>NaN</td>\n",
       "      <td>NaN</td>\n",
       "    </tr>\n",
       "    <tr>\n",
       "      <th>2</th>\n",
       "      <td>258</td>\n",
       "      <td>11635490</td>\n",
       "      <td>JC199812</td>\n",
       "      <td>02/11/2019 05:50:00 PM</td>\n",
       "      <td>020XX N spaulding ave</td>\n",
       "      <td>0820</td>\n",
       "      <td>THEFT</td>\n",
       "      <td>$500 AND UNDER</td>\n",
       "      <td>RESIDENTIAL YARD (FRONT/BACK)</td>\n",
       "      <td>False</td>\n",
       "      <td>...</td>\n",
       "      <td>26.0</td>\n",
       "      <td>22.0</td>\n",
       "      <td>06</td>\n",
       "      <td>NaN</td>\n",
       "      <td>NaN</td>\n",
       "      <td>2019</td>\n",
       "      <td>03/27/2019 04:10:11 PM</td>\n",
       "      <td>NaN</td>\n",
       "      <td>NaN</td>\n",
       "      <td>NaN</td>\n",
       "    </tr>\n",
       "    <tr>\n",
       "      <th>3</th>\n",
       "      <td>279</td>\n",
       "      <td>11634522</td>\n",
       "      <td>JC199087</td>\n",
       "      <td>03/20/2019 07:00:00 PM</td>\n",
       "      <td>022XX W PRATT BLVD</td>\n",
       "      <td>1320</td>\n",
       "      <td>CRIMINAL DAMAGE</td>\n",
       "      <td>TO VEHICLE</td>\n",
       "      <td>STREET</td>\n",
       "      <td>False</td>\n",
       "      <td>...</td>\n",
       "      <td>50.0</td>\n",
       "      <td>2.0</td>\n",
       "      <td>14</td>\n",
       "      <td>NaN</td>\n",
       "      <td>NaN</td>\n",
       "      <td>2019</td>\n",
       "      <td>03/27/2019 04:10:11 PM</td>\n",
       "      <td>NaN</td>\n",
       "      <td>NaN</td>\n",
       "      <td>NaN</td>\n",
       "    </tr>\n",
       "    <tr>\n",
       "      <th>4</th>\n",
       "      <td>286</td>\n",
       "      <td>11632505</td>\n",
       "      <td>JC196841</td>\n",
       "      <td>03/20/2019 01:00:00 AM</td>\n",
       "      <td>013XX W HOOD AVE</td>\n",
       "      <td>0810</td>\n",
       "      <td>THEFT</td>\n",
       "      <td>OVER $500</td>\n",
       "      <td>OTHER</td>\n",
       "      <td>False</td>\n",
       "      <td>...</td>\n",
       "      <td>48.0</td>\n",
       "      <td>77.0</td>\n",
       "      <td>06</td>\n",
       "      <td>NaN</td>\n",
       "      <td>NaN</td>\n",
       "      <td>2019</td>\n",
       "      <td>03/27/2019 04:10:11 PM</td>\n",
       "      <td>NaN</td>\n",
       "      <td>NaN</td>\n",
       "      <td>NaN</td>\n",
       "    </tr>\n",
       "    <tr>\n",
       "      <th>...</th>\n",
       "      <td>...</td>\n",
       "      <td>...</td>\n",
       "      <td>...</td>\n",
       "      <td>...</td>\n",
       "      <td>...</td>\n",
       "      <td>...</td>\n",
       "      <td>...</td>\n",
       "      <td>...</td>\n",
       "      <td>...</td>\n",
       "      <td>...</td>\n",
       "      <td>...</td>\n",
       "      <td>...</td>\n",
       "      <td>...</td>\n",
       "      <td>...</td>\n",
       "      <td>...</td>\n",
       "      <td>...</td>\n",
       "      <td>...</td>\n",
       "      <td>...</td>\n",
       "      <td>...</td>\n",
       "      <td>...</td>\n",
       "      <td>...</td>\n",
       "    </tr>\n",
       "    <tr>\n",
       "      <th>428907</th>\n",
       "      <td>7217672</td>\n",
       "      <td>11700037</td>\n",
       "      <td>JC278815</td>\n",
       "      <td>05/26/2019 12:10:00 AM</td>\n",
       "      <td>046XX W MC LEAN AVE</td>\n",
       "      <td>0460</td>\n",
       "      <td>BATTERY</td>\n",
       "      <td>SIMPLE</td>\n",
       "      <td>RESIDENCE</td>\n",
       "      <td>True</td>\n",
       "      <td>...</td>\n",
       "      <td>36.0</td>\n",
       "      <td>19.0</td>\n",
       "      <td>08B</td>\n",
       "      <td>1145043.0</td>\n",
       "      <td>1913219.0</td>\n",
       "      <td>2019</td>\n",
       "      <td>06/30/2019 03:56:27 PM</td>\n",
       "      <td>41.917879</td>\n",
       "      <td>-87.742535</td>\n",
       "      <td>(41.917879493, -87.742535496)</td>\n",
       "    </tr>\n",
       "    <tr>\n",
       "      <th>428908</th>\n",
       "      <td>7217673</td>\n",
       "      <td>11703089</td>\n",
       "      <td>JC282400</td>\n",
       "      <td>05/26/2019 11:29:00 AM</td>\n",
       "      <td>021XX W GRACE ST</td>\n",
       "      <td>1130</td>\n",
       "      <td>DECEPTIVE PRACTICE</td>\n",
       "      <td>FRAUD OR CONFIDENCE GAME</td>\n",
       "      <td>OTHER</td>\n",
       "      <td>False</td>\n",
       "      <td>...</td>\n",
       "      <td>47.0</td>\n",
       "      <td>5.0</td>\n",
       "      <td>11</td>\n",
       "      <td>NaN</td>\n",
       "      <td>NaN</td>\n",
       "      <td>2019</td>\n",
       "      <td>06/02/2019 04:09:42 PM</td>\n",
       "      <td>NaN</td>\n",
       "      <td>NaN</td>\n",
       "      <td>NaN</td>\n",
       "    </tr>\n",
       "    <tr>\n",
       "      <th>428909</th>\n",
       "      <td>7217674</td>\n",
       "      <td>11700926</td>\n",
       "      <td>JC279725</td>\n",
       "      <td>05/26/2019 05:13:00 PM</td>\n",
       "      <td>036XX W DOUGLAS BLVD</td>\n",
       "      <td>2825</td>\n",
       "      <td>OTHER OFFENSE</td>\n",
       "      <td>HARASSMENT BY TELEPHONE</td>\n",
       "      <td>APARTMENT</td>\n",
       "      <td>False</td>\n",
       "      <td>...</td>\n",
       "      <td>24.0</td>\n",
       "      <td>29.0</td>\n",
       "      <td>26</td>\n",
       "      <td>1152126.0</td>\n",
       "      <td>1893208.0</td>\n",
       "      <td>2019</td>\n",
       "      <td>06/30/2019 03:56:27 PM</td>\n",
       "      <td>41.862830</td>\n",
       "      <td>-87.717040</td>\n",
       "      <td>(41.862830429, -87.717040084)</td>\n",
       "    </tr>\n",
       "    <tr>\n",
       "      <th>428910</th>\n",
       "      <td>7217675</td>\n",
       "      <td>24560</td>\n",
       "      <td>JC279072</td>\n",
       "      <td>05/26/2019 06:48:00 AM</td>\n",
       "      <td>013XX W HASTINGS ST</td>\n",
       "      <td>0110</td>\n",
       "      <td>HOMICIDE</td>\n",
       "      <td>FIRST DEGREE MURDER</td>\n",
       "      <td>CHA PARKING LOT</td>\n",
       "      <td>True</td>\n",
       "      <td>...</td>\n",
       "      <td>25.0</td>\n",
       "      <td>28.0</td>\n",
       "      <td>01A</td>\n",
       "      <td>1167752.0</td>\n",
       "      <td>1893853.0</td>\n",
       "      <td>2019</td>\n",
       "      <td>06/20/2020 03:48:45 PM</td>\n",
       "      <td>41.864278</td>\n",
       "      <td>-87.659660</td>\n",
       "      <td>(41.864278228, -87.659660218)</td>\n",
       "    </tr>\n",
       "    <tr>\n",
       "      <th>428911</th>\n",
       "      <td>7217678</td>\n",
       "      <td>24559</td>\n",
       "      <td>JC278908</td>\n",
       "      <td>05/26/2019 02:11:00 AM</td>\n",
       "      <td>013XX W HASTINGS ST</td>\n",
       "      <td>0110</td>\n",
       "      <td>HOMICIDE</td>\n",
       "      <td>FIRST DEGREE MURDER</td>\n",
       "      <td>STREET</td>\n",
       "      <td>False</td>\n",
       "      <td>...</td>\n",
       "      <td>25.0</td>\n",
       "      <td>28.0</td>\n",
       "      <td>01A</td>\n",
       "      <td>1167746.0</td>\n",
       "      <td>1893853.0</td>\n",
       "      <td>2019</td>\n",
       "      <td>06/20/2020 03:48:45 PM</td>\n",
       "      <td>41.864278</td>\n",
       "      <td>-87.659682</td>\n",
       "      <td>(41.864278357, -87.659682244)</td>\n",
       "    </tr>\n",
       "  </tbody>\n",
       "</table>\n",
       "<p>428912 rows × 23 columns</p>\n",
       "</div>"
      ],
      "text/plain": [
       "        Unnamed: 0        ID Case Number                    Date  \\\n",
       "0              136  11630494    JC194484  03/19/2019 04:30:00 PM   \n",
       "1              148  11630497    JC193763  03/19/2019 09:00:00 AM   \n",
       "2              258  11635490    JC199812  02/11/2019 05:50:00 PM   \n",
       "3              279  11634522    JC199087  03/20/2019 07:00:00 PM   \n",
       "4              286  11632505    JC196841  03/20/2019 01:00:00 AM   \n",
       "...            ...       ...         ...                     ...   \n",
       "428907     7217672  11700037    JC278815  05/26/2019 12:10:00 AM   \n",
       "428908     7217673  11703089    JC282400  05/26/2019 11:29:00 AM   \n",
       "428909     7217674  11700926    JC279725  05/26/2019 05:13:00 PM   \n",
       "428910     7217675     24560    JC279072  05/26/2019 06:48:00 AM   \n",
       "428911     7217678     24559    JC278908  05/26/2019 02:11:00 AM   \n",
       "\n",
       "                        Block  IUCR        Primary Type  \\\n",
       "0          040XX W FOSTER AVE  0890               THEFT   \n",
       "1             015XX W 17TH ST  0820               THEFT   \n",
       "2       020XX N spaulding ave  0820               THEFT   \n",
       "3          022XX W PRATT BLVD  1320     CRIMINAL DAMAGE   \n",
       "4            013XX W HOOD AVE  0810               THEFT   \n",
       "...                       ...   ...                 ...   \n",
       "428907    046XX W MC LEAN AVE  0460             BATTERY   \n",
       "428908       021XX W GRACE ST  1130  DECEPTIVE PRACTICE   \n",
       "428909   036XX W DOUGLAS BLVD  2825       OTHER OFFENSE   \n",
       "428910    013XX W HASTINGS ST  0110            HOMICIDE   \n",
       "428911    013XX W HASTINGS ST  0110            HOMICIDE   \n",
       "\n",
       "                     Description           Location Description  Arrest  ...  \\\n",
       "0                  FROM BUILDING             GROCERY FOOD STORE   False  ...   \n",
       "1                 $500 AND UNDER                         STREET   False  ...   \n",
       "2                 $500 AND UNDER  RESIDENTIAL YARD (FRONT/BACK)   False  ...   \n",
       "3                     TO VEHICLE                         STREET   False  ...   \n",
       "4                      OVER $500                          OTHER   False  ...   \n",
       "...                          ...                            ...     ...  ...   \n",
       "428907                    SIMPLE                      RESIDENCE    True  ...   \n",
       "428908  FRAUD OR CONFIDENCE GAME                          OTHER   False  ...   \n",
       "428909   HARASSMENT BY TELEPHONE                      APARTMENT   False  ...   \n",
       "428910       FIRST DEGREE MURDER                CHA PARKING LOT    True  ...   \n",
       "428911       FIRST DEGREE MURDER                         STREET   False  ...   \n",
       "\n",
       "        Ward  Community Area  FBI Code  X Coordinate  Y Coordinate  Year  \\\n",
       "0       39.0            13.0        06           NaN           NaN  2019   \n",
       "1       25.0            31.0        06           NaN           NaN  2019   \n",
       "2       26.0            22.0        06           NaN           NaN  2019   \n",
       "3       50.0             2.0        14           NaN           NaN  2019   \n",
       "4       48.0            77.0        06           NaN           NaN  2019   \n",
       "...      ...             ...       ...           ...           ...   ...   \n",
       "428907  36.0            19.0       08B     1145043.0     1913219.0  2019   \n",
       "428908  47.0             5.0        11           NaN           NaN  2019   \n",
       "428909  24.0            29.0        26     1152126.0     1893208.0  2019   \n",
       "428910  25.0            28.0       01A     1167752.0     1893853.0  2019   \n",
       "428911  25.0            28.0       01A     1167746.0     1893853.0  2019   \n",
       "\n",
       "                    Updated On   Latitude  Longitude  \\\n",
       "0       03/26/2019 04:15:20 PM        NaN        NaN   \n",
       "1       03/26/2019 04:15:20 PM        NaN        NaN   \n",
       "2       03/27/2019 04:10:11 PM        NaN        NaN   \n",
       "3       03/27/2019 04:10:11 PM        NaN        NaN   \n",
       "4       03/27/2019 04:10:11 PM        NaN        NaN   \n",
       "...                        ...        ...        ...   \n",
       "428907  06/30/2019 03:56:27 PM  41.917879 -87.742535   \n",
       "428908  06/02/2019 04:09:42 PM        NaN        NaN   \n",
       "428909  06/30/2019 03:56:27 PM  41.862830 -87.717040   \n",
       "428910  06/20/2020 03:48:45 PM  41.864278 -87.659660   \n",
       "428911  06/20/2020 03:48:45 PM  41.864278 -87.659682   \n",
       "\n",
       "                             Location  \n",
       "0                                 NaN  \n",
       "1                                 NaN  \n",
       "2                                 NaN  \n",
       "3                                 NaN  \n",
       "4                                 NaN  \n",
       "...                               ...  \n",
       "428907  (41.917879493, -87.742535496)  \n",
       "428908                            NaN  \n",
       "428909  (41.862830429, -87.717040084)  \n",
       "428910  (41.864278228, -87.659660218)  \n",
       "428911  (41.864278357, -87.659682244)  \n",
       "\n",
       "[428912 rows x 23 columns]"
      ]
     },
     "execution_count": 11,
     "metadata": {},
     "output_type": "execute_result"
    }
   ],
   "source": [
    "DataFrame"
   ]
  },
  {
   "cell_type": "code",
   "execution_count": 12,
   "metadata": {},
   "outputs": [
    {
     "data": {
      "text/plain": [
       "Index(['Unnamed: 0', 'ID', 'Case Number', 'Date', 'Block', 'IUCR',\n",
       "       'Primary Type', 'Description', 'Location Description', 'Arrest',\n",
       "       'Domestic', 'Beat', 'District', 'Ward', 'Community Area', 'FBI Code',\n",
       "       'X Coordinate', 'Y Coordinate', 'Year', 'Updated On', 'Latitude',\n",
       "       'Longitude', 'Location'],\n",
       "      dtype='object')"
      ]
     },
     "execution_count": 12,
     "metadata": {},
     "output_type": "execute_result"
    }
   ],
   "source": [
    "DataFrame.columns"
   ]
  },
  {
   "cell_type": "markdown",
   "metadata": {
    "id": "pjDm1hzAUWF8"
   },
   "source": [
    "**dt0 - Seasons numeric**\n",
    "\n",
    "*   4- Fall   - Lowest crime rate\n",
    "*   3- Summer - Highest crime rate\n",
    "\n",
    "*   2- Spring\n",
    "*   1- Winter\n",
    "\n",
    "**dt1 - Weekday numeric**\n",
    " The day of the week with Monday=0, Sunday=6 \n",
    " \n",
    "**dt2 - Weekday string** \n",
    "\n",
    "*  Sunday - Highest rate crimes\n",
    "*  Tuesday - Lowest rate crimes\n",
    "\n",
    "\n",
    "   \n",
    "    \n"
   ]
  },
  {
   "cell_type": "code",
   "execution_count": 13,
   "metadata": {},
   "outputs": [],
   "source": [
    "dtTemp = DataFrame.copy()"
   ]
  },
  {
   "cell_type": "code",
   "execution_count": 14,
   "metadata": {},
   "outputs": [
    {
     "data": {
      "text/html": [
       "<div>\n",
       "<style scoped>\n",
       "    .dataframe tbody tr th:only-of-type {\n",
       "        vertical-align: middle;\n",
       "    }\n",
       "\n",
       "    .dataframe tbody tr th {\n",
       "        vertical-align: top;\n",
       "    }\n",
       "\n",
       "    .dataframe thead th {\n",
       "        text-align: right;\n",
       "    }\n",
       "</style>\n",
       "<table border=\"1\" class=\"dataframe\">\n",
       "  <thead>\n",
       "    <tr style=\"text-align: right;\">\n",
       "      <th></th>\n",
       "      <th>Unnamed: 0</th>\n",
       "      <th>ID</th>\n",
       "      <th>Case Number</th>\n",
       "      <th>Date</th>\n",
       "      <th>Arrest</th>\n",
       "      <th>Domestic</th>\n",
       "      <th>Beat</th>\n",
       "      <th>District</th>\n",
       "      <th>Ward</th>\n",
       "      <th>Community Area</th>\n",
       "      <th>FBI Code</th>\n",
       "      <th>X Coordinate</th>\n",
       "      <th>Y Coordinate</th>\n",
       "      <th>Year</th>\n",
       "      <th>Updated On</th>\n",
       "      <th>Latitude</th>\n",
       "      <th>Longitude</th>\n",
       "    </tr>\n",
       "  </thead>\n",
       "  <tbody>\n",
       "    <tr>\n",
       "      <th>0</th>\n",
       "      <td>136</td>\n",
       "      <td>11630494</td>\n",
       "      <td>JC194484</td>\n",
       "      <td>03/19/2019 04:30:00 PM</td>\n",
       "      <td>False</td>\n",
       "      <td>False</td>\n",
       "      <td>1712</td>\n",
       "      <td>17.0</td>\n",
       "      <td>39.0</td>\n",
       "      <td>13.0</td>\n",
       "      <td>06</td>\n",
       "      <td>NaN</td>\n",
       "      <td>NaN</td>\n",
       "      <td>2019</td>\n",
       "      <td>03/26/2019 04:15:20 PM</td>\n",
       "      <td>NaN</td>\n",
       "      <td>NaN</td>\n",
       "    </tr>\n",
       "    <tr>\n",
       "      <th>1</th>\n",
       "      <td>148</td>\n",
       "      <td>11630497</td>\n",
       "      <td>JC193763</td>\n",
       "      <td>03/19/2019 09:00:00 AM</td>\n",
       "      <td>False</td>\n",
       "      <td>False</td>\n",
       "      <td>1233</td>\n",
       "      <td>12.0</td>\n",
       "      <td>25.0</td>\n",
       "      <td>31.0</td>\n",
       "      <td>06</td>\n",
       "      <td>NaN</td>\n",
       "      <td>NaN</td>\n",
       "      <td>2019</td>\n",
       "      <td>03/26/2019 04:15:20 PM</td>\n",
       "      <td>NaN</td>\n",
       "      <td>NaN</td>\n",
       "    </tr>\n",
       "    <tr>\n",
       "      <th>2</th>\n",
       "      <td>258</td>\n",
       "      <td>11635490</td>\n",
       "      <td>JC199812</td>\n",
       "      <td>02/11/2019 05:50:00 PM</td>\n",
       "      <td>False</td>\n",
       "      <td>False</td>\n",
       "      <td>1413</td>\n",
       "      <td>14.0</td>\n",
       "      <td>26.0</td>\n",
       "      <td>22.0</td>\n",
       "      <td>06</td>\n",
       "      <td>NaN</td>\n",
       "      <td>NaN</td>\n",
       "      <td>2019</td>\n",
       "      <td>03/27/2019 04:10:11 PM</td>\n",
       "      <td>NaN</td>\n",
       "      <td>NaN</td>\n",
       "    </tr>\n",
       "    <tr>\n",
       "      <th>3</th>\n",
       "      <td>279</td>\n",
       "      <td>11634522</td>\n",
       "      <td>JC199087</td>\n",
       "      <td>03/20/2019 07:00:00 PM</td>\n",
       "      <td>False</td>\n",
       "      <td>False</td>\n",
       "      <td>2411</td>\n",
       "      <td>24.0</td>\n",
       "      <td>50.0</td>\n",
       "      <td>2.0</td>\n",
       "      <td>14</td>\n",
       "      <td>NaN</td>\n",
       "      <td>NaN</td>\n",
       "      <td>2019</td>\n",
       "      <td>03/27/2019 04:10:11 PM</td>\n",
       "      <td>NaN</td>\n",
       "      <td>NaN</td>\n",
       "    </tr>\n",
       "    <tr>\n",
       "      <th>4</th>\n",
       "      <td>286</td>\n",
       "      <td>11632505</td>\n",
       "      <td>JC196841</td>\n",
       "      <td>03/20/2019 01:00:00 AM</td>\n",
       "      <td>False</td>\n",
       "      <td>False</td>\n",
       "      <td>2433</td>\n",
       "      <td>24.0</td>\n",
       "      <td>48.0</td>\n",
       "      <td>77.0</td>\n",
       "      <td>06</td>\n",
       "      <td>NaN</td>\n",
       "      <td>NaN</td>\n",
       "      <td>2019</td>\n",
       "      <td>03/27/2019 04:10:11 PM</td>\n",
       "      <td>NaN</td>\n",
       "      <td>NaN</td>\n",
       "    </tr>\n",
       "    <tr>\n",
       "      <th>...</th>\n",
       "      <td>...</td>\n",
       "      <td>...</td>\n",
       "      <td>...</td>\n",
       "      <td>...</td>\n",
       "      <td>...</td>\n",
       "      <td>...</td>\n",
       "      <td>...</td>\n",
       "      <td>...</td>\n",
       "      <td>...</td>\n",
       "      <td>...</td>\n",
       "      <td>...</td>\n",
       "      <td>...</td>\n",
       "      <td>...</td>\n",
       "      <td>...</td>\n",
       "      <td>...</td>\n",
       "      <td>...</td>\n",
       "      <td>...</td>\n",
       "    </tr>\n",
       "    <tr>\n",
       "      <th>428907</th>\n",
       "      <td>7217672</td>\n",
       "      <td>11700037</td>\n",
       "      <td>JC278815</td>\n",
       "      <td>05/26/2019 12:10:00 AM</td>\n",
       "      <td>True</td>\n",
       "      <td>False</td>\n",
       "      <td>2522</td>\n",
       "      <td>25.0</td>\n",
       "      <td>36.0</td>\n",
       "      <td>19.0</td>\n",
       "      <td>08B</td>\n",
       "      <td>1145043.0</td>\n",
       "      <td>1913219.0</td>\n",
       "      <td>2019</td>\n",
       "      <td>06/30/2019 03:56:27 PM</td>\n",
       "      <td>41.917879</td>\n",
       "      <td>-87.742535</td>\n",
       "    </tr>\n",
       "    <tr>\n",
       "      <th>428908</th>\n",
       "      <td>7217673</td>\n",
       "      <td>11703089</td>\n",
       "      <td>JC282400</td>\n",
       "      <td>05/26/2019 11:29:00 AM</td>\n",
       "      <td>False</td>\n",
       "      <td>False</td>\n",
       "      <td>1921</td>\n",
       "      <td>19.0</td>\n",
       "      <td>47.0</td>\n",
       "      <td>5.0</td>\n",
       "      <td>11</td>\n",
       "      <td>NaN</td>\n",
       "      <td>NaN</td>\n",
       "      <td>2019</td>\n",
       "      <td>06/02/2019 04:09:42 PM</td>\n",
       "      <td>NaN</td>\n",
       "      <td>NaN</td>\n",
       "    </tr>\n",
       "    <tr>\n",
       "      <th>428909</th>\n",
       "      <td>7217674</td>\n",
       "      <td>11700926</td>\n",
       "      <td>JC279725</td>\n",
       "      <td>05/26/2019 05:13:00 PM</td>\n",
       "      <td>False</td>\n",
       "      <td>True</td>\n",
       "      <td>1011</td>\n",
       "      <td>10.0</td>\n",
       "      <td>24.0</td>\n",
       "      <td>29.0</td>\n",
       "      <td>26</td>\n",
       "      <td>1152126.0</td>\n",
       "      <td>1893208.0</td>\n",
       "      <td>2019</td>\n",
       "      <td>06/30/2019 03:56:27 PM</td>\n",
       "      <td>41.862830</td>\n",
       "      <td>-87.717040</td>\n",
       "    </tr>\n",
       "    <tr>\n",
       "      <th>428910</th>\n",
       "      <td>7217675</td>\n",
       "      <td>24560</td>\n",
       "      <td>JC279072</td>\n",
       "      <td>05/26/2019 06:48:00 AM</td>\n",
       "      <td>True</td>\n",
       "      <td>False</td>\n",
       "      <td>1233</td>\n",
       "      <td>12.0</td>\n",
       "      <td>25.0</td>\n",
       "      <td>28.0</td>\n",
       "      <td>01A</td>\n",
       "      <td>1167752.0</td>\n",
       "      <td>1893853.0</td>\n",
       "      <td>2019</td>\n",
       "      <td>06/20/2020 03:48:45 PM</td>\n",
       "      <td>41.864278</td>\n",
       "      <td>-87.659660</td>\n",
       "    </tr>\n",
       "    <tr>\n",
       "      <th>428911</th>\n",
       "      <td>7217678</td>\n",
       "      <td>24559</td>\n",
       "      <td>JC278908</td>\n",
       "      <td>05/26/2019 02:11:00 AM</td>\n",
       "      <td>False</td>\n",
       "      <td>False</td>\n",
       "      <td>1233</td>\n",
       "      <td>12.0</td>\n",
       "      <td>25.0</td>\n",
       "      <td>28.0</td>\n",
       "      <td>01A</td>\n",
       "      <td>1167746.0</td>\n",
       "      <td>1893853.0</td>\n",
       "      <td>2019</td>\n",
       "      <td>06/20/2020 03:48:45 PM</td>\n",
       "      <td>41.864278</td>\n",
       "      <td>-87.659682</td>\n",
       "    </tr>\n",
       "  </tbody>\n",
       "</table>\n",
       "<p>428912 rows × 17 columns</p>\n",
       "</div>"
      ],
      "text/plain": [
       "        Unnamed: 0        ID Case Number                    Date  Arrest  \\\n",
       "0              136  11630494    JC194484  03/19/2019 04:30:00 PM   False   \n",
       "1              148  11630497    JC193763  03/19/2019 09:00:00 AM   False   \n",
       "2              258  11635490    JC199812  02/11/2019 05:50:00 PM   False   \n",
       "3              279  11634522    JC199087  03/20/2019 07:00:00 PM   False   \n",
       "4              286  11632505    JC196841  03/20/2019 01:00:00 AM   False   \n",
       "...            ...       ...         ...                     ...     ...   \n",
       "428907     7217672  11700037    JC278815  05/26/2019 12:10:00 AM    True   \n",
       "428908     7217673  11703089    JC282400  05/26/2019 11:29:00 AM   False   \n",
       "428909     7217674  11700926    JC279725  05/26/2019 05:13:00 PM   False   \n",
       "428910     7217675     24560    JC279072  05/26/2019 06:48:00 AM    True   \n",
       "428911     7217678     24559    JC278908  05/26/2019 02:11:00 AM   False   \n",
       "\n",
       "        Domestic  Beat  District  Ward  Community Area FBI Code  X Coordinate  \\\n",
       "0          False  1712      17.0  39.0            13.0       06           NaN   \n",
       "1          False  1233      12.0  25.0            31.0       06           NaN   \n",
       "2          False  1413      14.0  26.0            22.0       06           NaN   \n",
       "3          False  2411      24.0  50.0             2.0       14           NaN   \n",
       "4          False  2433      24.0  48.0            77.0       06           NaN   \n",
       "...          ...   ...       ...   ...             ...      ...           ...   \n",
       "428907     False  2522      25.0  36.0            19.0      08B     1145043.0   \n",
       "428908     False  1921      19.0  47.0             5.0       11           NaN   \n",
       "428909      True  1011      10.0  24.0            29.0       26     1152126.0   \n",
       "428910     False  1233      12.0  25.0            28.0      01A     1167752.0   \n",
       "428911     False  1233      12.0  25.0            28.0      01A     1167746.0   \n",
       "\n",
       "        Y Coordinate  Year              Updated On   Latitude  Longitude  \n",
       "0                NaN  2019  03/26/2019 04:15:20 PM        NaN        NaN  \n",
       "1                NaN  2019  03/26/2019 04:15:20 PM        NaN        NaN  \n",
       "2                NaN  2019  03/27/2019 04:10:11 PM        NaN        NaN  \n",
       "3                NaN  2019  03/27/2019 04:10:11 PM        NaN        NaN  \n",
       "4                NaN  2019  03/27/2019 04:10:11 PM        NaN        NaN  \n",
       "...              ...   ...                     ...        ...        ...  \n",
       "428907     1913219.0  2019  06/30/2019 03:56:27 PM  41.917879 -87.742535  \n",
       "428908           NaN  2019  06/02/2019 04:09:42 PM        NaN        NaN  \n",
       "428909     1893208.0  2019  06/30/2019 03:56:27 PM  41.862830 -87.717040  \n",
       "428910     1893853.0  2019  06/20/2020 03:48:45 PM  41.864278 -87.659660  \n",
       "428911     1893853.0  2019  06/20/2020 03:48:45 PM  41.864278 -87.659682  \n",
       "\n",
       "[428912 rows x 17 columns]"
      ]
     },
     "execution_count": 14,
     "metadata": {},
     "output_type": "execute_result"
    }
   ],
   "source": [
    "dtTemp=dtTemp.drop(['Block' , 'IUCR' , 'Primary Type' , 'Description' , 'Location Description' , 'Location'], axis=1 )\n",
    "dtTemp"
   ]
  },
  {
   "cell_type": "code",
   "execution_count": 15,
   "metadata": {},
   "outputs": [
    {
     "data": {
      "text/plain": [
       "Ward              22\n",
       "X Coordinate    5620\n",
       "Y Coordinate    5620\n",
       "Latitude        5620\n",
       "Longitude       5620\n",
       "dtype: int64"
      ]
     },
     "execution_count": 15,
     "metadata": {},
     "output_type": "execute_result"
    }
   ],
   "source": [
    "null_counts = dtTemp.isnull().sum()\n",
    "null_counts[null_counts>0]"
   ]
  },
  {
   "cell_type": "code",
   "execution_count": 16,
   "metadata": {},
   "outputs": [
    {
     "data": {
      "text/plain": [
       "Series([], dtype: int64)"
      ]
     },
     "execution_count": 16,
     "metadata": {},
     "output_type": "execute_result"
    }
   ],
   "source": [
    "dtTemp.dropna(subset = [\"Ward\"], inplace=True)\n",
    "dtTemp.dropna(subset = [\"X Coordinate\"], inplace=True)\n",
    "null_counts = dtTemp.isnull().sum()\n",
    "null_counts[null_counts>0]"
   ]
  },
  {
   "cell_type": "markdown",
   "metadata": {},
   "source": [
    "Now dataset is clean no NaN values"
   ]
  },
  {
   "cell_type": "code",
   "execution_count": 17,
   "metadata": {},
   "outputs": [
    {
     "data": {
      "text/plain": [
       "Unnamed: 0        0\n",
       "ID                0\n",
       "Case Number       0\n",
       "Date              0\n",
       "Arrest            0\n",
       "Domestic          0\n",
       "Beat              0\n",
       "District          0\n",
       "Ward              0\n",
       "Community Area    0\n",
       "FBI Code          0\n",
       "X Coordinate      0\n",
       "Y Coordinate      0\n",
       "Year              0\n",
       "Updated On        0\n",
       "Latitude          0\n",
       "Longitude         0\n",
       "dtype: int64"
      ]
     },
     "execution_count": 17,
     "metadata": {},
     "output_type": "execute_result"
    }
   ],
   "source": [
    "dtTemp.isnull().sum()"
   ]
  },
  {
   "cell_type": "code",
   "execution_count": 18,
   "metadata": {},
   "outputs": [],
   "source": [
    "del dtTemp['ID']\n",
    "del dtTemp['Year']\n",
    "del dtTemp['Case Number']\n",
    "del dtTemp['Updated On']"
   ]
  },
  {
   "cell_type": "code",
   "execution_count": 19,
   "metadata": {},
   "outputs": [
    {
     "name": "stdout",
     "output_type": "stream",
     "text": [
      "2020-01-01\n",
      "2020-01-20\n",
      "2020-02-17\n",
      "2020-05-25\n",
      "2020-07-04\n",
      "2020-07-03\n",
      "2020-09-07\n",
      "2020-10-12\n",
      "2020-11-11\n",
      "2020-11-26\n",
      "2020-12-25\n"
     ]
    }
   ],
   "source": [
    "for date in holidays.UnitedStates(years=2020).items():print(str(date[0]))"
   ]
  },
  {
   "cell_type": "code",
   "execution_count": 20,
   "metadata": {},
   "outputs": [
    {
     "name": "stdout",
     "output_type": "stream",
     "text": [
      "['2019-01-01', '2019-01-21', '2019-02-18', '2019-05-27', '2019-07-04', '2019-09-02', '2019-10-14', '2019-11-11', '2019-11-28', '2019-12-25', '2020-01-01', '2020-01-20', '2020-02-17', '2020-05-25', '2020-07-04', '2020-07-03', '2020-09-07', '2020-10-12', '2020-11-11', '2020-11-26', '2020-12-25']\n"
     ]
    }
   ],
   "source": [
    "us_holidays = []\n",
    "for date in holidays.UnitedStates(years=2019).items():\n",
    "    us_holidays.append(str(date[0]))\n",
    "for date in holidays.UnitedStates(years=2020).items():\n",
    "    us_holidays.append(str(date[0]))\n",
    "    \n",
    "print(us_holidays)"
   ]
  },
  {
   "cell_type": "code",
   "execution_count": 21,
   "metadata": {
    "colab": {
     "base_uri": "https://localhost:8080/",
     "height": 101
    },
    "id": "iAZelH3eU38W",
    "outputId": "9ab1f6cf-116a-4cf3-9b1e-f3cb363e972f"
   },
   "outputs": [],
   "source": [
    "dt0 = dtTemp.copy()\n",
    "dt0.drop(['ID', 'Case Number', 'Updated On', 'Block', 'IUCR', 'Description', 'Domestic','Arrest', 'Beat', 'Location', 'X Coordinate', 'Y Coordinate', 'Ward', 'FBI Code'], 1, inplace=True)\n",
    "#dt0[\"Arrest\"] = dt0[\"Arrest\"].astype(int)\n",
    "#dt0[\"Domestic\"] = dt0[\"Domestic\"].astype(int)\n",
    "#dt0[\"FBI Code\"] = (DataFrame[\"FBI Code\"]).apply(lambda x: int(x, 16))\n",
    "dt0[\"Season\"] = (pd.to_datetime(dt0['Date'], format=\"%m/%d/%Y %I:%M:%S %p\").dt.month%12 + 3)//3\n",
    "dt0[\"Weekday\"] = pd.to_datetime(dt0['Date'], format=\"%m/%d/%Y %I:%M:%S %p\").dt.dayofweek\n",
    "dt0[\"Just_Date\"] = (pd.to_datetime(dt0['Date'])).dt.date\n",
    "dt0[\"Is_Holiday\"] = [ 1 if str(val).split()[0] in us_holidays else 0 for val in dt0[\"Just_Date\"]]\n",
    "dt0[\"Day_of_Month\"] = pd.to_datetime(dt0[\"Just_Date\"]).dt.day\n",
    "dt0[\"Month\"] = pd.to_datetime(dt0[\"Just_Date\"]).dt.month\n",
    "dt0[\"IsDark\"]= DataFrame.apply(lambda x: is_dark(x['Date']) ,axis=1)\n"
   ]
  },
  {
   "cell_type": "code",
   "execution_count": 22,
   "metadata": {},
   "outputs": [
    {
     "data": {
      "text/plain": [
       "Index(['Unnamed: 0', 'Date', 'Arrest', 'Domestic', 'Beat', 'District', 'Ward',\n",
       "       'Community Area', 'FBI Code', 'X Coordinate', 'Y Coordinate',\n",
       "       'Latitude', 'Longitude', 'Season', 'Weekday', 'Just_Date', 'Is_Holiday',\n",
       "       'Day_of_Month', 'Month', 'IsDark'],\n",
       "      dtype='object')"
      ]
     },
     "execution_count": 22,
     "metadata": {},
     "output_type": "execute_result"
    }
   ],
   "source": [
    "dt0.columns"
   ]
  },
  {
   "cell_type": "code",
   "execution_count": 23,
   "metadata": {},
   "outputs": [
    {
     "data": {
      "text/html": [
       "<div>\n",
       "<style scoped>\n",
       "    .dataframe tbody tr th:only-of-type {\n",
       "        vertical-align: middle;\n",
       "    }\n",
       "\n",
       "    .dataframe tbody tr th {\n",
       "        vertical-align: top;\n",
       "    }\n",
       "\n",
       "    .dataframe thead th {\n",
       "        text-align: right;\n",
       "    }\n",
       "</style>\n",
       "<table border=\"1\" class=\"dataframe\">\n",
       "  <thead>\n",
       "    <tr style=\"text-align: right;\">\n",
       "      <th></th>\n",
       "      <th>Unnamed: 0</th>\n",
       "      <th>Date</th>\n",
       "      <th>Arrest</th>\n",
       "      <th>Domestic</th>\n",
       "      <th>Beat</th>\n",
       "      <th>District</th>\n",
       "      <th>Ward</th>\n",
       "      <th>Community Area</th>\n",
       "      <th>FBI Code</th>\n",
       "      <th>X Coordinate</th>\n",
       "      <th>Y Coordinate</th>\n",
       "      <th>Latitude</th>\n",
       "      <th>Longitude</th>\n",
       "      <th>Season</th>\n",
       "      <th>Weekday</th>\n",
       "      <th>Just_Date</th>\n",
       "      <th>Is_Holiday</th>\n",
       "      <th>Day_of_Month</th>\n",
       "      <th>Month</th>\n",
       "      <th>IsDark</th>\n",
       "    </tr>\n",
       "  </thead>\n",
       "  <tbody>\n",
       "    <tr>\n",
       "      <th>276</th>\n",
       "      <td>63291</td>\n",
       "      <td>04/10/2019 04:37:00 PM</td>\n",
       "      <td>0</td>\n",
       "      <td>0</td>\n",
       "      <td>511</td>\n",
       "      <td>5.0</td>\n",
       "      <td>9.0</td>\n",
       "      <td>49.0</td>\n",
       "      <td>23</td>\n",
       "      <td>1181051.0</td>\n",
       "      <td>1837225.0</td>\n",
       "      <td>41.708589</td>\n",
       "      <td>-87.612583</td>\n",
       "      <td>2</td>\n",
       "      <td>2</td>\n",
       "      <td>2019-04-10</td>\n",
       "      <td>0</td>\n",
       "      <td>10</td>\n",
       "      <td>4</td>\n",
       "      <td>False</td>\n",
       "    </tr>\n",
       "    <tr>\n",
       "      <th>282</th>\n",
       "      <td>63376</td>\n",
       "      <td>04/12/2019 04:08:00 PM</td>\n",
       "      <td>0</td>\n",
       "      <td>1</td>\n",
       "      <td>1731</td>\n",
       "      <td>17.0</td>\n",
       "      <td>30.0</td>\n",
       "      <td>16.0</td>\n",
       "      <td>2</td>\n",
       "      <td>1147835.0</td>\n",
       "      <td>1921408.0</td>\n",
       "      <td>41.940298</td>\n",
       "      <td>-87.732066</td>\n",
       "      <td>2</td>\n",
       "      <td>4</td>\n",
       "      <td>2019-04-12</td>\n",
       "      <td>0</td>\n",
       "      <td>12</td>\n",
       "      <td>4</td>\n",
       "      <td>False</td>\n",
       "    </tr>\n",
       "    <tr>\n",
       "      <th>283</th>\n",
       "      <td>63377</td>\n",
       "      <td>04/19/2019 01:57:00 PM</td>\n",
       "      <td>0</td>\n",
       "      <td>1</td>\n",
       "      <td>1532</td>\n",
       "      <td>15.0</td>\n",
       "      <td>28.0</td>\n",
       "      <td>25.0</td>\n",
       "      <td>23</td>\n",
       "      <td>1141669.0</td>\n",
       "      <td>1901165.0</td>\n",
       "      <td>41.884865</td>\n",
       "      <td>-87.755230</td>\n",
       "      <td>2</td>\n",
       "      <td>4</td>\n",
       "      <td>2019-04-19</td>\n",
       "      <td>0</td>\n",
       "      <td>19</td>\n",
       "      <td>4</td>\n",
       "      <td>False</td>\n",
       "    </tr>\n",
       "    <tr>\n",
       "      <th>294</th>\n",
       "      <td>63453</td>\n",
       "      <td>04/25/2019 05:20:00 PM</td>\n",
       "      <td>0</td>\n",
       "      <td>1</td>\n",
       "      <td>513</td>\n",
       "      <td>5.0</td>\n",
       "      <td>9.0</td>\n",
       "      <td>49.0</td>\n",
       "      <td>139</td>\n",
       "      <td>1180832.0</td>\n",
       "      <td>1833222.0</td>\n",
       "      <td>41.697609</td>\n",
       "      <td>-87.613508</td>\n",
       "      <td>2</td>\n",
       "      <td>3</td>\n",
       "      <td>2019-04-25</td>\n",
       "      <td>0</td>\n",
       "      <td>25</td>\n",
       "      <td>4</td>\n",
       "      <td>False</td>\n",
       "    </tr>\n",
       "    <tr>\n",
       "      <th>353</th>\n",
       "      <td>63857</td>\n",
       "      <td>05/13/2019 05:26:00 PM</td>\n",
       "      <td>0</td>\n",
       "      <td>0</td>\n",
       "      <td>2222</td>\n",
       "      <td>22.0</td>\n",
       "      <td>21.0</td>\n",
       "      <td>73.0</td>\n",
       "      <td>138</td>\n",
       "      <td>1169908.0</td>\n",
       "      <td>1844927.0</td>\n",
       "      <td>41.729973</td>\n",
       "      <td>-87.653167</td>\n",
       "      <td>2</td>\n",
       "      <td>0</td>\n",
       "      <td>2019-05-13</td>\n",
       "      <td>0</td>\n",
       "      <td>13</td>\n",
       "      <td>5</td>\n",
       "      <td>False</td>\n",
       "    </tr>\n",
       "    <tr>\n",
       "      <th>...</th>\n",
       "      <td>...</td>\n",
       "      <td>...</td>\n",
       "      <td>...</td>\n",
       "      <td>...</td>\n",
       "      <td>...</td>\n",
       "      <td>...</td>\n",
       "      <td>...</td>\n",
       "      <td>...</td>\n",
       "      <td>...</td>\n",
       "      <td>...</td>\n",
       "      <td>...</td>\n",
       "      <td>...</td>\n",
       "      <td>...</td>\n",
       "      <td>...</td>\n",
       "      <td>...</td>\n",
       "      <td>...</td>\n",
       "      <td>...</td>\n",
       "      <td>...</td>\n",
       "      <td>...</td>\n",
       "      <td>...</td>\n",
       "    </tr>\n",
       "    <tr>\n",
       "      <th>428905</th>\n",
       "      <td>2408049</td>\n",
       "      <td>05/19/2019 05:36:00 AM</td>\n",
       "      <td>0</td>\n",
       "      <td>0</td>\n",
       "      <td>1531</td>\n",
       "      <td>15.0</td>\n",
       "      <td>37.0</td>\n",
       "      <td>25.0</td>\n",
       "      <td>26</td>\n",
       "      <td>1143226.0</td>\n",
       "      <td>1906866.0</td>\n",
       "      <td>41.900480</td>\n",
       "      <td>-87.749370</td>\n",
       "      <td>2</td>\n",
       "      <td>6</td>\n",
       "      <td>2019-05-19</td>\n",
       "      <td>0</td>\n",
       "      <td>19</td>\n",
       "      <td>5</td>\n",
       "      <td>False</td>\n",
       "    </tr>\n",
       "    <tr>\n",
       "      <th>428907</th>\n",
       "      <td>7217672</td>\n",
       "      <td>05/26/2019 12:10:00 AM</td>\n",
       "      <td>1</td>\n",
       "      <td>0</td>\n",
       "      <td>2522</td>\n",
       "      <td>25.0</td>\n",
       "      <td>36.0</td>\n",
       "      <td>19.0</td>\n",
       "      <td>139</td>\n",
       "      <td>1145043.0</td>\n",
       "      <td>1913219.0</td>\n",
       "      <td>41.917879</td>\n",
       "      <td>-87.742535</td>\n",
       "      <td>2</td>\n",
       "      <td>6</td>\n",
       "      <td>2019-05-26</td>\n",
       "      <td>0</td>\n",
       "      <td>26</td>\n",
       "      <td>5</td>\n",
       "      <td>True</td>\n",
       "    </tr>\n",
       "    <tr>\n",
       "      <th>428909</th>\n",
       "      <td>7217674</td>\n",
       "      <td>05/26/2019 05:13:00 PM</td>\n",
       "      <td>0</td>\n",
       "      <td>1</td>\n",
       "      <td>1011</td>\n",
       "      <td>10.0</td>\n",
       "      <td>24.0</td>\n",
       "      <td>29.0</td>\n",
       "      <td>38</td>\n",
       "      <td>1152126.0</td>\n",
       "      <td>1893208.0</td>\n",
       "      <td>41.862830</td>\n",
       "      <td>-87.717040</td>\n",
       "      <td>2</td>\n",
       "      <td>6</td>\n",
       "      <td>2019-05-26</td>\n",
       "      <td>0</td>\n",
       "      <td>26</td>\n",
       "      <td>5</td>\n",
       "      <td>False</td>\n",
       "    </tr>\n",
       "    <tr>\n",
       "      <th>428910</th>\n",
       "      <td>7217675</td>\n",
       "      <td>05/26/2019 06:48:00 AM</td>\n",
       "      <td>1</td>\n",
       "      <td>0</td>\n",
       "      <td>1233</td>\n",
       "      <td>12.0</td>\n",
       "      <td>25.0</td>\n",
       "      <td>28.0</td>\n",
       "      <td>26</td>\n",
       "      <td>1167752.0</td>\n",
       "      <td>1893853.0</td>\n",
       "      <td>41.864278</td>\n",
       "      <td>-87.659660</td>\n",
       "      <td>2</td>\n",
       "      <td>6</td>\n",
       "      <td>2019-05-26</td>\n",
       "      <td>0</td>\n",
       "      <td>26</td>\n",
       "      <td>5</td>\n",
       "      <td>False</td>\n",
       "    </tr>\n",
       "    <tr>\n",
       "      <th>428911</th>\n",
       "      <td>7217678</td>\n",
       "      <td>05/26/2019 02:11:00 AM</td>\n",
       "      <td>0</td>\n",
       "      <td>0</td>\n",
       "      <td>1233</td>\n",
       "      <td>12.0</td>\n",
       "      <td>25.0</td>\n",
       "      <td>28.0</td>\n",
       "      <td>26</td>\n",
       "      <td>1167746.0</td>\n",
       "      <td>1893853.0</td>\n",
       "      <td>41.864278</td>\n",
       "      <td>-87.659682</td>\n",
       "      <td>2</td>\n",
       "      <td>6</td>\n",
       "      <td>2019-05-26</td>\n",
       "      <td>0</td>\n",
       "      <td>26</td>\n",
       "      <td>5</td>\n",
       "      <td>True</td>\n",
       "    </tr>\n",
       "  </tbody>\n",
       "</table>\n",
       "<p>423270 rows × 20 columns</p>\n",
       "</div>"
      ],
      "text/plain": [
       "        Unnamed: 0                    Date  Arrest  Domestic  Beat  District  \\\n",
       "276          63291  04/10/2019 04:37:00 PM       0         0   511       5.0   \n",
       "282          63376  04/12/2019 04:08:00 PM       0         1  1731      17.0   \n",
       "283          63377  04/19/2019 01:57:00 PM       0         1  1532      15.0   \n",
       "294          63453  04/25/2019 05:20:00 PM       0         1   513       5.0   \n",
       "353          63857  05/13/2019 05:26:00 PM       0         0  2222      22.0   \n",
       "...            ...                     ...     ...       ...   ...       ...   \n",
       "428905     2408049  05/19/2019 05:36:00 AM       0         0  1531      15.0   \n",
       "428907     7217672  05/26/2019 12:10:00 AM       1         0  2522      25.0   \n",
       "428909     7217674  05/26/2019 05:13:00 PM       0         1  1011      10.0   \n",
       "428910     7217675  05/26/2019 06:48:00 AM       1         0  1233      12.0   \n",
       "428911     7217678  05/26/2019 02:11:00 AM       0         0  1233      12.0   \n",
       "\n",
       "        Ward  Community Area  FBI Code  X Coordinate  Y Coordinate   Latitude  \\\n",
       "276      9.0            49.0        23     1181051.0     1837225.0  41.708589   \n",
       "282     30.0            16.0         2     1147835.0     1921408.0  41.940298   \n",
       "283     28.0            25.0        23     1141669.0     1901165.0  41.884865   \n",
       "294      9.0            49.0       139     1180832.0     1833222.0  41.697609   \n",
       "353     21.0            73.0       138     1169908.0     1844927.0  41.729973   \n",
       "...      ...             ...       ...           ...           ...        ...   \n",
       "428905  37.0            25.0        26     1143226.0     1906866.0  41.900480   \n",
       "428907  36.0            19.0       139     1145043.0     1913219.0  41.917879   \n",
       "428909  24.0            29.0        38     1152126.0     1893208.0  41.862830   \n",
       "428910  25.0            28.0        26     1167752.0     1893853.0  41.864278   \n",
       "428911  25.0            28.0        26     1167746.0     1893853.0  41.864278   \n",
       "\n",
       "        Longitude  Season  Weekday   Just_Date  Is_Holiday  Day_of_Month  \\\n",
       "276    -87.612583       2        2  2019-04-10           0            10   \n",
       "282    -87.732066       2        4  2019-04-12           0            12   \n",
       "283    -87.755230       2        4  2019-04-19           0            19   \n",
       "294    -87.613508       2        3  2019-04-25           0            25   \n",
       "353    -87.653167       2        0  2019-05-13           0            13   \n",
       "...           ...     ...      ...         ...         ...           ...   \n",
       "428905 -87.749370       2        6  2019-05-19           0            19   \n",
       "428907 -87.742535       2        6  2019-05-26           0            26   \n",
       "428909 -87.717040       2        6  2019-05-26           0            26   \n",
       "428910 -87.659660       2        6  2019-05-26           0            26   \n",
       "428911 -87.659682       2        6  2019-05-26           0            26   \n",
       "\n",
       "        Month  IsDark  \n",
       "276         4   False  \n",
       "282         4   False  \n",
       "283         4   False  \n",
       "294         4   False  \n",
       "353         5   False  \n",
       "...       ...     ...  \n",
       "428905      5   False  \n",
       "428907      5    True  \n",
       "428909      5   False  \n",
       "428910      5   False  \n",
       "428911      5    True  \n",
       "\n",
       "[423270 rows x 20 columns]"
      ]
     },
     "execution_count": 23,
     "metadata": {},
     "output_type": "execute_result"
    }
   ],
   "source": [
    "dt0"
   ]
  },
  {
   "cell_type": "code",
   "execution_count": 24,
   "metadata": {},
   "outputs": [
    {
     "data": {
      "text/plain": [
       "(423270, 20)"
      ]
     },
     "execution_count": 24,
     "metadata": {},
     "output_type": "execute_result"
    }
   ],
   "source": [
    "dt0.shape"
   ]
  },
  {
   "cell_type": "markdown",
   "metadata": {},
   "source": [
    "Creating a map from  \"Community Area\" to map coordinates"
   ]
  },
  {
   "cell_type": "code",
   "execution_count": null,
   "metadata": {},
   "outputs": [],
   "source": [
    "community_area_dict = dict()\n",
    "\n",
    "for i in range(1,78):\n",
    "    area_df = DataFrame[DataFrame[\"Community Area\"]==i]\n",
    "    vc = area_df[\"Block\"].value_counts()\n",
    "    max_block = vc.head(1).index[0]\n",
    "    block_df = area_df[area_df[\"Block\"]==max_block]\n",
    "    var = block_df[\"Location\"].iloc[0]\n",
    "    count = 1\n",
    "    while pd.isnull(var):\n",
    "        var = block_df[\"Location\"].iloc[count]\n",
    "        count+=1\n",
    "    community_area_dict[i] = var"
   ]
  },
  {
   "cell_type": "code",
   "execution_count": 25,
   "metadata": {},
   "outputs": [
    {
     "name": "stdout",
     "output_type": "stream",
     "text": [
      "<class 'pandas.core.frame.DataFrame'>\n",
      "Int64Index: 423270 entries, 276 to 428911\n",
      "Data columns (total 20 columns):\n",
      " #   Column          Non-Null Count   Dtype  \n",
      "---  ------          --------------   -----  \n",
      " 0   Unnamed: 0      423270 non-null  int64  \n",
      " 1   Date            423270 non-null  object \n",
      " 2   Arrest          423270 non-null  int32  \n",
      " 3   Domestic        423270 non-null  int32  \n",
      " 4   Beat            423270 non-null  int64  \n",
      " 5   District        423270 non-null  float64\n",
      " 6   Ward            423270 non-null  float64\n",
      " 7   Community Area  423270 non-null  float64\n",
      " 8   FBI Code        423270 non-null  int64  \n",
      " 9   X Coordinate    423270 non-null  float64\n",
      " 10  Y Coordinate    423270 non-null  float64\n",
      " 11  Latitude        423270 non-null  float64\n",
      " 12  Longitude       423270 non-null  float64\n",
      " 13  Season          423270 non-null  int64  \n",
      " 14  Weekday         423270 non-null  int64  \n",
      " 15  Just_Date       423270 non-null  object \n",
      " 16  Is_Holiday      423270 non-null  int64  \n",
      " 17  Day_of_Month    423270 non-null  int64  \n",
      " 18  Month           423270 non-null  int64  \n",
      " 19  IsDark          423270 non-null  bool   \n",
      "dtypes: bool(1), float64(7), int32(2), int64(8), object(2)\n",
      "memory usage: 61.8+ MB\n"
     ]
    }
   ],
   "source": [
    "dt0.info()"
   ]
  },
  {
   "cell_type": "code",
   "execution_count": 26,
   "metadata": {},
   "outputs": [
    {
     "data": {
      "text/html": [
       "<div>\n",
       "<style scoped>\n",
       "    .dataframe tbody tr th:only-of-type {\n",
       "        vertical-align: middle;\n",
       "    }\n",
       "\n",
       "    .dataframe tbody tr th {\n",
       "        vertical-align: top;\n",
       "    }\n",
       "\n",
       "    .dataframe thead th {\n",
       "        text-align: right;\n",
       "    }\n",
       "</style>\n",
       "<table border=\"1\" class=\"dataframe\">\n",
       "  <thead>\n",
       "    <tr style=\"text-align: right;\">\n",
       "      <th></th>\n",
       "      <th>Is_Holiday</th>\n",
       "      <th>Day_of_Month</th>\n",
       "      <th>Weekday</th>\n",
       "      <th>Season</th>\n",
       "      <th>IsDark</th>\n",
       "      <th>Counts</th>\n",
       "    </tr>\n",
       "  </thead>\n",
       "  <tbody>\n",
       "    <tr>\n",
       "      <th>0</th>\n",
       "      <td>0</td>\n",
       "      <td>1</td>\n",
       "      <td>0</td>\n",
       "      <td>2</td>\n",
       "      <td>False</td>\n",
       "      <td>533</td>\n",
       "    </tr>\n",
       "    <tr>\n",
       "      <th>1</th>\n",
       "      <td>0</td>\n",
       "      <td>1</td>\n",
       "      <td>0</td>\n",
       "      <td>2</td>\n",
       "      <td>True</td>\n",
       "      <td>240</td>\n",
       "    </tr>\n",
       "    <tr>\n",
       "      <th>2</th>\n",
       "      <td>0</td>\n",
       "      <td>1</td>\n",
       "      <td>0</td>\n",
       "      <td>3</td>\n",
       "      <td>False</td>\n",
       "      <td>1137</td>\n",
       "    </tr>\n",
       "    <tr>\n",
       "      <th>3</th>\n",
       "      <td>0</td>\n",
       "      <td>1</td>\n",
       "      <td>0</td>\n",
       "      <td>3</td>\n",
       "      <td>True</td>\n",
       "      <td>606</td>\n",
       "    </tr>\n",
       "    <tr>\n",
       "      <th>4</th>\n",
       "      <td>0</td>\n",
       "      <td>1</td>\n",
       "      <td>1</td>\n",
       "      <td>4</td>\n",
       "      <td>False</td>\n",
       "      <td>928</td>\n",
       "    </tr>\n",
       "    <tr>\n",
       "      <th>...</th>\n",
       "      <td>...</td>\n",
       "      <td>...</td>\n",
       "      <td>...</td>\n",
       "      <td>...</td>\n",
       "      <td>...</td>\n",
       "      <td>...</td>\n",
       "    </tr>\n",
       "    <tr>\n",
       "      <th>1017</th>\n",
       "      <td>1</td>\n",
       "      <td>25</td>\n",
       "      <td>2</td>\n",
       "      <td>1</td>\n",
       "      <td>True</td>\n",
       "      <td>298</td>\n",
       "    </tr>\n",
       "    <tr>\n",
       "      <th>1018</th>\n",
       "      <td>1</td>\n",
       "      <td>27</td>\n",
       "      <td>0</td>\n",
       "      <td>2</td>\n",
       "      <td>False</td>\n",
       "      <td>494</td>\n",
       "    </tr>\n",
       "    <tr>\n",
       "      <th>1019</th>\n",
       "      <td>1</td>\n",
       "      <td>27</td>\n",
       "      <td>0</td>\n",
       "      <td>2</td>\n",
       "      <td>True</td>\n",
       "      <td>252</td>\n",
       "    </tr>\n",
       "    <tr>\n",
       "      <th>1020</th>\n",
       "      <td>1</td>\n",
       "      <td>28</td>\n",
       "      <td>3</td>\n",
       "      <td>4</td>\n",
       "      <td>False</td>\n",
       "      <td>235</td>\n",
       "    </tr>\n",
       "    <tr>\n",
       "      <th>1021</th>\n",
       "      <td>1</td>\n",
       "      <td>28</td>\n",
       "      <td>3</td>\n",
       "      <td>4</td>\n",
       "      <td>True</td>\n",
       "      <td>268</td>\n",
       "    </tr>\n",
       "  </tbody>\n",
       "</table>\n",
       "<p>1022 rows × 6 columns</p>\n",
       "</div>"
      ],
      "text/plain": [
       "      Is_Holiday  Day_of_Month  Weekday  Season  IsDark  Counts\n",
       "0              0             1        0       2   False     533\n",
       "1              0             1        0       2    True     240\n",
       "2              0             1        0       3   False    1137\n",
       "3              0             1        0       3    True     606\n",
       "4              0             1        1       4   False     928\n",
       "...          ...           ...      ...     ...     ...     ...\n",
       "1017           1            25        2       1    True     298\n",
       "1018           1            27        0       2   False     494\n",
       "1019           1            27        0       2    True     252\n",
       "1020           1            28        3       4   False     235\n",
       "1021           1            28        3       4    True     268\n",
       "\n",
       "[1022 rows x 6 columns]"
      ]
     },
     "execution_count": 26,
     "metadata": {},
     "output_type": "execute_result"
    }
   ],
   "source": [
    "ndf = dt0.groupby(['Is_Holiday', 'Day_of_Month', 'Weekday', 'Season', 'IsDark']).size().reset_index(name='Counts')\n",
    "ndf"
   ]
  },
  {
   "cell_type": "code",
   "execution_count": 27,
   "metadata": {},
   "outputs": [],
   "source": [
    "from sklearn.tree import DecisionTreeClassifier\n",
    "from sklearn.model_selection import train_test_split\n",
    "from sklearn import tree"
   ]
  },
  {
   "cell_type": "code",
   "execution_count": 28,
   "metadata": {},
   "outputs": [],
   "source": [
    "X = ndf.drop('Counts', axis = 1)\n",
    "Y = ndf['Counts']"
   ]
  },
  {
   "cell_type": "code",
   "execution_count": 29,
   "metadata": {},
   "outputs": [
    {
     "data": {
      "text/plain": [
       "DecisionTreeClassifier()"
      ]
     },
     "execution_count": 29,
     "metadata": {},
     "output_type": "execute_result"
    }
   ],
   "source": [
    "x_train, x_test, y_train, y_test = sklearn.model_selection.train_test_split(X,Y,test_size=0.2)\n",
    "classifier= DecisionTreeClassifier()\n",
    "classifier.fit(x_train, y_train)"
   ]
  },
  {
   "cell_type": "code",
   "execution_count": 30,
   "metadata": {},
   "outputs": [],
   "source": [
    "y_pred = classifier.predict(x_test)"
   ]
  },
  {
   "cell_type": "code",
   "execution_count": 31,
   "metadata": {},
   "outputs": [
    {
     "name": "stdout",
     "output_type": "stream",
     "text": [
      "[[0 0 0 ... 0 0 0]\n",
      " [0 0 0 ... 0 0 0]\n",
      " [0 0 0 ... 0 0 0]\n",
      " ...\n",
      " [0 0 0 ... 0 0 0]\n",
      " [0 0 0 ... 0 0 0]\n",
      " [0 0 0 ... 0 0 0]]\n"
     ]
    }
   ],
   "source": [
    "from sklearn.metrics import confusion_matrix\n",
    "print(confusion_matrix(y_test, y_pred))"
   ]
  },
  {
   "cell_type": "code",
   "execution_count": 32,
   "metadata": {},
   "outputs": [
    {
     "name": "stdout",
     "output_type": "stream",
     "text": [
      "              precision    recall  f1-score   support\n",
      "\n",
      "           1       0.00      0.00      0.00         0\n",
      "           2       0.00      0.00      0.00         0\n",
      "           6       0.00      0.00      0.00         1\n",
      "         132       0.00      0.00      0.00         0\n",
      "         133       0.00      0.00      0.00         1\n",
      "         139       0.00      0.00      0.00         0\n",
      "         148       0.00      0.00      0.00         1\n",
      "         150       0.00      0.00      0.00         1\n",
      "         151       0.00      0.00      0.00         0\n",
      "         156       0.00      0.00      0.00         0\n",
      "         167       0.00      0.00      0.00         1\n",
      "         168       0.00      0.00      0.00         0\n",
      "         170       0.00      0.00      0.00         1\n",
      "         174       0.00      0.00      0.00         0\n",
      "         175       0.00      0.00      0.00         1\n",
      "         179       0.00      0.00      0.00         3\n",
      "         183       0.00      0.00      0.00         1\n",
      "         184       0.00      0.00      0.00         0\n",
      "         185       0.00      0.00      0.00         0\n",
      "         187       0.00      0.00      0.00         0\n",
      "         191       0.00      0.00      0.00         0\n",
      "         192       0.00      0.00      0.00         1\n",
      "         193       0.00      0.00      0.00         0\n",
      "         194       0.00      0.00      0.00         0\n",
      "         195       0.00      0.00      0.00         1\n",
      "         199       0.00      0.00      0.00         0\n",
      "         200       0.00      0.00      0.00         1\n",
      "         205       0.00      0.00      0.00         2\n",
      "         207       0.00      0.00      0.00         0\n",
      "         212       0.00      0.00      0.00         3\n",
      "         213       0.00      0.00      0.00         0\n",
      "         214       0.50      1.00      0.67         1\n",
      "         215       0.00      0.00      0.00         0\n",
      "         216       0.00      0.00      0.00         2\n",
      "         218       0.00      0.00      0.00         2\n",
      "         219       0.00      0.00      0.00         2\n",
      "         220       0.00      0.00      0.00         0\n",
      "         222       0.00      0.00      0.00         1\n",
      "         224       0.00      0.00      0.00         0\n",
      "         225       0.00      0.00      0.00         1\n",
      "         227       0.00      0.00      0.00         0\n",
      "         229       0.00      0.00      0.00         2\n",
      "         230       0.00      0.00      0.00         0\n",
      "         232       0.00      0.00      0.00         0\n",
      "         235       0.00      0.00      0.00         1\n",
      "         236       0.00      0.00      0.00         1\n",
      "         238       0.00      0.00      0.00         1\n",
      "         239       0.00      0.00      0.00         1\n",
      "         241       0.00      0.00      0.00         1\n",
      "         242       0.00      0.00      0.00         1\n",
      "         244       0.00      0.00      0.00         1\n",
      "         248       0.00      0.00      0.00         0\n",
      "         249       0.00      0.00      0.00         0\n",
      "         250       0.00      0.00      0.00         1\n",
      "         252       0.00      0.00      0.00         1\n",
      "         253       0.00      0.00      0.00         2\n",
      "         255       0.00      0.00      0.00         0\n",
      "         256       0.00      0.00      0.00         0\n",
      "         258       0.00      0.00      0.00         2\n",
      "         259       0.00      0.00      0.00         1\n",
      "         260       0.00      0.00      0.00         0\n",
      "         262       0.00      0.00      0.00         1\n",
      "         265       0.00      0.00      0.00         1\n",
      "         268       0.00      0.00      0.00         2\n",
      "         269       0.00      0.00      0.00         2\n",
      "         272       0.00      0.00      0.00         1\n",
      "         273       0.00      0.00      0.00         2\n",
      "         274       0.00      0.00      0.00         1\n",
      "         280       0.00      0.00      0.00         0\n",
      "         281       0.00      0.00      0.00         0\n",
      "         284       0.00      0.00      0.00         0\n",
      "         287       0.00      0.00      0.00         0\n",
      "         289       0.00      0.00      0.00         1\n",
      "         291       0.00      0.00      0.00         2\n",
      "         295       0.00      0.00      0.00         1\n",
      "         296       0.00      0.00      0.00         1\n",
      "         297       0.00      0.00      0.00         2\n",
      "         298       0.00      0.00      0.00         0\n",
      "         300       0.00      0.00      0.00         2\n",
      "         302       0.00      0.00      0.00         1\n",
      "         303       0.00      0.00      0.00         1\n",
      "         305       0.00      0.00      0.00         1\n",
      "         308       0.00      0.00      0.00         1\n",
      "         309       0.00      0.00      0.00         0\n",
      "         310       0.00      0.00      0.00         0\n",
      "         311       0.00      0.00      0.00         1\n",
      "         312       0.00      0.00      0.00         1\n",
      "         313       0.00      0.00      0.00         0\n",
      "         316       0.00      0.00      0.00         0\n",
      "         318       0.00      0.00      0.00         2\n",
      "         319       0.00      0.00      0.00         2\n",
      "         320       0.00      0.00      0.00         1\n",
      "         321       0.00      0.00      0.00         1\n",
      "         322       0.00      0.00      0.00         2\n",
      "         323       0.00      0.00      0.00         1\n",
      "         324       0.00      0.00      0.00         1\n",
      "         325       0.00      0.00      0.00         1\n",
      "         327       0.00      0.00      0.00         2\n",
      "         328       0.00      0.00      0.00         1\n",
      "         329       0.00      0.00      0.00         0\n",
      "         335       0.00      0.00      0.00         0\n",
      "         336       0.00      0.00      0.00         1\n",
      "         337       0.00      0.00      0.00         1\n",
      "         338       0.00      0.00      0.00         0\n",
      "         339       0.00      0.00      0.00         2\n",
      "         340       0.00      0.00      0.00         1\n",
      "         341       0.00      0.00      0.00         1\n",
      "         342       0.00      0.00      0.00         1\n",
      "         343       0.00      0.00      0.00         1\n",
      "         344       0.00      0.00      0.00         1\n",
      "         345       0.00      0.00      0.00         1\n",
      "         346       0.00      0.00      0.00         3\n",
      "         347       0.00      0.00      0.00         0\n",
      "         348       0.00      0.00      0.00         0\n",
      "         350       0.00      0.00      0.00         1\n",
      "         351       0.00      0.00      0.00         1\n",
      "         352       0.00      0.00      0.00         0\n",
      "         354       0.00      0.00      0.00         1\n",
      "         355       0.00      0.00      0.00         1\n",
      "         356       0.00      0.00      0.00         0\n",
      "         357       0.00      0.00      0.00         0\n",
      "         359       0.00      0.00      0.00         1\n",
      "         360       0.00      0.00      0.00         1\n",
      "         361       0.00      0.00      0.00         1\n",
      "         362       0.00      0.00      0.00         1\n",
      "         363       0.00      0.00      0.00         1\n",
      "         364       0.00      0.00      0.00         1\n",
      "         365       0.00      0.00      0.00         1\n",
      "         366       0.00      0.00      0.00         0\n",
      "         367       0.00      0.00      0.00         1\n",
      "         369       0.00      0.00      0.00         1\n",
      "         370       0.00      0.00      0.00         0\n",
      "         371       0.00      0.00      0.00         1\n",
      "         372       0.00      0.00      0.00         2\n",
      "         373       0.00      0.00      0.00         0\n",
      "         374       0.00      0.00      0.00         0\n",
      "         376       0.00      0.00      0.00         0\n",
      "         377       0.00      0.00      0.00         0\n",
      "         379       0.00      0.00      0.00         1\n",
      "         380       0.00      0.00      0.00         1\n",
      "         383       0.00      0.00      0.00         1\n",
      "         384       0.00      0.00      0.00         0\n",
      "         385       0.00      0.00      0.00         0\n",
      "         386       0.00      0.00      0.00         0\n",
      "         387       0.00      0.00      0.00         2\n",
      "         388       0.00      0.00      0.00         1\n",
      "         389       0.00      0.00      0.00         1\n",
      "         390       0.00      0.00      0.00         1\n",
      "         391       0.00      0.00      0.00         0\n",
      "         393       0.00      0.00      0.00         1\n",
      "         394       0.00      0.00      0.00         1\n",
      "         397       0.00      0.00      0.00         1\n",
      "         398       0.00      0.00      0.00         1\n",
      "         399       0.00      0.00      0.00         1\n",
      "         400       0.00      0.00      0.00         1\n",
      "         401       0.00      0.00      0.00         2\n",
      "         403       0.00      0.00      0.00         1\n",
      "         410       0.00      0.00      0.00         2\n",
      "         413       0.00      0.00      0.00         0\n",
      "         414       0.00      0.00      0.00         0\n",
      "         416       0.00      0.00      0.00         1\n",
      "         417       0.00      0.00      0.00         1\n",
      "         418       0.00      0.00      0.00         1\n",
      "         420       0.00      0.00      0.00         1\n",
      "         423       0.00      0.00      0.00         1\n",
      "         430       0.00      0.00      0.00         1\n",
      "         432       0.00      0.00      0.00         0\n",
      "         435       0.00      0.00      0.00         1\n",
      "         436       0.00      0.00      0.00         1\n",
      "         437       0.00      0.00      0.00         1\n",
      "         439       0.00      0.00      0.00         1\n",
      "         441       0.00      0.00      0.00         0\n",
      "         443       0.00      0.00      0.00         1\n",
      "         445       0.00      0.00      0.00         1\n",
      "         446       0.00      0.00      0.00         1\n",
      "         451       0.00      0.00      0.00         0\n",
      "         454       0.00      0.00      0.00         1\n",
      "         455       0.00      0.00      0.00         0\n",
      "         456       0.00      0.00      0.00         0\n",
      "         458       0.00      0.00      0.00         0\n",
      "         467       0.00      0.00      0.00         1\n",
      "         468       0.00      0.00      0.00         1\n",
      "         470       0.00      0.00      0.00         1\n",
      "         475       0.00      0.00      0.00         1\n",
      "         476       0.00      0.00      0.00         0\n",
      "         478       0.00      0.00      0.00         1\n",
      "         486       0.00      0.00      0.00         1\n",
      "         492       0.00      0.00      0.00         0\n",
      "         496       0.00      0.00      0.00         0\n",
      "         497       0.00      0.00      0.00         0\n",
      "         498       0.00      0.00      0.00         1\n",
      "         499       0.00      0.00      0.00         0\n",
      "         504       0.00      0.00      0.00         0\n",
      "         513       0.00      0.00      0.00         1\n",
      "         516       0.00      0.00      0.00         1\n",
      "         518       0.00      0.00      0.00         1\n",
      "         530       0.00      0.00      0.00         0\n",
      "         532       0.00      0.00      0.00         1\n",
      "         537       0.00      0.00      0.00         0\n",
      "         538       0.00      0.00      0.00         0\n",
      "         541       0.00      0.00      0.00         1\n",
      "         542       0.00      0.00      0.00         0\n",
      "         544       0.00      0.00      0.00         0\n",
      "         546       0.00      0.00      0.00         1\n",
      "         547       0.00      0.00      0.00         0\n",
      "         549       0.00      0.00      0.00         0\n",
      "         551       0.00      0.00      0.00         0\n",
      "         558       0.00      0.00      0.00         1\n",
      "         561       0.00      0.00      0.00         0\n",
      "         563       0.00      0.00      0.00         0\n",
      "         566       0.00      0.00      0.00         1\n",
      "         575       0.00      0.00      0.00         0\n",
      "         616       0.00      0.00      0.00         1\n",
      "         617       0.00      0.00      0.00         1\n",
      "         635       0.00      0.00      0.00         1\n",
      "         646       0.00      0.00      0.00         0\n",
      "         649       0.00      0.00      0.00         0\n",
      "         671       0.00      0.00      0.00         2\n",
      "         680       0.00      0.00      0.00         0\n",
      "         690       0.00      0.00      0.00         0\n",
      "         713       0.00      0.00      0.00         1\n",
      "         715       0.00      0.00      0.00         1\n",
      "         717       0.00      0.00      0.00         1\n",
      "         719       0.00      0.00      0.00         1\n",
      "         723       0.00      0.00      0.00         1\n",
      "         743       0.00      0.00      0.00         1\n",
      "         746       0.00      0.00      0.00         1\n",
      "         751       0.00      0.00      0.00         1\n",
      "         756       0.00      0.00      0.00         2\n",
      "         776       0.00      0.00      0.00         1\n",
      "         778       0.00      0.00      0.00         0\n",
      "         779       0.00      0.00      0.00         0\n",
      "         797       0.00      0.00      0.00         1\n",
      "         801       0.00      0.00      0.00         1\n",
      "         805       0.00      0.00      0.00         1\n",
      "         821       0.00      0.00      0.00         1\n",
      "         822       0.00      0.00      0.00         0\n",
      "         824       0.00      0.00      0.00         0\n",
      "         837       0.00      0.00      0.00         0\n",
      "         839       0.00      0.00      0.00         0\n",
      "         840       0.00      0.00      0.00         0\n",
      "         848       0.00      0.00      0.00         1\n",
      "         868       0.00      0.00      0.00         1\n",
      "         870       0.00      0.00      0.00         0\n",
      "         871       0.00      0.00      0.00         2\n",
      "         878       0.00      0.00      0.00         0\n",
      "         902       0.00      0.00      0.00         1\n",
      "         905       0.00      0.00      0.00         1\n",
      "         906       0.00      0.00      0.00         2\n",
      "         909       0.00      0.00      0.00         1\n",
      "         910       0.00      0.00      0.00         1\n",
      "         928       0.00      0.00      0.00         0\n",
      "         931       0.00      0.00      0.00         2\n",
      "         934       0.00      0.00      0.00         1\n",
      "         946       0.00      0.00      0.00         0\n",
      "         955       0.00      0.00      0.00         1\n",
      "         957       0.00      0.00      0.00         1\n",
      "         959       0.00      0.00      0.00         0\n",
      "         969       0.00      0.00      0.00         1\n",
      "         970       0.00      0.00      0.00         1\n",
      "         972       0.00      0.00      0.00         0\n",
      "         976       0.00      0.00      0.00         1\n",
      "         978       0.00      0.00      0.00         1\n",
      "         987       0.00      0.00      0.00         1\n",
      "         990       0.00      0.00      0.00         1\n",
      "         994       0.00      0.00      0.00         1\n",
      "         998       0.00      0.00      0.00         1\n",
      "         999       0.00      0.00      0.00         0\n",
      "        1004       0.00      0.00      0.00         0\n",
      "        1007       0.00      0.00      0.00         1\n",
      "        1009       0.00      0.00      0.00         1\n",
      "        1019       0.00      0.00      0.00         0\n",
      "        1044       0.00      0.00      0.00         0\n",
      "        1046       0.00      0.00      0.00         0\n",
      "        1611       0.00      0.00      0.00         0\n",
      "\n",
      "    accuracy                           0.00       205\n",
      "   macro avg       0.00      0.00      0.00       205\n",
      "weighted avg       0.00      0.00      0.00       205\n",
      "\n"
     ]
    },
    {
     "name": "stderr",
     "output_type": "stream",
     "text": [
      "C:\\Users\\bdl011\\Anaconda3\\lib\\site-packages\\sklearn\\metrics\\_classification.py:1221: UndefinedMetricWarning: Precision and F-score are ill-defined and being set to 0.0 in labels with no predicted samples. Use `zero_division` parameter to control this behavior.\n",
      "  _warn_prf(average, modifier, msg_start, len(result))\n",
      "C:\\Users\\bdl011\\Anaconda3\\lib\\site-packages\\sklearn\\metrics\\_classification.py:1221: UndefinedMetricWarning: Recall and F-score are ill-defined and being set to 0.0 in labels with no true samples. Use `zero_division` parameter to control this behavior.\n",
      "  _warn_prf(average, modifier, msg_start, len(result))\n"
     ]
    }
   ],
   "source": [
    "from sklearn.metrics import classification_report\n",
    "print(classification_report(y_test, y_pred))"
   ]
  },
  {
   "cell_type": "code",
   "execution_count": null,
   "metadata": {},
   "outputs": [],
   "source": [
    "Check_Holiday = dt0[dt0[\"Is_Holiday\"]==1]\n",
    "Check_Holiday"
   ]
  },
  {
   "cell_type": "code",
   "execution_count": null,
   "metadata": {
    "colab": {
     "base_uri": "https://localhost:8080/",
     "height": 151
    },
    "id": "zoENdLSSXvi4",
    "outputId": "11731ff7-ae64-40fa-cc64-271b9195905c"
   },
   "outputs": [],
   "source": [
    "dt0[\"Month\"].value_counts()"
   ]
  },
  {
   "cell_type": "markdown",
   "metadata": {},
   "source": [
    "Should we  remove rows related to 6 days at the beginning of September?"
   ]
  },
  {
   "cell_type": "code",
   "execution_count": null,
   "metadata": {},
   "outputs": [],
   "source": []
  },
  {
   "cell_type": "code",
   "execution_count": null,
   "metadata": {},
   "outputs": [],
   "source": [
    "x=np.c_[dt0[\"FBI Code\"]]\n",
    "y=np.c_[dt0[\"Day_of_Month\"]]\n",
    "dt0.plot(kind='scatter', x=\"FBI Code\", y='Day_of_Month', alpha=(0.4),figsize=(30,5))\n",
    "plt.show()"
   ]
  },
  {
   "cell_type": "code",
   "execution_count": null,
   "metadata": {},
   "outputs": [],
   "source": [
    "x=np.c_[dt0[\"FBI Code\"]]\n",
    "y=np.c_[dt0[\"Date\"]]\n",
    "dt0.plot(kind='scatter', x=\"FBI Code\", y='Date', alpha=(0.4),figsize=(30,5))\n",
    "plt.show()"
   ]
  },
  {
   "cell_type": "code",
   "execution_count": null,
   "metadata": {
    "colab": {
     "base_uri": "https://localhost:8080/",
     "height": 274
    },
    "id": "pUFov-YgYBdb",
    "outputId": "416e399a-86a8-4272-a3ae-18ca8193b30c"
   },
   "outputs": [],
   "source": [
    "codt1=dt1[dt1[\"Date\"]==6]\n",
    "codt1.head(3)"
   ]
  },
  {
   "cell_type": "code",
   "execution_count": null,
   "metadata": {
    "colab": {
     "base_uri": "https://localhost:8080/",
     "height": 1000
    },
    "id": "MS-iYcZWYVyo",
    "outputId": "229df909-5b54-47ad-bede-50687a3068f4"
   },
   "outputs": [],
   "source": [
    "codt1.plot(kind='scatter',x=\"X Coordinate\", y=\"Y Coordinate\", alpha=(0.4),figsize=(20,20),c=\"Date\", cmap=plt.get_cmap(\"Blues\"), colorbar=True, sharex=False)\n",
    "plt.legend()"
   ]
  },
  {
   "cell_type": "code",
   "execution_count": null,
   "metadata": {
    "colab": {
     "base_uri": "https://localhost:8080/",
     "height": 774
    },
    "id": "2sKbUGM4VDaV",
    "outputId": "b118a7fd-c534-464f-d37e-c660481091a1"
   },
   "outputs": [],
   "source": [
    "dt2 = DataFrame.copy()\n",
    "dt2['Date'] = pd.to_datetime(dt2['Date'], format=\"%m/%d/%Y %I:%M:%S %p\").dt.day_name()\n",
    "dt2"
   ]
  },
  {
   "cell_type": "code",
   "execution_count": null,
   "metadata": {
    "colab": {
     "base_uri": "https://localhost:8080/",
     "height": 151
    },
    "id": "TfMKvlKtX4Fw",
    "outputId": "e7da2767-c98a-4e26-d22b-ba1f0805b1a9"
   },
   "outputs": [],
   "source": [
    "dt2[\"Date\"].value_counts()"
   ]
  },
  {
   "cell_type": "code",
   "execution_count": null,
   "metadata": {
    "colab": {
     "base_uri": "https://localhost:8080/",
     "height": 34
    },
    "id": "S00hpLJaVcIM",
    "outputId": "677482bf-ed4c-4d21-c785-9c3bc2264f2e"
   },
   "outputs": [],
   "source": [
    "DataFrame.shape[0]"
   ]
  },
  {
   "cell_type": "code",
   "execution_count": null,
   "metadata": {
    "colab": {
     "base_uri": "https://localhost:8080/",
     "height": 34
    },
    "id": "L53xP4c2Vdgk",
    "outputId": "67ed61de-a0a8-44f7-8f59-c67812b6179f"
   },
   "outputs": [],
   "source": [
    "DataFrame.shape[1]"
   ]
  },
  {
   "cell_type": "code",
   "execution_count": null,
   "metadata": {
    "colab": {
     "base_uri": "https://localhost:8080/",
     "height": 218
    },
    "id": "LhdT7EiBVkMj",
    "outputId": "b651a4af-1b90-4073-927b-2416cb765cea"
   },
   "outputs": [],
   "source": [
    "DataFrame[\"Community Area\"].value_counts()"
   ]
  },
  {
   "cell_type": "markdown",
   "metadata": {
    "id": "FGz1wNyMVvPN"
   },
   "source": [
    "Community Area no. 25 appears 8722 time in the data set"
   ]
  },
  {
   "cell_type": "code",
   "execution_count": null,
   "metadata": {
    "colab": {
     "base_uri": "https://localhost:8080/",
     "height": 218
    },
    "id": "KQxh2CCHWkWQ",
    "outputId": "03a2b422-00c0-45a9-f383-d654176096ed"
   },
   "outputs": [],
   "source": [
    "DataFrame.Description.value_counts()"
   ]
  },
  {
   "cell_type": "code",
   "execution_count": null,
   "metadata": {
    "colab": {
     "base_uri": "https://localhost:8080/",
     "height": 218
    },
    "id": "HK9snCIbWna2",
    "outputId": "28de3b13-613c-42b3-9ab0-076d865478f9"
   },
   "outputs": [],
   "source": [
    "DataFrame[\"Location Description\"].value_counts()"
   ]
  },
  {
   "cell_type": "code",
   "execution_count": null,
   "metadata": {
    "colab": {
     "base_uri": "https://localhost:8080/",
     "height": 892
    },
    "id": "0hLMMU0ZW0Hu",
    "outputId": "3bc66070-a4a7-4a47-be03-53f3e53d7057"
   },
   "outputs": [],
   "source": [
    "DataFrame.sort_values(by=[\"Location Description\", \"Primary Type\"])"
   ]
  },
  {
   "cell_type": "code",
   "execution_count": null,
   "metadata": {
    "colab": {
     "base_uri": "https://localhost:8080/",
     "height": 791
    },
    "id": "qrmtz8IWW8FI",
    "outputId": "a0ec2be7-48e7-45d2-fb1b-2ff3d086a75d"
   },
   "outputs": [],
   "source": [
    "DataFrame[(DataFrame[\"Primary Type\"]==\"ASSAULT\")&(DataFrame[\"Location Description\"]==\"STREET\")]"
   ]
  },
  {
   "cell_type": "code",
   "execution_count": null,
   "metadata": {
    "colab": {
     "base_uri": "https://localhost:8080/",
     "height": 1000
    },
    "id": "bwzYKWMPXF-4",
    "outputId": "ea689718-543d-4cbb-fa2b-7f54c7683003"
   },
   "outputs": [],
   "source": [
    "DataFrame.plot(kind='scatter',x=\"X Coordinate\", y=\"Y Coordinate\", alpha=(0.4),figsize=(50,50),c=\"Community Area\", cmap=plt.get_cmap(\"jet\"), colorbar=True, sharex=False)\n",
    "plt.legend()"
   ]
  },
  {
   "cell_type": "code",
   "execution_count": null,
   "metadata": {
    "colab": {
     "base_uri": "https://localhost:8080/",
     "height": 650
    },
    "id": "B2U7OADLXQbY",
    "outputId": "59da72c6-cfc8-4fcf-b59e-72a3ad163fc3"
   },
   "outputs": [],
   "source": [
    "co.plot(kind='scatter',x=\"X Coordinate\", y=\"Y Coordinate\", alpha=(0.4),figsize=(10,10),c=\"Community Area\", cmap=plt.get_cmap(\"Blues\"), colorbar=True, sharex=False)\n",
    "plt.legend()"
   ]
  },
  {
   "cell_type": "markdown",
   "metadata": {
    "id": "AzvcbZHNXZPf"
   },
   "source": [
    "Plot histogram that shows per district the number of total crimes.\n",
    "Next step would be to create a testing data frame , from 20% of the dataset.\n",
    "Need to make sure that it would resemble  the distribution of all DataSet"
   ]
  },
  {
   "cell_type": "markdown",
   "metadata": {},
   "source": [
    "29/10/20 START"
   ]
  },
  {
   "cell_type": "code",
   "execution_count": null,
   "metadata": {},
   "outputs": [],
   "source": [
    "dt0.describe()"
   ]
  },
  {
   "cell_type": "code",
   "execution_count": null,
   "metadata": {},
   "outputs": [],
   "source": [
    "corrMatrix= dt0.corr()\n",
    "corrMatrix[\"FBI Code\"].sort_values(ascending=True)"
   ]
  },
  {
   "cell_type": "markdown",
   "metadata": {},
   "source": [
    "29/10/20 What is the most common crime  (6 is the most common crime which is theft)"
   ]
  },
  {
   "cell_type": "code",
   "execution_count": null,
   "metadata": {},
   "outputs": [],
   "source": [
    "dt0[\"Community Area\"].value_counts()"
   ]
  },
  {
   "cell_type": "code",
   "execution_count": null,
   "metadata": {},
   "outputs": [],
   "source": [
    "dt0[\"FBI Code\"].value_counts()"
   ]
  },
  {
   "cell_type": "code",
   "execution_count": null,
   "metadata": {},
   "outputs": [],
   "source": [
    "for6=dt0[dt0[\"FBI Code\"]==6]\n",
    "for6"
   ]
  },
  {
   "cell_type": "code",
   "execution_count": null,
   "metadata": {},
   "outputs": [],
   "source": [
    "for6[\"Community Area\"].value_counts()"
   ]
  },
  {
   "cell_type": "markdown",
   "metadata": {},
   "source": [
    "From above area 8 has the highest theft crime. I expected based on below linear regression that 36 area would be the one"
   ]
  },
  {
   "cell_type": "code",
   "execution_count": null,
   "metadata": {},
   "outputs": [],
   "source": [
    "x=np.c_[dt0[\"FBI Code\"]]\n",
    "y=np.c_[dt0[\"Community Area\"]]\n",
    "dt0.plot(kind='scatter', x=\"FBI Code\", y='Community Area', alpha=(0.4),figsize=(30,10))\n",
    "plt.show()"
   ]
  },
  {
   "cell_type": "code",
   "execution_count": null,
   "metadata": {},
   "outputs": [],
   "source": [
    "import sklearn.linear_model\n",
    "model = sklearn.linear_model.LinearRegression()\n",
    "model.fit(x, y)"
   ]
  },
  {
   "cell_type": "code",
   "execution_count": null,
   "metadata": {},
   "outputs": [],
   "source": [
    "X_new = [[6]]"
   ]
  },
  {
   "cell_type": "code",
   "execution_count": null,
   "metadata": {},
   "outputs": [],
   "source": [
    "print(model.predict(X_new))"
   ]
  },
  {
   "cell_type": "code",
   "execution_count": null,
   "metadata": {},
   "outputs": [],
   "source": [
    "for36=dt0[dt0[\"Community Area\"]==36]\n",
    "for36"
   ]
  },
  {
   "cell_type": "code",
   "execution_count": null,
   "metadata": {},
   "outputs": [],
   "source": [
    "for36[\"FBI Code\"].value_counts()"
   ]
  },
  {
   "cell_type": "code",
   "execution_count": null,
   "metadata": {},
   "outputs": [],
   "source": [
    "dt0[\"FBI Code\"].value_counts()"
   ]
  },
  {
   "cell_type": "code",
   "execution_count": null,
   "metadata": {},
   "outputs": [],
   "source": [
    "X_new = [[27]]"
   ]
  },
  {
   "cell_type": "code",
   "execution_count": null,
   "metadata": {},
   "outputs": [],
   "source": [
    "print(model.predict(X_new))"
   ]
  },
  {
   "cell_type": "markdown",
   "metadata": {},
   "source": [
    "29/10/20 END"
   ]
  },
  {
   "cell_type": "code",
   "execution_count": null,
   "metadata": {
    "colab": {
     "base_uri": "https://localhost:8080/",
     "height": 339
    },
    "id": "AvPqvEz6Xac4",
    "outputId": "af57df2e-7e97-4fe8-995c-0ebde86ed9a7"
   },
   "outputs": [],
   "source": [
    "DataFrame[\"Community Area\"].value_counts().plot(kind='bar',figsize=(20,5))"
   ]
  },
  {
   "cell_type": "code",
   "execution_count": null,
   "metadata": {
    "id": "B7rAYBjdYqHX"
   },
   "outputs": [],
   "source": [
    "from sklearn.model_selection import train_test_split\n",
    "train_frame, test_frame = train_test_split(DataFrame)"
   ]
  },
  {
   "cell_type": "code",
   "execution_count": null,
   "metadata": {
    "colab": {
     "base_uri": "https://localhost:8080/",
     "height": 339
    },
    "id": "U3lO1OmdYuMK",
    "outputId": "ae6b7aed-685d-4d42-85f3-4210ef9c5581"
   },
   "outputs": [],
   "source": [
    "test_frame[\"Community Area\"].value_counts().plot(kind='bar',figsize=(20,5))"
   ]
  },
  {
   "cell_type": "code",
   "execution_count": null,
   "metadata": {
    "colab": {
     "base_uri": "https://localhost:8080/",
     "height": 339
    },
    "id": "qRRQp5CNYweA",
    "outputId": "10979a97-7159-49c5-c789-c6a2ff3d2031"
   },
   "outputs": [],
   "source": [
    "train_frame[\"Community Area\"].value_counts().plot(kind='bar',figsize=(20,5))"
   ]
  },
  {
   "cell_type": "code",
   "execution_count": null,
   "metadata": {
    "colab": {
     "base_uri": "https://localhost:8080/",
     "height": 34
    },
    "id": "uzBkfuV5Y4aw",
    "outputId": "efbf2734-c605-422e-cb1b-fcac069fcf8e"
   },
   "outputs": [],
   "source": [
    "len(train_frame)"
   ]
  },
  {
   "cell_type": "code",
   "execution_count": null,
   "metadata": {
    "colab": {
     "base_uri": "https://localhost:8080/",
     "height": 34
    },
    "id": "2Fsq6dH3Y7gB",
    "outputId": "646430b4-1811-4d5e-9ffe-7cc34c13762a"
   },
   "outputs": [],
   "source": [
    "len(test_frame)"
   ]
  },
  {
   "cell_type": "markdown",
   "metadata": {
    "id": "6vng9JS8jqFB"
   },
   "source": [
    "Convert \"FBI Code\" Hexa string to numeric value"
   ]
  },
  {
   "cell_type": "code",
   "execution_count": null,
   "metadata": {
    "colab": {
     "base_uri": "https://localhost:8080/",
     "height": 774
    },
    "id": "iy66DudyjrR2",
    "outputId": "ea65c275-2b15-41e3-9513-1e0642754d8c"
   },
   "outputs": [],
   "source": [
    "dt1['FBI Code'] = (DataFrame[\"FBI Code\"]).apply(lambda x: int(x, 16))\n",
    "dt1"
   ]
  },
  {
   "cell_type": "code",
   "execution_count": null,
   "metadata": {
    "id": "GkfXrTdx3XP7"
   },
   "outputs": [],
   "source": [
    "from sklearn import linear_model\n",
    "from sklearn.utils import shuffle"
   ]
  },
  {
   "cell_type": "code",
   "execution_count": null,
   "metadata": {
    "id": "5pVeIxAN3ImT"
   },
   "outputs": [],
   "source": [
    "dt0=dt0[[\"Date\",\"Arrest\",\"Domestic\",\"Ward\",\"Community Area\",\"FBI Code\"]]\n",
    "dt0"
   ]
  },
  {
   "cell_type": "code",
   "execution_count": null,
   "metadata": {},
   "outputs": [],
   "source": [
    "dt0.info()"
   ]
  },
  {
   "cell_type": "code",
   "execution_count": null,
   "metadata": {},
   "outputs": [],
   "source": [
    "dt0[(dt0[\"Date\"]==\"NaN\")]"
   ]
  },
  {
   "cell_type": "code",
   "execution_count": null,
   "metadata": {},
   "outputs": [],
   "source": [
    "predict=\"FBI Code\"\n",
    "X=np.array(dt0.drop([predict],1))"
   ]
  },
  {
   "cell_type": "code",
   "execution_count": null,
   "metadata": {},
   "outputs": [],
   "source": [
    "type(X)"
   ]
  },
  {
   "cell_type": "code",
   "execution_count": null,
   "metadata": {},
   "outputs": [],
   "source": [
    "Y=np.array(dt0[predict])"
   ]
  },
  {
   "cell_type": "code",
   "execution_count": null,
   "metadata": {},
   "outputs": [],
   "source": [
    "from sklearn.model_selection import train_test_split\n",
    "from sklearn.linear_model import LinearRegression\n",
    "regressor = LinearRegression()"
   ]
  },
  {
   "cell_type": "code",
   "execution_count": null,
   "metadata": {},
   "outputs": [],
   "source": [
    "x_train, x_test, y_train, y_test = sklearn.model_selection.train_test_split(X,Y,test_size=0.1)"
   ]
  },
  {
   "cell_type": "code",
   "execution_count": null,
   "metadata": {},
   "outputs": [],
   "source": [
    "linear=linear_model.LinearRegression()"
   ]
  },
  {
   "cell_type": "code",
   "execution_count": null,
   "metadata": {},
   "outputs": [],
   "source": [
    "dt0"
   ]
  },
  {
   "cell_type": "code",
   "execution_count": null,
   "metadata": {},
   "outputs": [],
   "source": [
    "def clean_dataset(dt0):\n",
    "    assert isinstance(dt0, pd.DataFrame), \"df needs to be a pd.DataFrame\"\n",
    "    dt0.dropna(inplace=True)\n",
    "    indices_to_keep = ~dt0.isin([np.nan, np.inf, -np.inf]).any(1)\n",
    "    return dt0[indices_to_keep].astype(np.float64)"
   ]
  },
  {
   "cell_type": "code",
   "execution_count": null,
   "metadata": {},
   "outputs": [],
   "source": [
    "dt0.dropna()"
   ]
  },
  {
   "cell_type": "code",
   "execution_count": null,
   "metadata": {},
   "outputs": [],
   "source": []
  }
 ],
 "metadata": {
  "accelerator": "GPU",
  "colab": {
   "collapsed_sections": [],
   "name": "ChicagoCrime-ML.ipynb",
   "provenance": []
  },
  "kernelspec": {
   "display_name": "Python 3",
   "language": "python",
   "name": "python3"
  },
  "language_info": {
   "codemirror_mode": {
    "name": "ipython",
    "version": 3
   },
   "file_extension": ".py",
   "mimetype": "text/x-python",
   "name": "python",
   "nbconvert_exporter": "python",
   "pygments_lexer": "ipython3",
   "version": "3.7.2"
  }
 },
 "nbformat": 4,
 "nbformat_minor": 1
}
